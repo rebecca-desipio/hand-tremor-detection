{
 "cells": [
  {
   "cell_type": "code",
   "execution_count": 1,
   "metadata": {},
   "outputs": [
    {
     "name": "stderr",
     "output_type": "stream",
     "text": [
      "c:\\Users\\Rebecca\\anaconda3\\envs\\MLEnv\\lib\\site-packages\\scipy\\__init__.py:146: UserWarning: A NumPy version >=1.16.5 and <1.23.0 is required for this version of SciPy (detected version 1.23.1\n",
      "  warnings.warn(f\"A NumPy version >={np_minversion} and <{np_maxversion}\"\n"
     ]
    }
   ],
   "source": [
    "# import libraries\n",
    "import numpy as np\n",
    "import pandas as pd\n",
    "import matplotlib.pyplot as plt\n",
    "import os\n",
    "\n",
    "import cv2\n",
    "import PIL\n",
    "\n",
    "# import ML/DL libraries\n",
    "from sklearn.model_selection import train_test_split\n",
    "from sklearn import utils # used to shuffle data\n",
    "\n",
    "from keras.preprocessing.image import ImageDataGenerator # used for image augmentation\n",
    "\n",
    "\n",
    "import tensorflow as tf\n",
    "# used for building and training a new model\n",
    "from keras import Sequential\n",
    "from keras.layers import Conv2D, MaxPool2D, Flatten, Dense, Dropout, GlobalAveragePooling2D\n",
    "from keras.applications import VGG16\n",
    "\n",
    "# import functions from other python files\n",
    "from code_files.imagePreprocessing import * \n",
    "from code_files.plottingFunctions import *"
   ]
  },
  {
   "cell_type": "code",
   "execution_count": 2,
   "metadata": {},
   "outputs": [],
   "source": [
    "# disabling the GPU allows the model here to run\n",
    "os.environ['CUDA_VISIBLE_DEVICES'] = '-1' "
   ]
  },
  {
   "cell_type": "code",
   "execution_count": 3,
   "metadata": {},
   "outputs": [],
   "source": [
    "# preprocess data \n",
    "dfTrain, dfVal, dfTest = importSetImages('datasets/spiral_data')\n",
    "train_imgNames, trainLbl, val_imgNames, valLbl, test_imgNames, testLbl = dfTrain['images'], dfTrain['label'], dfVal['images'], dfVal['label'], dfTest['images'], dfTest['label']"
   ]
  },
  {
   "cell_type": "code",
   "execution_count": 4,
   "metadata": {},
   "outputs": [],
   "source": [
    "# function to imgAug preprocessing, need to get data in desired form\n",
    "def imgAug_preprocessing(train_feature, val_feature, test_feature):\n",
    "    # for each of the data sets (train, val, and test), convert from rgb to grayscale\n",
    "    # then convert to an array of pixels [0-255] --> this returns an array of size (256,256,1)\n",
    "    # resize to (128x128) for faster image processing and a more efficient model, data doesn't get lost in this resize\n",
    "    # need to account for the batch dimension (used in tensorflow), so expand dim to shape (1,128,128,1)\n",
    "    def img2array(dataset):\n",
    "        storage_array = []\n",
    "        for img_path in dataset:\n",
    "            image = cv2.imread(img_path)\n",
    "            # imgArray = np.expand_dims(imgArray, axis=0) # if keeping rgb, use axis=0\n",
    "\n",
    "            # store in array\n",
    "            storage_array.append(image)\n",
    "        \n",
    "        return storage_array\n",
    "\n",
    "    train_array = img2array(train_feature)\n",
    "    val_array   = img2array(val_feature)\n",
    "    test_array  = img2array(test_feature)\n",
    "\n",
    "    return train_array, val_array, test_array"
   ]
  },
  {
   "cell_type": "code",
   "execution_count": 5,
   "metadata": {},
   "outputs": [],
   "source": [
    "train, val, test = imgAug_preprocessing(train_imgNames, val_imgNames, test_imgNames)"
   ]
  },
  {
   "cell_type": "code",
   "execution_count": 6,
   "metadata": {},
   "outputs": [],
   "source": [
    "# convert labels to categorical for training model\n",
    "trainLblAug = tf.keras.utils.to_categorical(np.array(trainLbl))\n",
    "valLblAug = tf.keras.utils.to_categorical(np.array(valLbl))"
   ]
  },
  {
   "cell_type": "code",
   "execution_count": 21,
   "metadata": {},
   "outputs": [
    {
     "name": "stdout",
     "output_type": "stream",
     "text": [
      "Model: \"vgg16\"\n",
      "_________________________________________________________________\n",
      " Layer (type)                Output Shape              Param #   \n",
      "=================================================================\n",
      " input_2 (InputLayer)        [(None, 128, 128, 3)]     0         \n",
      "                                                                 \n",
      " block1_conv1 (Conv2D)       (None, 128, 128, 64)      1792      \n",
      "                                                                 \n",
      " block1_conv2 (Conv2D)       (None, 128, 128, 64)      36928     \n",
      "                                                                 \n",
      " block1_pool (MaxPooling2D)  (None, 64, 64, 64)        0         \n",
      "                                                                 \n",
      " block2_conv1 (Conv2D)       (None, 64, 64, 128)       73856     \n",
      "                                                                 \n",
      " block2_conv2 (Conv2D)       (None, 64, 64, 128)       147584    \n",
      "                                                                 \n",
      " block2_pool (MaxPooling2D)  (None, 32, 32, 128)       0         \n",
      "                                                                 \n",
      " block3_conv1 (Conv2D)       (None, 32, 32, 256)       295168    \n",
      "                                                                 \n",
      " block3_conv2 (Conv2D)       (None, 32, 32, 256)       590080    \n",
      "                                                                 \n",
      " block3_conv3 (Conv2D)       (None, 32, 32, 256)       590080    \n",
      "                                                                 \n",
      " block3_pool (MaxPooling2D)  (None, 16, 16, 256)       0         \n",
      "                                                                 \n",
      " block4_conv1 (Conv2D)       (None, 16, 16, 512)       1180160   \n",
      "                                                                 \n",
      " block4_conv2 (Conv2D)       (None, 16, 16, 512)       2359808   \n",
      "                                                                 \n",
      " block4_conv3 (Conv2D)       (None, 16, 16, 512)       2359808   \n",
      "                                                                 \n",
      " block4_pool (MaxPooling2D)  (None, 8, 8, 512)         0         \n",
      "                                                                 \n",
      " block5_conv1 (Conv2D)       (None, 8, 8, 512)         2359808   \n",
      "                                                                 \n",
      " block5_conv2 (Conv2D)       (None, 8, 8, 512)         2359808   \n",
      "                                                                 \n",
      " block5_conv3 (Conv2D)       (None, 8, 8, 512)         2359808   \n",
      "                                                                 \n",
      " block5_pool (MaxPooling2D)  (None, 4, 4, 512)         0         \n",
      "                                                                 \n",
      "=================================================================\n",
      "Total params: 14,714,688\n",
      "Trainable params: 14,714,688\n",
      "Non-trainable params: 0\n",
      "_________________________________________________________________\n"
     ]
    }
   ],
   "source": [
    "base = VGG16(weights='imagenet', include_top=False,input_shape=(128,128,3))\n",
    "\n",
    "base.summary()"
   ]
  },
  {
   "cell_type": "code",
   "execution_count": 1,
   "metadata": {},
   "outputs": [],
   "source": [
    "# extract features\n",
    "\n",
    "def extract_features(imgs, num_imgs):\n",
    "    datagen = ImageDataGenerator(rescale=1./255)\n",
    "    batch_size = 11\n",
    "    \n",
    "    features = np.zeros(shape=(num_imgs, 4,4,512)) # shape equal to output of convolutional base\n",
    "    lbls = np.zeros(shape=(num_imgs,))\n",
    "\n",
    "    # preprocess data\n",
    "    generator = datagen.flow_from_directory(imgs, target_size=(128,128), class_mode='categorical', batch_size=batch_size)\n",
    "\n",
    "    print('pause')\n",
    "    # Pass data through convolutional base\n",
    "    i = 0\n",
    "    for inputs_batch, labels_batch in generator:\n",
    "        features_batch = base.predict(inputs_batch)\n",
    "        features[i * batch_size: (i + 1) * batch_size] = features_batch\n",
    "        lbls[i * batch_size: (i + 1) * batch_size] = labels_batch\n",
    "        i += 1\n",
    "        if i * batch_size >= num_imgs:\n",
    "            break\n",
    "    return features, lbls"
   ]
  },
  {
   "cell_type": "code",
   "execution_count": 2,
   "metadata": {},
   "outputs": [
    {
     "ename": "NameError",
     "evalue": "name 'ImageDataGenerator' is not defined",
     "output_type": "error",
     "traceback": [
      "\u001b[1;31m---------------------------------------------------------------------------\u001b[0m",
      "\u001b[1;31mNameError\u001b[0m                                 Traceback (most recent call last)",
      "\u001b[1;32mc:\\Users\\Rebecca\\Documents\\Virginia_Tech\\Research\\git-repos\\hand-tremor-detection\\spiral-classifier\\feature_classifier.ipynb Cell 9\u001b[0m in \u001b[0;36m<module>\u001b[1;34m\u001b[0m\n\u001b[1;32m----> <a href='vscode-notebook-cell:/c%3A/Users/Rebecca/Documents/Virginia_Tech/Research/git-repos/hand-tremor-detection/spiral-classifier/feature_classifier.ipynb#X11sZmlsZQ%3D%3D?line=0'>1</a>\u001b[0m train_feat, train_lbls \u001b[39m=\u001b[39m extract_features(\u001b[39m'\u001b[39;49m\u001b[39mdatasets/spiral_data/train\u001b[39;49m\u001b[39m'\u001b[39;49m, \u001b[39m71\u001b[39;49m)\n\u001b[0;32m      <a href='vscode-notebook-cell:/c%3A/Users/Rebecca/Documents/Virginia_Tech/Research/git-repos/hand-tremor-detection/spiral-classifier/feature_classifier.ipynb#X11sZmlsZQ%3D%3D?line=1'>2</a>\u001b[0m val_feat, val_lbls \u001b[39m=\u001b[39m extract_features(\u001b[39m'\u001b[39m\u001b[39mdatasets/spiral_data/val\u001b[39m\u001b[39m'\u001b[39m, \u001b[39m15\u001b[39m)\n",
      "\u001b[1;32mc:\\Users\\Rebecca\\Documents\\Virginia_Tech\\Research\\git-repos\\hand-tremor-detection\\spiral-classifier\\feature_classifier.ipynb Cell 9\u001b[0m in \u001b[0;36mextract_features\u001b[1;34m(imgs, num_imgs)\u001b[0m\n\u001b[0;32m      <a href='vscode-notebook-cell:/c%3A/Users/Rebecca/Documents/Virginia_Tech/Research/git-repos/hand-tremor-detection/spiral-classifier/feature_classifier.ipynb#X11sZmlsZQ%3D%3D?line=2'>3</a>\u001b[0m \u001b[39mdef\u001b[39;00m \u001b[39mextract_features\u001b[39m(imgs, num_imgs):\n\u001b[1;32m----> <a href='vscode-notebook-cell:/c%3A/Users/Rebecca/Documents/Virginia_Tech/Research/git-repos/hand-tremor-detection/spiral-classifier/feature_classifier.ipynb#X11sZmlsZQ%3D%3D?line=3'>4</a>\u001b[0m     datagen \u001b[39m=\u001b[39m ImageDataGenerator(rescale\u001b[39m=\u001b[39m\u001b[39m1.\u001b[39m\u001b[39m/\u001b[39m\u001b[39m255\u001b[39m)\n\u001b[0;32m      <a href='vscode-notebook-cell:/c%3A/Users/Rebecca/Documents/Virginia_Tech/Research/git-repos/hand-tremor-detection/spiral-classifier/feature_classifier.ipynb#X11sZmlsZQ%3D%3D?line=4'>5</a>\u001b[0m     batch_size \u001b[39m=\u001b[39m \u001b[39m11\u001b[39m\n\u001b[0;32m      <a href='vscode-notebook-cell:/c%3A/Users/Rebecca/Documents/Virginia_Tech/Research/git-repos/hand-tremor-detection/spiral-classifier/feature_classifier.ipynb#X11sZmlsZQ%3D%3D?line=6'>7</a>\u001b[0m     features \u001b[39m=\u001b[39m np\u001b[39m.\u001b[39mzeros(shape\u001b[39m=\u001b[39m(num_imgs, \u001b[39m4\u001b[39m,\u001b[39m4\u001b[39m,\u001b[39m512\u001b[39m)) \u001b[39m# shape equal to output of convolutional base\u001b[39;00m\n",
      "\u001b[1;31mNameError\u001b[0m: name 'ImageDataGenerator' is not defined"
     ]
    }
   ],
   "source": [
    "train_feat, train_lbls = extract_features('datasets/spiral_data/train', 71)\n",
    "val_feat, val_lbls = extract_features('datasets/spiral_data/val', 15)\n",
    "# test_feat, test_lbls = extract_features('datasets/spiral_data/test', 16)"
   ]
  },
  {
   "cell_type": "code",
   "execution_count": 153,
   "metadata": {},
   "outputs": [
    {
     "name": "stdout",
     "output_type": "stream",
     "text": [
      "Model: \"sequential_27\"\n",
      "_________________________________________________________________\n",
      " Layer (type)                Output Shape              Param #   \n",
      "=================================================================\n",
      " global_average_pooling2d_27  (None, 512)              0         \n",
      "  (GlobalAveragePooling2D)                                       \n",
      "                                                                 \n",
      " dense_27 (Dense)            (None, 2)                 1026      \n",
      "                                                                 \n",
      "=================================================================\n",
      "Total params: 1,026\n",
      "Trainable params: 1,026\n",
      "Non-trainable params: 0\n",
      "_________________________________________________________________\n"
     ]
    }
   ],
   "source": [
    "epochs = 100\n",
    "\n",
    "model = Sequential()\n",
    "model.add(GlobalAveragePooling2D(input_shape=(4,4,512)))\n",
    "model.add(Dense(2, activation='softmax'))\n",
    "model.summary()"
   ]
  },
  {
   "cell_type": "code",
   "execution_count": 137,
   "metadata": {},
   "outputs": [
    {
     "name": "stdout",
     "output_type": "stream",
     "text": [
      "Epoch 1/100\n",
      "12/12 [==============================] - 1s 19ms/step - loss: 0.7494 - accuracy: 0.4930 - val_loss: 0.7184 - val_accuracy: 0.5333\n",
      "Epoch 2/100\n",
      "12/12 [==============================] - 0s 5ms/step - loss: 0.7416 - accuracy: 0.4930 - val_loss: 0.7118 - val_accuracy: 0.5333\n",
      "Epoch 3/100\n",
      "12/12 [==============================] - 0s 5ms/step - loss: 0.7312 - accuracy: 0.4930 - val_loss: 0.7075 - val_accuracy: 0.5333\n",
      "Epoch 4/100\n",
      "12/12 [==============================] - 0s 5ms/step - loss: 0.7247 - accuracy: 0.4930 - val_loss: 0.7035 - val_accuracy: 0.5333\n",
      "Epoch 5/100\n",
      "12/12 [==============================] - 0s 4ms/step - loss: 0.7190 - accuracy: 0.4930 - val_loss: 0.6999 - val_accuracy: 0.5333\n",
      "Epoch 6/100\n",
      "12/12 [==============================] - 0s 5ms/step - loss: 0.7154 - accuracy: 0.4930 - val_loss: 0.6968 - val_accuracy: 0.5333\n",
      "Epoch 7/100\n",
      "12/12 [==============================] - 0s 5ms/step - loss: 0.7097 - accuracy: 0.5211 - val_loss: 0.6939 - val_accuracy: 0.6000\n",
      "Epoch 8/100\n",
      "12/12 [==============================] - 0s 5ms/step - loss: 0.7062 - accuracy: 0.4789 - val_loss: 0.6909 - val_accuracy: 0.6000\n",
      "Epoch 9/100\n",
      "12/12 [==============================] - 0s 5ms/step - loss: 0.7021 - accuracy: 0.5211 - val_loss: 0.6871 - val_accuracy: 0.6667\n",
      "Epoch 10/100\n",
      "12/12 [==============================] - 0s 4ms/step - loss: 0.6983 - accuracy: 0.5352 - val_loss: 0.6835 - val_accuracy: 0.6667\n",
      "Epoch 11/100\n",
      "12/12 [==============================] - 0s 5ms/step - loss: 0.6946 - accuracy: 0.5070 - val_loss: 0.6811 - val_accuracy: 0.5333\n",
      "Epoch 12/100\n",
      "12/12 [==============================] - 0s 5ms/step - loss: 0.6914 - accuracy: 0.4930 - val_loss: 0.6783 - val_accuracy: 0.6000\n",
      "Epoch 13/100\n",
      "12/12 [==============================] - 0s 4ms/step - loss: 0.6876 - accuracy: 0.5352 - val_loss: 0.6749 - val_accuracy: 0.6000\n",
      "Epoch 14/100\n",
      "12/12 [==============================] - 0s 4ms/step - loss: 0.6849 - accuracy: 0.5493 - val_loss: 0.6722 - val_accuracy: 0.5333\n",
      "Epoch 15/100\n",
      "12/12 [==============================] - 0s 4ms/step - loss: 0.6811 - accuracy: 0.5493 - val_loss: 0.6679 - val_accuracy: 0.6667\n",
      "Epoch 16/100\n",
      "12/12 [==============================] - 0s 4ms/step - loss: 0.6779 - accuracy: 0.5915 - val_loss: 0.6645 - val_accuracy: 0.7333\n",
      "Epoch 17/100\n",
      "12/12 [==============================] - 0s 4ms/step - loss: 0.6749 - accuracy: 0.6338 - val_loss: 0.6608 - val_accuracy: 0.8000\n",
      "Epoch 18/100\n",
      "12/12 [==============================] - 0s 4ms/step - loss: 0.6716 - accuracy: 0.6761 - val_loss: 0.6585 - val_accuracy: 0.8000\n",
      "Epoch 19/100\n",
      "12/12 [==============================] - 0s 4ms/step - loss: 0.6685 - accuracy: 0.6901 - val_loss: 0.6555 - val_accuracy: 0.8000\n",
      "Epoch 20/100\n",
      "12/12 [==============================] - 0s 4ms/step - loss: 0.6655 - accuracy: 0.6901 - val_loss: 0.6518 - val_accuracy: 0.8667\n",
      "Epoch 21/100\n",
      "12/12 [==============================] - 0s 6ms/step - loss: 0.6633 - accuracy: 0.7183 - val_loss: 0.6477 - val_accuracy: 0.8667\n",
      "Epoch 22/100\n",
      "12/12 [==============================] - 0s 3ms/step - loss: 0.6596 - accuracy: 0.7183 - val_loss: 0.6450 - val_accuracy: 0.8667\n",
      "Epoch 23/100\n",
      "12/12 [==============================] - 0s 4ms/step - loss: 0.6570 - accuracy: 0.7183 - val_loss: 0.6430 - val_accuracy: 0.8667\n",
      "Epoch 24/100\n",
      "12/12 [==============================] - 0s 4ms/step - loss: 0.6535 - accuracy: 0.7465 - val_loss: 0.6394 - val_accuracy: 0.8667\n",
      "Epoch 25/100\n",
      "12/12 [==============================] - 0s 4ms/step - loss: 0.6512 - accuracy: 0.7465 - val_loss: 0.6359 - val_accuracy: 0.8667\n",
      "Epoch 26/100\n",
      "12/12 [==============================] - 0s 3ms/step - loss: 0.6486 - accuracy: 0.7606 - val_loss: 0.6336 - val_accuracy: 0.8000\n",
      "Epoch 27/100\n",
      "12/12 [==============================] - 0s 4ms/step - loss: 0.6453 - accuracy: 0.7606 - val_loss: 0.6311 - val_accuracy: 0.8667\n",
      "Epoch 28/100\n",
      "12/12 [==============================] - 0s 4ms/step - loss: 0.6428 - accuracy: 0.7606 - val_loss: 0.6279 - val_accuracy: 0.8000\n",
      "Epoch 29/100\n",
      "12/12 [==============================] - 0s 4ms/step - loss: 0.6398 - accuracy: 0.7606 - val_loss: 0.6250 - val_accuracy: 0.8000\n",
      "Epoch 30/100\n",
      "12/12 [==============================] - 0s 4ms/step - loss: 0.6374 - accuracy: 0.7746 - val_loss: 0.6226 - val_accuracy: 0.8667\n",
      "Epoch 31/100\n",
      "12/12 [==============================] - 0s 4ms/step - loss: 0.6346 - accuracy: 0.7606 - val_loss: 0.6199 - val_accuracy: 0.8667\n",
      "Epoch 32/100\n",
      "12/12 [==============================] - 0s 4ms/step - loss: 0.6324 - accuracy: 0.7606 - val_loss: 0.6172 - val_accuracy: 0.8667\n",
      "Epoch 33/100\n",
      "12/12 [==============================] - 0s 4ms/step - loss: 0.6298 - accuracy: 0.7324 - val_loss: 0.6142 - val_accuracy: 0.8000\n",
      "Epoch 34/100\n",
      "12/12 [==============================] - 0s 4ms/step - loss: 0.6279 - accuracy: 0.7465 - val_loss: 0.6108 - val_accuracy: 0.8000\n",
      "Epoch 35/100\n",
      "12/12 [==============================] - 0s 4ms/step - loss: 0.6250 - accuracy: 0.7465 - val_loss: 0.6089 - val_accuracy: 0.8000\n",
      "Epoch 36/100\n",
      "12/12 [==============================] - 0s 4ms/step - loss: 0.6224 - accuracy: 0.7324 - val_loss: 0.6067 - val_accuracy: 0.8667\n",
      "Epoch 37/100\n",
      "12/12 [==============================] - 0s 4ms/step - loss: 0.6200 - accuracy: 0.7465 - val_loss: 0.6042 - val_accuracy: 0.8667\n",
      "Epoch 38/100\n",
      "12/12 [==============================] - 0s 4ms/step - loss: 0.6176 - accuracy: 0.7465 - val_loss: 0.6011 - val_accuracy: 0.8000\n",
      "Epoch 39/100\n",
      "12/12 [==============================] - 0s 4ms/step - loss: 0.6155 - accuracy: 0.7465 - val_loss: 0.5992 - val_accuracy: 0.8667\n",
      "Epoch 40/100\n",
      "12/12 [==============================] - 0s 4ms/step - loss: 0.6129 - accuracy: 0.7465 - val_loss: 0.5969 - val_accuracy: 0.8667\n",
      "Epoch 41/100\n",
      "12/12 [==============================] - 0s 4ms/step - loss: 0.6111 - accuracy: 0.7465 - val_loss: 0.5949 - val_accuracy: 0.8667\n",
      "Epoch 42/100\n",
      "12/12 [==============================] - 0s 4ms/step - loss: 0.6087 - accuracy: 0.7465 - val_loss: 0.5929 - val_accuracy: 0.8667\n",
      "Epoch 43/100\n",
      "12/12 [==============================] - 0s 4ms/step - loss: 0.6073 - accuracy: 0.7465 - val_loss: 0.5912 - val_accuracy: 0.8667\n",
      "Epoch 44/100\n",
      "12/12 [==============================] - 0s 4ms/step - loss: 0.6041 - accuracy: 0.7465 - val_loss: 0.5870 - val_accuracy: 0.8000\n",
      "Epoch 45/100\n",
      "12/12 [==============================] - 0s 5ms/step - loss: 0.6022 - accuracy: 0.7465 - val_loss: 0.5846 - val_accuracy: 0.8000\n",
      "Epoch 46/100\n",
      "12/12 [==============================] - 0s 6ms/step - loss: 0.6001 - accuracy: 0.7465 - val_loss: 0.5817 - val_accuracy: 0.8000\n",
      "Epoch 47/100\n",
      "12/12 [==============================] - 0s 6ms/step - loss: 0.5984 - accuracy: 0.7465 - val_loss: 0.5804 - val_accuracy: 0.8667\n",
      "Epoch 48/100\n",
      "12/12 [==============================] - 0s 4ms/step - loss: 0.5963 - accuracy: 0.7465 - val_loss: 0.5791 - val_accuracy: 0.8667\n",
      "Epoch 49/100\n",
      "12/12 [==============================] - 0s 5ms/step - loss: 0.5942 - accuracy: 0.7465 - val_loss: 0.5776 - val_accuracy: 0.8667\n",
      "Epoch 50/100\n",
      "12/12 [==============================] - 0s 4ms/step - loss: 0.5928 - accuracy: 0.7465 - val_loss: 0.5734 - val_accuracy: 0.8000\n",
      "Epoch 51/100\n",
      "12/12 [==============================] - 0s 5ms/step - loss: 0.5898 - accuracy: 0.7465 - val_loss: 0.5717 - val_accuracy: 0.8000\n",
      "Epoch 52/100\n",
      "12/12 [==============================] - 0s 4ms/step - loss: 0.5880 - accuracy: 0.7465 - val_loss: 0.5696 - val_accuracy: 0.8000\n",
      "Epoch 53/100\n",
      "12/12 [==============================] - 0s 5ms/step - loss: 0.5859 - accuracy: 0.7465 - val_loss: 0.5684 - val_accuracy: 0.8667\n",
      "Epoch 54/100\n",
      "12/12 [==============================] - 0s 4ms/step - loss: 0.5843 - accuracy: 0.7465 - val_loss: 0.5671 - val_accuracy: 0.8667\n",
      "Epoch 55/100\n",
      "12/12 [==============================] - 0s 4ms/step - loss: 0.5824 - accuracy: 0.7465 - val_loss: 0.5649 - val_accuracy: 0.8667\n",
      "Epoch 56/100\n",
      "12/12 [==============================] - 0s 4ms/step - loss: 0.5809 - accuracy: 0.7465 - val_loss: 0.5633 - val_accuracy: 0.8667\n",
      "Epoch 57/100\n",
      "12/12 [==============================] - 0s 5ms/step - loss: 0.5786 - accuracy: 0.7465 - val_loss: 0.5606 - val_accuracy: 0.8667\n",
      "Epoch 58/100\n",
      "12/12 [==============================] - 0s 4ms/step - loss: 0.5772 - accuracy: 0.7465 - val_loss: 0.5578 - val_accuracy: 0.8667\n",
      "Epoch 59/100\n",
      "12/12 [==============================] - 0s 4ms/step - loss: 0.5749 - accuracy: 0.7465 - val_loss: 0.5561 - val_accuracy: 0.8667\n",
      "Epoch 60/100\n",
      "12/12 [==============================] - 0s 4ms/step - loss: 0.5733 - accuracy: 0.7465 - val_loss: 0.5551 - val_accuracy: 0.8667\n",
      "Epoch 61/100\n",
      "12/12 [==============================] - 0s 4ms/step - loss: 0.5715 - accuracy: 0.7465 - val_loss: 0.5531 - val_accuracy: 0.8667\n",
      "Epoch 62/100\n",
      "12/12 [==============================] - 0s 4ms/step - loss: 0.5697 - accuracy: 0.7465 - val_loss: 0.5511 - val_accuracy: 0.8667\n",
      "Epoch 63/100\n",
      "12/12 [==============================] - 0s 5ms/step - loss: 0.5680 - accuracy: 0.7465 - val_loss: 0.5503 - val_accuracy: 0.8667\n",
      "Epoch 64/100\n",
      "12/12 [==============================] - 0s 5ms/step - loss: 0.5667 - accuracy: 0.7465 - val_loss: 0.5484 - val_accuracy: 0.8667\n",
      "Epoch 65/100\n",
      "12/12 [==============================] - 0s 4ms/step - loss: 0.5647 - accuracy: 0.7465 - val_loss: 0.5472 - val_accuracy: 0.8667\n",
      "Epoch 66/100\n",
      "12/12 [==============================] - 0s 4ms/step - loss: 0.5635 - accuracy: 0.7465 - val_loss: 0.5444 - val_accuracy: 0.8667\n",
      "Epoch 67/100\n",
      "12/12 [==============================] - 0s 4ms/step - loss: 0.5614 - accuracy: 0.7465 - val_loss: 0.5429 - val_accuracy: 0.8667\n",
      "Epoch 68/100\n",
      "12/12 [==============================] - 0s 4ms/step - loss: 0.5599 - accuracy: 0.7465 - val_loss: 0.5425 - val_accuracy: 0.8667\n",
      "Epoch 69/100\n",
      "12/12 [==============================] - 0s 4ms/step - loss: 0.5586 - accuracy: 0.7465 - val_loss: 0.5407 - val_accuracy: 0.8667\n",
      "Epoch 70/100\n",
      "12/12 [==============================] - 0s 5ms/step - loss: 0.5568 - accuracy: 0.7465 - val_loss: 0.5389 - val_accuracy: 0.8667\n",
      "Epoch 71/100\n",
      "12/12 [==============================] - 0s 4ms/step - loss: 0.5554 - accuracy: 0.7465 - val_loss: 0.5380 - val_accuracy: 0.8667\n",
      "Epoch 72/100\n",
      "12/12 [==============================] - 0s 4ms/step - loss: 0.5541 - accuracy: 0.7606 - val_loss: 0.5368 - val_accuracy: 0.8667\n",
      "Epoch 73/100\n",
      "12/12 [==============================] - 0s 4ms/step - loss: 0.5522 - accuracy: 0.7465 - val_loss: 0.5339 - val_accuracy: 0.8667\n",
      "Epoch 74/100\n",
      "12/12 [==============================] - 0s 4ms/step - loss: 0.5508 - accuracy: 0.7465 - val_loss: 0.5325 - val_accuracy: 0.8667\n",
      "Epoch 75/100\n",
      "12/12 [==============================] - 0s 4ms/step - loss: 0.5494 - accuracy: 0.7465 - val_loss: 0.5313 - val_accuracy: 0.8667\n",
      "Epoch 76/100\n",
      "12/12 [==============================] - 0s 4ms/step - loss: 0.5479 - accuracy: 0.7465 - val_loss: 0.5298 - val_accuracy: 0.8667\n",
      "Epoch 77/100\n",
      "12/12 [==============================] - 0s 5ms/step - loss: 0.5465 - accuracy: 0.7465 - val_loss: 0.5284 - val_accuracy: 0.8667\n",
      "Epoch 78/100\n",
      "12/12 [==============================] - 0s 4ms/step - loss: 0.5448 - accuracy: 0.7465 - val_loss: 0.5265 - val_accuracy: 0.8667\n",
      "Epoch 79/100\n",
      "12/12 [==============================] - 0s 4ms/step - loss: 0.5437 - accuracy: 0.7465 - val_loss: 0.5246 - val_accuracy: 0.8667\n",
      "Epoch 80/100\n",
      "12/12 [==============================] - 0s 4ms/step - loss: 0.5426 - accuracy: 0.7465 - val_loss: 0.5237 - val_accuracy: 0.8667\n",
      "Epoch 81/100\n",
      "12/12 [==============================] - 0s 4ms/step - loss: 0.5410 - accuracy: 0.7606 - val_loss: 0.5211 - val_accuracy: 0.8667\n",
      "Epoch 82/100\n",
      "12/12 [==============================] - 0s 4ms/step - loss: 0.5396 - accuracy: 0.7606 - val_loss: 0.5191 - val_accuracy: 0.8667\n",
      "Epoch 83/100\n",
      "12/12 [==============================] - 0s 6ms/step - loss: 0.5380 - accuracy: 0.7606 - val_loss: 0.5184 - val_accuracy: 0.8667\n",
      "Epoch 84/100\n",
      "12/12 [==============================] - 0s 4ms/step - loss: 0.5368 - accuracy: 0.7465 - val_loss: 0.5177 - val_accuracy: 0.8667\n",
      "Epoch 85/100\n",
      "12/12 [==============================] - 0s 4ms/step - loss: 0.5356 - accuracy: 0.7465 - val_loss: 0.5170 - val_accuracy: 0.8667\n",
      "Epoch 86/100\n",
      "12/12 [==============================] - 0s 5ms/step - loss: 0.5342 - accuracy: 0.7465 - val_loss: 0.5164 - val_accuracy: 0.8667\n",
      "Epoch 87/100\n",
      "12/12 [==============================] - 0s 4ms/step - loss: 0.5337 - accuracy: 0.7465 - val_loss: 0.5142 - val_accuracy: 0.8667\n",
      "Epoch 88/100\n",
      "12/12 [==============================] - 0s 5ms/step - loss: 0.5315 - accuracy: 0.7465 - val_loss: 0.5133 - val_accuracy: 0.8667\n",
      "Epoch 89/100\n",
      "12/12 [==============================] - 0s 4ms/step - loss: 0.5308 - accuracy: 0.7465 - val_loss: 0.5112 - val_accuracy: 0.8667\n",
      "Epoch 90/100\n",
      "12/12 [==============================] - 0s 4ms/step - loss: 0.5291 - accuracy: 0.7465 - val_loss: 0.5100 - val_accuracy: 0.8667\n",
      "Epoch 91/100\n",
      "12/12 [==============================] - 0s 5ms/step - loss: 0.5277 - accuracy: 0.7465 - val_loss: 0.5095 - val_accuracy: 0.8667\n",
      "Epoch 92/100\n",
      "12/12 [==============================] - 0s 4ms/step - loss: 0.5266 - accuracy: 0.7465 - val_loss: 0.5085 - val_accuracy: 0.8667\n",
      "Epoch 93/100\n",
      "12/12 [==============================] - 0s 4ms/step - loss: 0.5253 - accuracy: 0.7465 - val_loss: 0.5074 - val_accuracy: 0.8667\n",
      "Epoch 94/100\n",
      "12/12 [==============================] - 0s 5ms/step - loss: 0.5246 - accuracy: 0.7606 - val_loss: 0.5065 - val_accuracy: 0.8667\n",
      "Epoch 95/100\n",
      "12/12 [==============================] - 0s 4ms/step - loss: 0.5233 - accuracy: 0.7465 - val_loss: 0.5046 - val_accuracy: 0.8667\n",
      "Epoch 96/100\n",
      "12/12 [==============================] - 0s 5ms/step - loss: 0.5217 - accuracy: 0.7465 - val_loss: 0.5045 - val_accuracy: 0.8667\n",
      "Epoch 97/100\n",
      "12/12 [==============================] - 0s 4ms/step - loss: 0.5218 - accuracy: 0.7465 - val_loss: 0.5023 - val_accuracy: 0.8667\n",
      "Epoch 98/100\n",
      "12/12 [==============================] - 0s 4ms/step - loss: 0.5194 - accuracy: 0.7465 - val_loss: 0.5015 - val_accuracy: 0.8667\n",
      "Epoch 99/100\n",
      "12/12 [==============================] - 0s 4ms/step - loss: 0.5190 - accuracy: 0.7606 - val_loss: 0.5023 - val_accuracy: 0.8667\n",
      "Epoch 100/100\n",
      "12/12 [==============================] - 0s 4ms/step - loss: 0.5172 - accuracy: 0.7606 - val_loss: 0.5009 - val_accuracy: 0.8667\n"
     ]
    }
   ],
   "source": [
    "opt = tf.keras.optimizers.Adam(learning_rate=1e-4)  # use the Adam optimizer and set an effective learning rate \n",
    "model.compile(optimizer=opt, loss='categorical_crossentropy', metrics=['accuracy'])\n",
    "\n",
    "trained_model = model.fit(train_feat, train_lbls, batch_size=batch_size, epochs=epochs, validation_data=(val_feat, val_lbls))"
   ]
  },
  {
   "cell_type": "code",
   "execution_count": 154,
   "metadata": {},
   "outputs": [
    {
     "data": {
      "image/png": "[encoded data removed]",
      "text/plain": [
       "<Figure size 1296x576 with 2 Axes>"
      ]
     },
     "metadata": {
      "needs_background": "light"
     },
     "output_type": "display_data"
    }
   ],
   "source": [
    "# -------------------------------------\n",
    "# plot and save the results\n",
    "# Accuracy and Validation Accuracy\n",
    "accuracy1 = trained_model.history['accuracy']\n",
    "val_acc1 = trained_model.history['val_accuracy']\n",
    "epochs = range(len(accuracy1))\n",
    "\n",
    "fig, ax = plt.subplots(1,2)\n",
    "fig.set_size_inches(18,8)\n",
    "ax[0].plot(epochs, accuracy1, 'b', label='Training Accuracy')\n",
    "ax[0].plot(epochs, val_acc1, 'r', label='Validation Accuracy')\n",
    "ax[0].title.set_text('Accuracy Graph')\n",
    "ax[0].legend()\n",
    "ax[0].grid()\n",
    "\n",
    "# Loss and Validation Loss\n",
    "loss1 = trained_model.history['loss']\n",
    "val_loss1 = trained_model.history['val_loss']\n",
    "\n",
    "ax[1].plot(epochs, loss1, 'b', label='Training Loss')\n",
    "ax[1].plot(epochs, val_loss1, 'r', label='Validation Loss')\n",
    "ax[1].title.set_text('Loss Graph')\n",
    "ax[1].legend()\n",
    "ax[1].grid()"
   ]
  },
  {
   "cell_type": "code",
   "execution_count": null,
   "metadata": {},
   "outputs": [],
   "source": [
    "modelName ='20221004'\n",
    "\n",
    "# save model\n",
    "savenameh5 = modelName + '.h5'\n",
    "savenametf = modelName + '.tf'\n",
    "model.save(savenameh5)\n",
    "model.save(savenametf)"
   ]
  },
  {
   "cell_type": "code",
   "execution_count": 140,
   "metadata": {},
   "outputs": [],
   "source": [
    "# ---------------------------------------------------------------------------------------\n",
    "#                             LOAD PRE-EXISTING MODEL MODEL\n",
    "# ---------------------------------------------------------------------------------------\n",
    "def importModel(filename, testAug, testAugLabel):\n",
    "    modelPath = 'savedModels/saved_h5_models/' + filename\n",
    "    testModel = tf.keras.models.load_model(modelPath)\n",
    "\n",
    "    loss, acc = testModel.evaluate(np.array(testAug), testAugLabel, verbose=2)\n",
    "    print(\"Loss: \", loss, \"| Accuracy: \", acc)\n",
    "\n",
    "    return testModel"
   ]
  },
  {
   "cell_type": "code",
   "execution_count": 144,
   "metadata": {},
   "outputs": [
    {
     "name": "stdout",
     "output_type": "stream",
     "text": [
      "1/1 - 0s - loss: 0.4936 - accuracy: 0.8750 - 216ms/epoch - 216ms/step\n",
      "Loss:  0.49364185333251953 | Accuracy:  0.875\n"
     ]
    }
   ],
   "source": [
    "# load existing model and evaluate the test data\n",
    "\n",
    "# covert label array to binary class matrix (healthy, PD)\n",
    "# testLbl_categorical = tf.keras.utils.to_categorical(np.array(testLbl))\n",
    "# test, testLbl = utils.shuffle(test, testLbl)\n",
    "model = importModel('20221004.h5', test_feat, test_lbls)"
   ]
  },
  {
   "cell_type": "code",
   "execution_count": null,
   "metadata": {},
   "outputs": [],
   "source": [
    "# plot the results\n",
    "misClass_test, misClass_idx = plotImages(model, test, testLbl)\n",
    "print(np.shape(misClass_test))\n",
    "print(misClass_idx)"
   ]
  },
  {
   "cell_type": "code",
   "execution_count": null,
   "metadata": {},
   "outputs": [],
   "source": []
  }
 ],
 "metadata": {
  "kernelspec": {
   "display_name": "Python 3.9.12 ('MLEnv')",
   "language": "python",
   "name": "python3"
  },
  "language_info": {
   "codemirror_mode": {
    "name": "ipython",
    "version": 3
   },
   "file_extension": ".py",
   "mimetype": "text/x-python",
   "name": "python",
   "nbconvert_exporter": "python",
   "pygments_lexer": "ipython3",
   "version": "3.9.12"
  },
  "orig_nbformat": 4,
  "vscode": {
   "interpreter": {
    "hash": "e234cb3a6d44168381e6f6673d50d0e52fa65a6fba8cecddf6f45db9097571d7"
   }
  }
 },
 "nbformat": 4,
 "nbformat_minor": 2
}
