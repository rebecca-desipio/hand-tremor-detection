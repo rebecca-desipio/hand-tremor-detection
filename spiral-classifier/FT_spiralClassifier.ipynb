{
 "cells": [
  {
   "cell_type": "markdown",
   "metadata": {},
   "source": [
    "# <center>**Classification of Unraveled Spirals**<center>\n",
    "\n",
    "#### **Goal:** obtain a distance error between the misclassified hand drawn spirals and a LOBF (\"ideal\") spiral\n",
    "\n",
    "Any functions / processes that require the use of tensorflow or keras need to be in this file. Other functions can be in a seperate python file. \n",
    "\n",
    "## **Process**\n",
    "1. Import the skeletonized images\n",
    "    - Convert to grayscale\n",
    "    - Save all images in an array with the corresponding labels\n",
    "2. Unravel all of the spirals\n",
    "    - Normalize so they all have the same length\n",
    "        - Do this by zero-padding?\n",
    "3. Perform spline fitting\n",
    "    - Subtract the spline from hand-drawing\n",
    "    - This is the \"deviation signal\"\n",
    "    - Convert to the frequency domain\n",
    "        - Take the fft\n",
    "        - Plot the magnitude of a couple of the spirals\n",
    "5. Extract features\n",
    "    - Need to decide what will be passed in as features for classification\n",
    "        - variance, SNR, bandwidth, peaks, center freq?\n",
    "6.  Run features through classifiers\n",
    "    - RF, SVM, NB, KNN\n"
   ]
  },
  {
   "cell_type": "code",
   "execution_count": 92,
   "metadata": {},
   "outputs": [],
   "source": [
    "# import libraries\n",
    "import numpy as np\n",
    "import pandas as pd\n",
    "import matplotlib.pyplot as plt\n",
    "import cv2\n",
    "import os\n",
    "import warnings\n",
    "import seaborn as sns\n",
    "\n",
    "# import ML libraries\n",
    "from sklearn import utils, svm, metrics\n",
    "from sklearn.model_selection import train_test_split, GridSearchCV, cross_val_score, StratifiedKFold\n",
    "from sklearn.ensemble import RandomForestClassifier\n",
    "from sklearn.naive_bayes import GaussianNB\n",
    "from scipy.interpolate import UnivariateSpline \n",
    "from scipy import interp\n",
    "from sklearn.linear_model import LassoCV, Lasso, LogisticRegressionCV, LogisticRegression\n",
    "\n",
    "# import files with certain functions\n",
    "from code_files.archSpiral import * # functions of interest are 'unravelSpiral' and 'calcDist_to_center' \n",
    "\n",
    "warnings.filterwarnings('ignore')"
   ]
  },
  {
   "cell_type": "markdown",
   "metadata": {},
   "source": [
    "## <center>Step 1: Import Skeletonized Images<center>"
   ]
  },
  {
   "cell_type": "code",
   "execution_count": 3,
   "metadata": {},
   "outputs": [
    {
     "name": "stdout",
     "output_type": "stream",
     "text": [
      "size of imgs array:  (382, 1000, 1000)\n",
      "size of lbls array:  (382,)\n",
      "Healthy:  206 , PD:  176\n"
     ]
    },
    {
     "data": {
      "image/png": "[encoded data removed]",
      "text/plain": [
       "<Figure size 432x288 with 1 Axes>"
      ]
     },
     "metadata": {
      "needs_background": "light"
     },
     "output_type": "display_data"
    }
   ],
   "source": [
    "dir = os.getcwd()\n",
    "folder_path = 'C:/Users/Rebecca/Documents/Virginia_Tech/Research/database-images/database-images/skel/spiral' #dir + '/datasets/folador_skeletonize/skeletons/spirals/'\n",
    "run_balanced = False\n",
    "imgs = [] # create empty array to store all the images\n",
    "lbls = [] # create empty array to store the labels of the images\n",
    "img_names = []\n",
    "for img_name in os.listdir(folder_path):\n",
    "    img_path = os.path.join(folder_path, img_name)\n",
    "    img = cv2.imread(img_path)\n",
    "    \n",
    "    # convert to grayscale\n",
    "    img = cv2.cvtColor(img, cv2.COLOR_BGR2GRAY)\n",
    "\n",
    "    img[img > 50] = 255\n",
    "    img[img != 255] = 0\n",
    "\n",
    "    # save the labels in 'lbls' array\n",
    "    # need to determine if it is healthy or parkinsons based on 'H' or 'P' being present in the file name\n",
    "    if 'H' in img_name:\n",
    "        if run_balanced:\n",
    "            if len(lbls)-np.count_nonzero(lbls) < 176:\n",
    "                lbls.append(0)\n",
    "                # save image in 'imgs' array\n",
    "                imgs.append(img)\n",
    "        else:\n",
    "            lbls.append(0)\n",
    "            # save image in 'imgs' array\n",
    "            imgs.append(img)\n",
    "\n",
    "    else:\n",
    "        lbls.append(1)\n",
    "        # save image in 'imgs' array\n",
    "        imgs.append(img)\n",
    "\n",
    "    img_names.append(img_name)\n",
    "\n",
    "# shuffle the data\n",
    "# imgs, lbls = utils.shuffle(imgs, lbls)\n",
    "\n",
    "print(\"size of imgs array: \", np.shape(imgs))\n",
    "print(\"size of lbls array: \", np.shape(lbls))\n",
    "\n",
    "# plot the distribution of labls\n",
    "sns.countplot(lbls)\n",
    "print(\"Healthy: \", len(lbls)-np.count_nonzero(lbls), \", PD: \", np.count_nonzero(lbls))"
   ]
  },
  {
   "cell_type": "markdown",
   "metadata": {},
   "source": [
    "## <center>Step 2: Unravel Spirals<center>"
   ]
  },
  {
   "cell_type": "code",
   "execution_count": 4,
   "metadata": {},
   "outputs": [
    {
     "name": "stdout",
     "output_type": "stream",
     "text": [
      "(382,)\n"
     ]
    }
   ],
   "source": [
    "numImgs = len(imgs)\n",
    "unraveledSpirals = [] # create empty array to store unraveled spirals\n",
    "\n",
    "# iterate through all images and unravel\n",
    "for i in range(numImgs):\n",
    "    print(i, end='\\r')\n",
    "    center = unravelSpiral(imgs[i])\n",
    "    unravelledImg = calcDist_to_center(imgs[i], center)\n",
    "    unraveledSpirals.append(unravelledImg)\n",
    "\n",
    "print(np.shape(unraveledSpirals))\n",
    "\n",
    "# then need to normalize (do by zero padding)"
   ]
  },
  {
   "cell_type": "markdown",
   "metadata": {},
   "source": [
    "## <center>Step 3: Perform Spline Fitting<center>"
   ]
  },
  {
   "cell_type": "code",
   "execution_count": 5,
   "metadata": {},
   "outputs": [
    {
     "name": "stdout",
     "output_type": "stream",
     "text": [
      "382\r"
     ]
    }
   ],
   "source": [
    "fftSignals = [] \n",
    "\n",
    "# iterate through all the unravelled spirals\n",
    "# fit a spline to each spiral individually\n",
    "# subtract the spline from the hand-drawing\n",
    "# store this difference signal in 'deviationSignals'\n",
    "for i in range(numImgs):\n",
    "    print(i+1, end='\\r')\n",
    "    # print(img_names[i])\n",
    "\n",
    "    hand_drawing = unraveledSpirals[i][::2]\n",
    "    numSamples = np.linspace(0, len(hand_drawing)-1, len(hand_drawing))    \n",
    "\n",
    "    pad_width = 3750 - len(hand_drawing)\n",
    "    pad_array = np.ones(pad_width).astype(np.int) \n",
    "\n",
    "\n",
    "    # calculate the line-of-best-fit (LOBF) or \"spline\"\n",
    "    spl = UnivariateSpline(numSamples, hand_drawing, s=len(numSamples)*25, k=2)\n",
    "    lobf = spl(numSamples)\n",
    "\n",
    "    # plt.plot(hand_drawing)\n",
    "    # plt.plot(lobf)\n",
    "    # plt.show()\n",
    "\n",
    "    # take the difference\n",
    "    diff = hand_drawing - lobf\n",
    "    diff = np.append(diff, (pad_array * 0))\n",
    "    \n",
    "    # take the magnitude of the fft to convert to the frequency domain\n",
    "    diff = (np.abs(np.fft.fftshift(np.fft.fft(diff)) / 3750))\n",
    "    mean = np.mean(diff)\n",
    "    # diff = np.append(diff, (pad_array * mean))\n",
    "\n",
    "    fftSignals.append(diff)\n",
    "    \n",
    "    xaxis = np.linspace(0, 3750-1, 3750)\n",
    "    yaxis = np.append(hand_drawing, pad_array)\n",
    "    lobf = np.append(lobf, pad_array)\n",
    "\n",
    "    # fig, ax = plt.subplots(1,2,figsize=(20,5))\n",
    "    # ax[0].plot(xaxis, yaxis, label=\"data\", color='r')\n",
    "    # ax[0].plot(xaxis, lobf, label=\"LOBF\", color='b')\n",
    "    # ax[1].plot(xaxis, diff)\n",
    "    # plt.show()"
   ]
  },
  {
   "cell_type": "markdown",
   "metadata": {},
   "source": [
    "## <center>Step 4: Extract Features<center>"
   ]
  },
  {
   "cell_type": "code",
   "execution_count": 6,
   "metadata": {},
   "outputs": [],
   "source": [
    "# SNR, variance, BW, center freq, peaks\n",
    "\n",
    "# obtain the magnitude\n",
    "peaks = []\n",
    "centers = []\n",
    "var = []\n",
    "snr = []\n",
    "bw = []\n",
    "\n",
    "for i in range(numImgs):\n",
    "    sig = np.around(fftSignals[i], decimals=10) # round the values to 10 decimal places\n",
    "    max = np.max(sig) # calculate the peak\n",
    "\n",
    "    # find the \"center freq\" location\n",
    "    peak_loc = np.argwhere(sig == max) \n",
    "    # center_loc = peak_loc[0] + int((peak_loc[1] - peak_loc[0])/2)\n",
    "    center_loc = int(peak_loc[1])\n",
    "\n",
    "    # calculate the variance\n",
    "    sigVar = np.var(sig)\n",
    "\n",
    "    # calculate SNR\n",
    "    # seperate into noise part and signal part\n",
    "    # calculate noise_floor threshold\n",
    "    noise_floor = np.mean(sig)*2\n",
    "    nf_approx = np.around(noise_floor,3)\n",
    "    part_sig=[]\n",
    "    part_noise=[]\n",
    "    for samp in sig:\n",
    "        if samp > nf_approx:\n",
    "            part_sig.append(samp)\n",
    "        else:\n",
    "            part_noise.append(samp)\n",
    "    # calc SNR\n",
    "    m_sq = np.mean(part_sig)**2\n",
    "    v    = np.var(part_noise)\n",
    "    sigSNR = m_sq / v # mean of the signal squared / variance of the noise\n",
    "\n",
    "    # avg = np.mean(sig)\n",
    "    # std_dev = np.std(sig)\n",
    "    # sigSNR = np.where(std_dev == 0, 0, avg/std_dev)\n",
    "\n",
    "    # calculate the bandwidth\n",
    "    # this will just be the total number of signal samples\n",
    "    sigBW = len(part_sig)\n",
    "\n",
    "    peaks.append(max)\n",
    "    centers.append(center_loc)\n",
    "    var.append(sigVar)\n",
    "    snr.append(sigSNR)\n",
    "    bw.append(sigBW)"
   ]
  },
  {
   "cell_type": "code",
   "execution_count": 7,
   "metadata": {},
   "outputs": [
    {
     "name": "stdout",
     "output_type": "stream",
     "text": [
      "381\r"
     ]
    }
   ],
   "source": [
    "# plot the histogram infromation of an images\n",
    "# need to load in the original images (do this based on 'image_names' and just need to remove 'skel_' from out front)\n",
    "# will need to set the right folder paths to load the folders\n",
    "hist = []\n",
    "thresh_val=[]\n",
    "orig_img_folder_path = 'C:/Users/Rebecca/Documents/Virginia_Tech/Research/database-images/database-images/orig/spiral/'\n",
    "for i in range(numImgs):\n",
    "    print(i, end='\\r')\n",
    "    img_name = img_names[i].replace('skel_', '')\n",
    "    \n",
    "    if 'H' in img_name:\n",
    "        group = 'healthy/'\n",
    "    else:\n",
    "        group = 'parkinson/'\n",
    "\n",
    "    path = orig_img_folder_path + group + img_name\n",
    "    img = cv2.imread(path)\n",
    "    img = cv2.cvtColor(img, cv2.COLOR_BGR2GRAY)\n",
    "\n",
    "    # create the histogram\n",
    "    thresh = np.mean(img)\n",
    "    error = 255 - thresh\n",
    "    thresh = np.around(thresh - error, 1)\n",
    "\n",
    "    sigHist = 0\n",
    "    sigThresh = thresh\n",
    "    for x in range(np.shape(img)[0]):\n",
    "        for y in range(np.shape(img)[1]):\n",
    "            if img[x][y] < thresh:\n",
    "                sigHist+=1\n",
    "\n",
    "    hist.append(sigHist)\n",
    "    thresh_val.append(sigThresh)"
   ]
  },
  {
   "attachments": {},
   "cell_type": "markdown",
   "metadata": {},
   "source": [
    "## <center>Step 5: Classification<center>"
   ]
  },
  {
   "cell_type": "code",
   "execution_count": 82,
   "metadata": {},
   "outputs": [],
   "source": [
    "# first put all the features in a dataframe\n",
    "\n",
    "# try classifying with SVM\n",
    "# https://www.datacamp.com/tutorial/svm-classification-scikit-learn-python "
   ]
  },
  {
   "cell_type": "code",
   "execution_count": 66,
   "metadata": {},
   "outputs": [
    {
     "data": {
      "text/html": [
       "<div>\n",
       "<style scoped>\n",
       "    .dataframe tbody tr th:only-of-type {\n",
       "        vertical-align: middle;\n",
       "    }\n",
       "\n",
       "    .dataframe tbody tr th {\n",
       "        vertical-align: top;\n",
       "    }\n",
       "\n",
       "    .dataframe thead th {\n",
       "        text-align: right;\n",
       "    }\n",
       "</style>\n",
       "<table border=\"1\" class=\"dataframe\">\n",
       "  <thead>\n",
       "    <tr style=\"text-align: right;\">\n",
       "      <th></th>\n",
       "      <th>labels</th>\n",
       "      <th>peaks</th>\n",
       "      <th>centers</th>\n",
       "      <th>variance</th>\n",
       "      <th>SNR</th>\n",
       "      <th>BW</th>\n",
       "      <th>hist</th>\n",
       "      <th>thresh_val</th>\n",
       "    </tr>\n",
       "  </thead>\n",
       "  <tbody>\n",
       "    <tr>\n",
       "      <th>0</th>\n",
       "      <td>0</td>\n",
       "      <td>1.190806</td>\n",
       "      <td>1890</td>\n",
       "      <td>0.003942</td>\n",
       "      <td>1560.241379</td>\n",
       "      <td>214</td>\n",
       "      <td>4338</td>\n",
       "      <td>239.6</td>\n",
       "    </tr>\n",
       "    <tr>\n",
       "      <th>1</th>\n",
       "      <td>0</td>\n",
       "      <td>1.411753</td>\n",
       "      <td>1889</td>\n",
       "      <td>0.003797</td>\n",
       "      <td>953.259497</td>\n",
       "      <td>226</td>\n",
       "      <td>4412</td>\n",
       "      <td>238.7</td>\n",
       "    </tr>\n",
       "    <tr>\n",
       "      <th>2</th>\n",
       "      <td>0</td>\n",
       "      <td>1.360222</td>\n",
       "      <td>1888</td>\n",
       "      <td>0.003973</td>\n",
       "      <td>974.760757</td>\n",
       "      <td>228</td>\n",
       "      <td>4973</td>\n",
       "      <td>236.0</td>\n",
       "    </tr>\n",
       "    <tr>\n",
       "      <th>3</th>\n",
       "      <td>0</td>\n",
       "      <td>1.110209</td>\n",
       "      <td>1888</td>\n",
       "      <td>0.003928</td>\n",
       "      <td>919.422004</td>\n",
       "      <td>222</td>\n",
       "      <td>4598</td>\n",
       "      <td>235.8</td>\n",
       "    </tr>\n",
       "    <tr>\n",
       "      <th>4</th>\n",
       "      <td>0</td>\n",
       "      <td>1.060126</td>\n",
       "      <td>1894</td>\n",
       "      <td>0.004830</td>\n",
       "      <td>1096.733405</td>\n",
       "      <td>214</td>\n",
       "      <td>5060</td>\n",
       "      <td>235.4</td>\n",
       "    </tr>\n",
       "  </tbody>\n",
       "</table>\n",
       "</div>"
      ],
      "text/plain": [
       "   labels     peaks  centers  variance          SNR   BW  hist  thresh_val\n",
       "0       0  1.190806     1890  0.003942  1560.241379  214  4338       239.6\n",
       "1       0  1.411753     1889  0.003797   953.259497  226  4412       238.7\n",
       "2       0  1.360222     1888  0.003973   974.760757  228  4973       236.0\n",
       "3       0  1.110209     1888  0.003928   919.422004  222  4598       235.8\n",
       "4       0  1.060126     1894  0.004830  1096.733405  214  5060       235.4"
      ]
     },
     "execution_count": 66,
     "metadata": {},
     "output_type": "execute_result"
    }
   ],
   "source": [
    "fft_features = {'labels':lbls,'peaks': peaks, 'centers':centers, 'variance':var, 'SNR':snr, 'BW':bw, 'hist': hist, 'thresh_val': thresh_val}\n",
    "fft_df = pd.DataFrame(fft_features)\n",
    "fft_df = fft_df.reset_index(drop=True)\n",
    "fft_df.head()"
   ]
  },
  {
   "cell_type": "code",
   "execution_count": 67,
   "metadata": {},
   "outputs": [],
   "source": [
    "# FUNCTION FOR FEATURE CLASSIFICATION\n",
    "# SET CLASSIFIER INPUT\n",
    "def freq_feature_classification(data, labels, classifier):  \n",
    "    rs = 42 # define the random state\n",
    "    cv = StratifiedKFold(n_splits=5, shuffle=True, random_state=rs) # this is approximately a 80-20 split\n",
    "\n",
    "    if classifier == 'SVM':\n",
    "        param_grid={'C':[100],'degree':[7],'kernel':['poly']}\n",
    "        clf = svm.SVC(kernel='poly', C=100, degree=7, probability=True, random_state=rs)\n",
    "        # clf = GridSearchCV(clf, param_grid)\n",
    "\n",
    "    if classifier == 'RF':\n",
    "        param_grid = {'n_estimators': [200], 'max_features': ['sqrt'], 'max_depth' : [10], 'criterion' :['gini'], 'random_state': [10]}\n",
    "        clf = RandomForestClassifier(n_estimators=200, max_features='sqrt', max_depth=10, criterion='gini', random_state=rs)\n",
    "\n",
    "    if classifier == 'NB':\n",
    "        clf = GaussianNB()\n",
    "        \n",
    "    tprs = []\n",
    "    aucs = []\n",
    "    mean_fpr = np.linspace(0,1,100)\n",
    "\n",
    "    acc = []\n",
    "    cfm_storage = []\n",
    "    tpr_storage = []\n",
    "    tnr_storage = []\n",
    "    prec = []\n",
    "    recall = []\n",
    "    f1 = []\n",
    "\n",
    "    i=0\n",
    "    plt.figure(figsize=(10,8))\n",
    "    for train, test in cv.split(data, labels):\n",
    "        # print(\"Train - # pd labels: \", (labels.iloc[train[:]]).value_counts()[1], '# h labels: ', (labels.iloc[train[:]]).value_counts()[0])\n",
    "        # print(\"Test - # pd labels: \", (labels.iloc[test[:]]).value_counts()[1], '# h labels: ', (labels.iloc[test[:]]).value_counts()[0])\n",
    "        probas_ = clf.fit(data.iloc[train[:]], labels.iloc[train[:]]).predict_proba(data.iloc[test[:]])\n",
    "        # compute the ROC curve and area under the curve\n",
    "        fpr, tpr, thresholds = metrics.roc_curve(labels.iloc[test[:]], probas_[:,1])\n",
    "        tprs.append(interp(mean_fpr, fpr, tpr))\n",
    "        tprs[-1][0]=0.0\n",
    "        roc_auc = metrics.auc(fpr, tpr)\n",
    "        aucs.append(roc_auc)\n",
    "        plt.plot(fpr, tpr, lw=1, alpha=0.3)\n",
    "\n",
    "        # predict the model\n",
    "        pred = (clf.predict(data.iloc[test[:]]))\n",
    "\n",
    "        # calculate accuracy\n",
    "        acc.append(round(metrics.accuracy_score(labels.iloc[test[:]], pred),4))\n",
    "        cfm = metrics.confusion_matrix(labels.iloc[test[:]], pred)\n",
    "        clf_report = metrics.classification_report(labels.iloc[test[:]], pred, output_dict=True)\n",
    "        cfm_storage.append(cfm)\n",
    "        tpr_storage.append(cfm[0][0] / (cfm[0][0] + cfm[1][0]))\n",
    "        tnr_storage.append(cfm[1][1] / (cfm[1][1] + cfm[0][1]))\n",
    "        prec.append(clf_report['macro avg']['precision'])\n",
    "        recall.append(clf_report['macro avg']['recall'])\n",
    "        f1.append(clf_report['macro avg']['f1-score'])\n",
    "\n",
    "        i+=1\n",
    "\n",
    "    \n",
    "    plt.plot([0,1],[0,1], linestyle='--', lw=2, color='k', label='Baseline', alpha=0.8)\n",
    "\n",
    "    mean_tpr = np.mean(tprs, axis=0)\n",
    "    mean_tpr[-1] = 1.0\n",
    "    mean_auc = metrics.auc(mean_fpr, mean_tpr)\n",
    "    std_auc = np.std(aucs)\n",
    "    plt.plot(mean_fpr, mean_tpr, color='b',\n",
    "         label=r'Mean ROC (AUC = %0.2f $\\pm$ %0.2f)' % (mean_auc, std_auc),\n",
    "         lw=2, alpha=.8)\n",
    "\n",
    "    std_tpr = np.std(tprs, axis=0)\n",
    "    tprs_upper = np.minimum(mean_tpr + std_tpr, 1)\n",
    "    tprs_lower = np.maximum(mean_tpr - std_tpr, 0)\n",
    "    plt.fill_between(mean_fpr, tprs_lower, tprs_upper, color='grey', alpha=.2,\n",
    "                    label=r'$\\pm$ 1 std. dev.')\n",
    "\n",
    "    plt.xlim([-0.05, 1.05])\n",
    "    plt.ylim([-0.05, 1.05])\n",
    "    plt.xlabel('False Positive Rate')\n",
    "    plt.ylabel('True Positive Rate')\n",
    "    plt.legend(loc=\"lower right\")\n",
    "    plt.rcParams.update({'font.size': 14})\n",
    "    plt.rcParams.update({'font.family': 'Times New Roman'})\n",
    "    plt.show()\n",
    "\n",
    "    return acc, cfm, tpr_storage, tnr_storage, prec, recall, f1"
   ]
  },
  {
   "cell_type": "code",
   "execution_count": 19,
   "metadata": {},
   "outputs": [],
   "source": [
    "# drop features of choice\n",
    "x_train = fft_df.drop(['labels'], axis=1)\n",
    "y_train = fft_df.labels"
   ]
  },
  {
   "cell_type": "code",
   "execution_count": 25,
   "metadata": {},
   "outputs": [
    {
     "data": {
      "image/png": "[encoded data removed]",
      "text/plain": [
       "<Figure size 720x576 with 1 Axes>"
      ]
     },
     "metadata": {
      "needs_background": "light"
     },
     "output_type": "display_data"
    },
    {
     "name": "stdout",
     "output_type": "stream",
     "text": [
      "[0.8451, 0.7606, 0.8, 0.7571, 0.7714]\n",
      "Accuracy - min: 0.7571, max: 0.8451, avg: 0.7868, std. dev: 0.0328\n",
      "TPR - min: 0.6957, max: 0.7907, avg: 0.7454, std. dev: 0.0363\n",
      "TNR - min: 0.8065, max: 0.9286, avg: 0.8512, std. dev: 0.0452\n",
      "Precision - min: 0.7657, max: 0.8596, avg: 0.7983, std. dev: 0.0327\n",
      "Recall - min: 0.7571, max: 0.8437, avg: 0.7867, std. dev: 0.0321\n",
      "f1-score - min: 0.7510, max: 0.8431, avg: 0.7847, std. dev: 0.0335\n"
     ]
    }
   ],
   "source": [
    "svm_acc, svm_cfm, svm_tpr, svm_tnr, svm_prec, svm_recall, svm_f1 = freq_feature_classification(x_train, y_train, 'SVM')\n",
    "\n",
    "print(svm_acc)\n",
    "print('Accuracy - min: %0.4f, max: %0.4f, avg: %0.4f, std. dev: %0.4f' % (np.min(svm_acc), np.max(svm_acc), np.mean(svm_acc), np.std(svm_acc)))\n",
    "print('TPR - min: %0.4f, max: %0.4f, avg: %0.4f, std. dev: %0.4f' % (np.min(svm_tpr), np.max(svm_tpr), np.mean(svm_tpr), np.std(svm_tpr)))\n",
    "print('TNR - min: %0.4f, max: %0.4f, avg: %0.4f, std. dev: %0.4f' % (np.min(svm_tnr), np.max(svm_tnr), np.mean(svm_tnr), np.std(svm_tnr)))\n",
    "print('Precision - min: %0.4f, max: %0.4f, avg: %0.4f, std. dev: %0.4f' % (np.min(svm_prec), np.max(svm_prec), np.mean(svm_prec), np.std(svm_prec)))\n",
    "print('Recall - min: %0.4f, max: %0.4f, avg: %0.4f, std. dev: %0.4f' % (np.min(svm_recall), np.max(svm_recall), np.mean(svm_recall), np.std(svm_recall)))\n",
    "print('f1-score - min: %0.4f, max: %0.4f, avg: %0.4f, std. dev: %0.4f' % (np.min(svm_f1), np.max(svm_f1), np.mean(svm_f1), np.std(svm_f1)))"
   ]
  },
  {
   "cell_type": "code",
   "execution_count": 21,
   "metadata": {},
   "outputs": [
    {
     "data": {
      "image/png": "[encoded data removed]",
      "text/plain": [
       "<Figure size 720x576 with 1 Axes>"
      ]
     },
     "metadata": {
      "needs_background": "light"
     },
     "output_type": "display_data"
    },
    {
     "name": "stdout",
     "output_type": "stream",
     "text": [
      "[0.9155, 0.8169, 0.8143, 0.8429, 0.8429]\n",
      "Accuracy - min: 0.8143, max: 0.9155, avg: 0.8465, std. dev: 0.0366\n",
      "TPR - min: 0.8000, max: 0.8947, avg: 0.8401, std. dev: 0.0362\n",
      "TNR - min: 0.7750, max: 0.9394, avg: 0.8592, std. dev: 0.0569\n",
      "Precision - min: 0.8171, max: 0.9171, avg: 0.8496, std. dev: 0.0360\n",
      "Recall - min: 0.8143, max: 0.9151, avg: 0.8464, std. dev: 0.0364\n",
      "f1-score - min: 0.8133, max: 0.9153, avg: 0.8461, std. dev: 0.0367\n"
     ]
    }
   ],
   "source": [
    "rf_acc, rf_cfm, rf_tpr, rf_tnr, rf_prec, rf_recall, rf_f1 = freq_feature_classification(x_train, y_train, 'RF')\n",
    "\n",
    "print(rf_acc)\n",
    "print('Accuracy - min: %0.4f, max: %0.4f, avg: %0.4f, std. dev: %0.4f' % (np.min(rf_acc), np.max(rf_acc), np.mean(rf_acc), np.std(rf_acc)))\n",
    "print('TPR - min: %0.4f, max: %0.4f, avg: %0.4f, std. dev: %0.4f' % (np.min(rf_tpr), np.max(rf_tpr), np.mean(rf_tpr), np.std(rf_tpr)))\n",
    "print('TNR - min: %0.4f, max: %0.4f, avg: %0.4f, std. dev: %0.4f' % (np.min(rf_tnr), np.max(rf_tnr), np.mean(rf_tnr), np.std(rf_tnr)))\n",
    "print('Precision - min: %0.4f, max: %0.4f, avg: %0.4f, std. dev: %0.4f' % (np.min(rf_prec), np.max(rf_prec), np.mean(rf_prec), np.std(rf_prec)))\n",
    "print('Recall - min: %0.4f, max: %0.4f, avg: %0.4f, std. dev: %0.4f' % (np.min(rf_recall), np.max(rf_recall), np.mean(rf_recall), np.std(rf_recall)))\n",
    "print('f1-score - min: %0.4f, max: %0.4f, avg: %0.4f, std. dev: %0.4f' % (np.min(rf_f1), np.max(rf_f1), np.mean(rf_f1), np.std(rf_f1)))"
   ]
  },
  {
   "cell_type": "code",
   "execution_count": 22,
   "metadata": {},
   "outputs": [
    {
     "data": {
      "image/png": "[encoded data removed]",
      "text/plain": [
       "<Figure size 720x576 with 1 Axes>"
      ]
     },
     "metadata": {
      "needs_background": "light"
     },
     "output_type": "display_data"
    },
    {
     "name": "stdout",
     "output_type": "stream",
     "text": [
      "[0.8592, 0.7887, 0.7143, 0.7429, 0.7429]\n",
      "Accuracy - min: 0.7143, max: 0.8592, avg: 0.7696, std. dev: 0.0507\n",
      "TPR - min: 0.6735, max: 0.8421, avg: 0.7371, std. dev: 0.0648\n",
      "TNR - min: 0.7742, max: 0.9048, avg: 0.8271, std. dev: 0.0542\n",
      "Precision - min: 0.7261, max: 0.8604, avg: 0.7821, std. dev: 0.0462\n",
      "Recall - min: 0.7143, max: 0.8587, avg: 0.7695, std. dev: 0.0506\n",
      "f1-score - min: 0.7105, max: 0.8589, avg: 0.7665, std. dev: 0.0528\n"
     ]
    }
   ],
   "source": [
    "nb_acc, nb_cfm, nb_tpr, nb_tnr, nb_prec, nb_recall, nb_f1 = freq_feature_classification(x_train, y_train, 'NB')\n",
    "\n",
    "print(nb_acc)\n",
    "print('Accuracy - min: %0.4f, max: %0.4f, avg: %0.4f, std. dev: %0.4f' % (np.min(nb_acc), np.max(nb_acc), np.mean(nb_acc), np.std(nb_acc)))\n",
    "print('TPR - min: %0.4f, max: %0.4f, avg: %0.4f, std. dev: %0.4f' % (np.min(nb_tpr), np.max(nb_tpr), np.mean(nb_tpr), np.std(nb_tpr)))\n",
    "print('TNR - min: %0.4f, max: %0.4f, avg: %0.4f, std. dev: %0.4f' % (np.min(nb_tnr), np.max(nb_tnr), np.mean(nb_tnr), np.std(nb_tnr)))\n",
    "print('Precision - min: %0.4f, max: %0.4f, avg: %0.4f, std. dev: %0.4f' % (np.min(nb_prec), np.max(nb_prec), np.mean(nb_prec), np.std(nb_prec)))\n",
    "print('Recall - min: %0.4f, max: %0.4f, avg: %0.4f, std. dev: %0.4f' % (np.min(nb_recall), np.max(nb_recall), np.mean(nb_recall), np.std(nb_recall)))\n",
    "print('f1-score - min: %0.4f, max: %0.4f, avg: %0.4f, std. dev: %0.4f' % (np.min(nb_f1), np.max(nb_f1), np.mean(nb_f1), np.std(nb_f1)))"
   ]
  },
  {
   "attachments": {},
   "cell_type": "markdown",
   "metadata": {},
   "source": [
    "### Individual classifiers - archived code"
   ]
  },
  {
   "cell_type": "code",
   "execution_count": null,
   "metadata": {},
   "outputs": [],
   "source": [
    "# create Random Forest classifier\n",
    "def RF_classifier(train_data, train_labels, test_data, test_labels):\n",
    "    param_grid = {'n_estimators': [200], 'max_features': ['sqrt'], 'max_depth' : [10], 'criterion' :['gini'], 'random_state': [42]}\n",
    "    clf = RandomForestClassifier()\n",
    "    rf_clf = GridSearchCV(estimator=clf, param_grid=param_grid, cv=5)\n",
    "\n",
    "    # train model\n",
    "    rf_clf.fit(train_data, train_labels)\n",
    "\n",
    "    rf_clf.best_params_\n",
    "    # print(rf_clf.best_params_)\n",
    "\n",
    "    # predict model\n",
    "    pred = (rf_clf.predict(test_data))\n",
    "\n",
    "    # calculate accuracy\n",
    "    acc = round(metrics.accuracy_score(test_labels, pred),4)\n",
    "    cfm = metrics.confusion_matrix(test_labels, pred)\n",
    "    tpr = cfm[0][0] / (cfm[0][0] + cfm[1][0])\n",
    "    tnr = cfm[1][1] / (cfm[1][1] + cfm[0][1])\n",
    "\n",
    "    # print(\"The predicted data is: \", pred)\n",
    "    # print(\"The actual data is: \", np.array(val_labels))\n",
    "    # print(f\"The model is {acc*100}% accurate\")\n",
    "\n",
    "    return acc, tpr, tnr, cfm\n",
    "\n",
    "\n",
    "rf_acc = []\n",
    "rf_tpr = []\n",
    "rf_tnr = []\n",
    "rf_cfm = []\n",
    "\n",
    "for ii in range(25):\n",
    "    print('Random State: ', ii+1, end='\\r')\n",
    "    rs = np.linspace(1, 25, 25).astype(np.int)\n",
    "    x_train, x_test, y_train, y_test = train_test_split(fft_df.drop(['labels', 'hist', 'thresh_val'], axis=1), fft_df.labels, test_size=0.20, random_state=rs[ii]) #'peaks', 'variance', 'SNR', stratify=fft_df.labels\n",
    "    temp_acc, temp_tpr, temp_tnr, temp_cfm = RF_classifier(x_train, y_train, x_test, y_test)\n",
    "    rf_acc.append(temp_acc)\n",
    "    rf_tpr.append(temp_tpr)\n",
    "    rf_tnr.append(temp_tnr)\n",
    "    rf_cfm.append(temp_cfm)\n",
    "\n",
    "\n",
    "print(\"Random states: \", rs)\n",
    "# print(\"Accuracy scores: \", svm_acc)\n",
    "print(\"Average accuracy: \", np.mean(rf_acc))\n",
    "print(\"Standard deviation: \", np.std(rf_acc))\n",
    "print(\"Average TNR: \", np.mean(rf_tnr))\n",
    "print(\"Average TPR: \", np.mean(rf_tpr))"
   ]
  },
  {
   "cell_type": "code",
   "execution_count": null,
   "metadata": {},
   "outputs": [],
   "source": [
    "# Create Naive Bayes Classifier\n",
    "def NB_classifier(train_data, train_labels, test_data, test_labels):\n",
    "    \n",
    "    # train model\n",
    "    nb_clf = GaussianNB()\n",
    "    nb_clf.fit(x_train, y_train)\n",
    "\n",
    "    # predict model\n",
    "    pred = (nb_clf.predict(x_test))\n",
    "\n",
    "    # calculate accuracy\n",
    "    acc = round(metrics.accuracy_score(y_test, pred),4)\n",
    "    cfm = metrics.confusion_matrix(y_test, pred)\n",
    "    tpr = cfm[0][0] / (cfm[0][0] + cfm[1][0])\n",
    "    tnr = cfm[1][1] / (cfm[1][1] + cfm[0][1])\n",
    "\n",
    "    return acc, tpr, tnr, cfm\n",
    "    \n",
    "nb_acc = []\n",
    "nb_tpr = []\n",
    "nb_tnr = []\n",
    "nb_cfm = []\n",
    "\n",
    "for ii in range(25):\n",
    "    print('Random State: ', ii+1, end='\\r')\n",
    "    rs = np.linspace(1, 25, 25).astype(np.int)\n",
    "    x_train, x_test, y_train, y_test = train_test_split(fft_df.drop(['labels'], axis=1), fft_df.labels, test_size=0.20, random_state=rs[ii]) #'peaks', 'variance', 'SNR', stratify=fft_df.labels\n",
    "\n",
    "    temp_acc, temp_tpr, temp_tnr, temp_cfm = NB_classifier(x_train, y_train, x_test, y_test)\n",
    "\n",
    "    nb_acc.append(temp_acc)\n",
    "    nb_tpr.append(temp_tpr)\n",
    "    nb_tnr.append(temp_tnr)\n",
    "    nb_cfm.append(temp_cfm)\n",
    "\n",
    "\n",
    "print(\"Random states: \", rs)\n",
    "# print(\"Accuracy scores: \", svm_acc)\n",
    "print(\"Average accuracy: \", np.mean(nb_acc))\n",
    "print(\"Standard deviation: \", np.std(nb_acc))\n",
    "print(\"Average TNR: \", np.mean(nb_tnr))\n",
    "print(\"Average TPR: \", np.mean(nb_tpr))"
   ]
  },
  {
   "cell_type": "code",
   "execution_count": null,
   "metadata": {},
   "outputs": [],
   "source": [
    "# create SVM classifier\n",
    "def SVM_classifier(train_data, train_labels, val_data, val_labels):\n",
    "    cv_acc = []\n",
    "    \n",
    "    # convert labels to an array\n",
    "    val_labels = np.array(val_labels)\n",
    "    #clf = svm.SVC(kernel='poly', degree=5)\n",
    "    param_grid={'C':[100],'degree':[7],'kernel':['poly']}\n",
    "    clf = svm.SVC(probability=True)\n",
    "    svm_clf = GridSearchCV(clf, param_grid, cv=5)\n",
    "\n",
    "    # train model\n",
    "    svm_clf.fit(train_data, train_labels)\n",
    "    # print(model.cv_results_.keys())\n",
    "    # print(svm_clf.cv_results_)\n",
    "\n",
    "    svm_clf.best_params_\n",
    "    # print(svm_clf.best_params_)\n",
    "\n",
    "    # predict the model\n",
    "    pred = (svm_clf.predict(val_data))\n",
    "\n",
    "    # calculate accuracy\n",
    "    acc = round(metrics.accuracy_score(val_labels, pred),4)\n",
    "    cfm = metrics.confusion_matrix(val_labels, pred)\n",
    "    tpr = cfm[0][0] / (cfm[0][0] + cfm[1][0])\n",
    "    tnr = cfm[1][1] / (cfm[1][1] + cfm[0][1])\n",
    "\n",
    "    # compute info for ROC curve\n",
    "    y_score = svm_clf.predict_proba(val_data)\n",
    "    xaxis, yaxis, _ = metrics.roc_curve(val_labels, y_score[:,1], pos_label=1, drop_intermediate=False)\n",
    "\n",
    "    # print(\"The predicted data is: \", pred)\n",
    "    # print(\"The actual data is: \", np.array(val_labels))\n",
    "    # print(f\"The model is {acc*100}% accurate\")\n",
    "\n",
    "    return acc, tpr, tnr, cfm, xaxis, yaxis\n",
    "\n",
    "svm_acc = []\n",
    "svm_tpr = []\n",
    "svm_tnr = []\n",
    "svm_cfm = []\n",
    "svm_xaxis = []\n",
    "svm_yaxis = []\n",
    "\n",
    "for ii in range(1):\n",
    "    print('Random State: ', ii+1, end='\\r')\n",
    "    rs = np.linspace(1, 50, 50).astype(np.int)\n",
    "    x_train, x_test, y_train, y_test = train_test_split(fft_df.drop(['labels', 'hist', 'thresh_val'], axis=1), fft_df.labels, test_size=0.20, random_state=rs[42]) #'peaks', 'variance', 'SNR', stratify=fft_df.labels\n",
    "    temp_acc, temp_tpr, temp_tnr, temp_cfm, temp_xaxis, temp_yaxis = SVM_classifier(x_train, y_train, x_test, y_test)\n",
    "    # svm_acc.append(temp_acc)\n",
    "    # svm_tpr.append(temp_tpr)\n",
    "    # svm_tnr.append(temp_tnr)\n",
    "    # svm_cfm.append(temp_cfm)\n",
    "\n",
    "    # svm_xaxis.append(temp_xaxis)\n",
    "    # svm_yaxis.append(temp_yaxis)\n",
    "\n",
    "\n",
    "# print(\"Accuracy scores: \", svm_acc)\n",
    "print(\"Average accuracy: \", np.mean(svm_acc))\n",
    "print(\"Standard deviation: \", np.std(svm_acc))\n",
    "print(\"Average TNR: \", np.mean(svm_tnr))\n",
    "print(\"Average TPR: \", np.mean(svm_tpr))"
   ]
  },
  {
   "attachments": {},
   "cell_type": "markdown",
   "metadata": {},
   "source": [
    "## <center>Step 5: Regression<center>"
   ]
  },
  {
   "cell_type": "code",
   "execution_count": 137,
   "metadata": {},
   "outputs": [],
   "source": [
    "# Lasso Regression\n",
    "# drop features of choice\n",
    "x_train = fft_df.drop(['labels'], axis=1)\n",
    "y_train = fft_df.labels\n",
    "\n",
    "cv = StratifiedKFold(n_splits=5, shuffle=True, random_state=42)\n",
    "\n",
    "# lasso = LassoCV(n_alphas=1000, cv=None, random_state=2)\n",
    "# lasso.fit(x_train, y_train)\n",
    "# print(lasso.alpha_)\n",
    "\n",
    "lasso = Lasso(alpha=0.5)\n",
    "results = pd.DataFrame(columns=['prediction', 'actual', 'img_num'])\n",
    "for train, test in cv.split(x_train, y_train):\n",
    "    lasso.fit(x_train.iloc[train[:]], y_train.iloc[train[:]])\n",
    "    probas_ = lasso.predict(x_train.iloc[test[:]])\n",
    "    # print(lasso.score(x_train.iloc[test[:]], y_train.iloc[test[:]]))\n",
    "\n",
    "    for i in range(len(probas_)):\n",
    "        # print(i)\n",
    "        tempdf = pd.DataFrame(columns=['prediction', 'actual', 'img_num'])\n",
    "        tempdf.loc[0] = [probas_[i], np.array(y_test)[i], img_names[y_test.index[i]]]\n",
    "        results = results.append(tempdf)\n"
   ]
  },
  {
   "cell_type": "code",
   "execution_count": 118,
   "metadata": {},
   "outputs": [
    {
     "name": "stdout",
     "output_type": "stream",
     "text": [
      "77\n"
     ]
    },
    {
     "name": "stderr",
     "output_type": "stream",
     "text": [
      "Traceback (most recent call last):\n",
      "  File \"_pydevd_bundle/pydevd_cython.pyx\", line 1078, in _pydevd_bundle.pydevd_cython.PyDBFrame.trace_dispatch\n",
      "  File \"_pydevd_bundle/pydevd_cython.pyx\", line 297, in _pydevd_bundle.pydevd_cython.PyDBFrame.do_wait_suspend\n",
      "  File \"c:\\Users\\Rebecca\\anaconda3\\envs\\MLEnv\\lib\\site-packages\\debugpy\\_vendored\\pydevd\\pydevd.py\", line 1976, in do_wait_suspend\n",
      "    keep_suspended = self._do_wait_suspend(thread, frame, event, arg, suspend_type, from_this_thread, frames_tracker)\n",
      "  File \"c:\\Users\\Rebecca\\anaconda3\\envs\\MLEnv\\lib\\site-packages\\debugpy\\_vendored\\pydevd\\pydevd.py\", line 2011, in _do_wait_suspend\n",
      "    time.sleep(0.01)\n",
      "KeyboardInterrupt\n"
     ]
    },
    {
     "ename": "KeyboardInterrupt",
     "evalue": "",
     "output_type": "error",
     "traceback": [
      "\u001b[1;31m---------------------------------------------------------------------------\u001b[0m",
      "\u001b[1;31mKeyboardInterrupt\u001b[0m                         Traceback (most recent call last)",
      "\u001b[1;32mc:\\Users\\Rebecca\\Documents\\Virginia_Tech\\Research\\git-repos\\hand-tremor-detection\\spiral-classifier\\FT_spiralClassifier.ipynb Cell 26\u001b[0m in \u001b[0;36m<module>\u001b[1;34m\u001b[0m\n\u001b[0;32m     <a href='vscode-notebook-cell:/c%3A/Users/Rebecca/Documents/Virginia_Tech/Research/git-repos/hand-tremor-detection/spiral-classifier/FT_spiralClassifier.ipynb#X62sZmlsZQ%3D%3D?line=24'>25</a>\u001b[0m         pred \u001b[39m=\u001b[39m (clf\u001b[39m.\u001b[39mpredict(x_train\u001b[39m.\u001b[39miloc[test[:]]))\n\u001b[0;32m     <a href='vscode-notebook-cell:/c%3A/Users/Rebecca/Documents/Virginia_Tech/Research/git-repos/hand-tremor-detection/spiral-classifier/FT_spiralClassifier.ipynb#X62sZmlsZQ%3D%3D?line=26'>27</a>\u001b[0m     \u001b[39m# calculate accuracy\u001b[39;00m\n\u001b[1;32m---> <a href='vscode-notebook-cell:/c%3A/Users/Rebecca/Documents/Virginia_Tech/Research/git-repos/hand-tremor-detection/spiral-classifier/FT_spiralClassifier.ipynb#X62sZmlsZQ%3D%3D?line=27'>28</a>\u001b[0m     acc\u001b[39m.\u001b[39mappend(\u001b[39mround\u001b[39m(metrics\u001b[39m.\u001b[39maccuracy_score(y_train\u001b[39m.\u001b[39miloc[test[:]], pred),\u001b[39m4\u001b[39m))\n\u001b[0;32m     <a href='vscode-notebook-cell:/c%3A/Users/Rebecca/Documents/Virginia_Tech/Research/git-repos/hand-tremor-detection/spiral-classifier/FT_spiralClassifier.ipynb#X62sZmlsZQ%3D%3D?line=29'>30</a>\u001b[0m     \u001b[39m# print(probas_)\u001b[39;00m\n\u001b[0;32m     <a href='vscode-notebook-cell:/c%3A/Users/Rebecca/Documents/Virginia_Tech/Research/git-repos/hand-tremor-detection/spiral-classifier/FT_spiralClassifier.ipynb#X62sZmlsZQ%3D%3D?line=31'>32</a>\u001b[0m \u001b[39mprint\u001b[39m(acc)\n",
      "\u001b[1;32mc:\\Users\\Rebecca\\Documents\\Virginia_Tech\\Research\\git-repos\\hand-tremor-detection\\spiral-classifier\\FT_spiralClassifier.ipynb Cell 26\u001b[0m in \u001b[0;36m<module>\u001b[1;34m\u001b[0m\n\u001b[0;32m     <a href='vscode-notebook-cell:/c%3A/Users/Rebecca/Documents/Virginia_Tech/Research/git-repos/hand-tremor-detection/spiral-classifier/FT_spiralClassifier.ipynb#X62sZmlsZQ%3D%3D?line=24'>25</a>\u001b[0m         pred \u001b[39m=\u001b[39m (clf\u001b[39m.\u001b[39mpredict(x_train\u001b[39m.\u001b[39miloc[test[:]]))\n\u001b[0;32m     <a href='vscode-notebook-cell:/c%3A/Users/Rebecca/Documents/Virginia_Tech/Research/git-repos/hand-tremor-detection/spiral-classifier/FT_spiralClassifier.ipynb#X62sZmlsZQ%3D%3D?line=26'>27</a>\u001b[0m     \u001b[39m# calculate accuracy\u001b[39;00m\n\u001b[1;32m---> <a href='vscode-notebook-cell:/c%3A/Users/Rebecca/Documents/Virginia_Tech/Research/git-repos/hand-tremor-detection/spiral-classifier/FT_spiralClassifier.ipynb#X62sZmlsZQ%3D%3D?line=27'>28</a>\u001b[0m     acc\u001b[39m.\u001b[39mappend(\u001b[39mround\u001b[39m(metrics\u001b[39m.\u001b[39maccuracy_score(y_train\u001b[39m.\u001b[39miloc[test[:]], pred),\u001b[39m4\u001b[39m))\n\u001b[0;32m     <a href='vscode-notebook-cell:/c%3A/Users/Rebecca/Documents/Virginia_Tech/Research/git-repos/hand-tremor-detection/spiral-classifier/FT_spiralClassifier.ipynb#X62sZmlsZQ%3D%3D?line=29'>30</a>\u001b[0m     \u001b[39m# print(probas_)\u001b[39;00m\n\u001b[0;32m     <a href='vscode-notebook-cell:/c%3A/Users/Rebecca/Documents/Virginia_Tech/Research/git-repos/hand-tremor-detection/spiral-classifier/FT_spiralClassifier.ipynb#X62sZmlsZQ%3D%3D?line=31'>32</a>\u001b[0m \u001b[39mprint\u001b[39m(acc)\n",
      "File \u001b[1;32m_pydevd_bundle/pydevd_cython.pyx:1363\u001b[0m, in \u001b[0;36m_pydevd_bundle.pydevd_cython.SafeCallWrapper.__call__\u001b[1;34m()\u001b[0m\n",
      "File \u001b[1;32m_pydevd_bundle/pydevd_cython.pyx:662\u001b[0m, in \u001b[0;36m_pydevd_bundle.pydevd_cython.PyDBFrame.trace_dispatch\u001b[1;34m()\u001b[0m\n",
      "File \u001b[1;32m_pydevd_bundle/pydevd_cython.pyx:1087\u001b[0m, in \u001b[0;36m_pydevd_bundle.pydevd_cython.PyDBFrame.trace_dispatch\u001b[1;34m()\u001b[0m\n",
      "File \u001b[1;32m_pydevd_bundle/pydevd_cython.pyx:1078\u001b[0m, in \u001b[0;36m_pydevd_bundle.pydevd_cython.PyDBFrame.trace_dispatch\u001b[1;34m()\u001b[0m\n",
      "File \u001b[1;32m_pydevd_bundle/pydevd_cython.pyx:297\u001b[0m, in \u001b[0;36m_pydevd_bundle.pydevd_cython.PyDBFrame.do_wait_suspend\u001b[1;34m()\u001b[0m\n",
      "File \u001b[1;32mc:\\Users\\Rebecca\\anaconda3\\envs\\MLEnv\\lib\\site-packages\\debugpy\\_vendored\\pydevd\\pydevd.py:1976\u001b[0m, in \u001b[0;36mPyDB.do_wait_suspend\u001b[1;34m(self, thread, frame, event, arg, exception_type)\u001b[0m\n\u001b[0;32m   1973\u001b[0m             from_this_thread\u001b[39m.\u001b[39mappend(frame_custom_thread_id)\n\u001b[0;32m   1975\u001b[0m     \u001b[39mwith\u001b[39;00m \u001b[39mself\u001b[39m\u001b[39m.\u001b[39m_threads_suspended_single_notification\u001b[39m.\u001b[39mnotify_thread_suspended(thread_id, stop_reason):\n\u001b[1;32m-> 1976\u001b[0m         keep_suspended \u001b[39m=\u001b[39m \u001b[39mself\u001b[39;49m\u001b[39m.\u001b[39;49m_do_wait_suspend(thread, frame, event, arg, suspend_type, from_this_thread, frames_tracker)\n\u001b[0;32m   1978\u001b[0m frames_list \u001b[39m=\u001b[39m \u001b[39mNone\u001b[39;00m\n\u001b[0;32m   1980\u001b[0m \u001b[39mif\u001b[39;00m keep_suspended:\n\u001b[0;32m   1981\u001b[0m     \u001b[39m# This means that we should pause again after a set next statement.\u001b[39;00m\n",
      "File \u001b[1;32mc:\\Users\\Rebecca\\anaconda3\\envs\\MLEnv\\lib\\site-packages\\debugpy\\_vendored\\pydevd\\pydevd.py:2011\u001b[0m, in \u001b[0;36mPyDB._do_wait_suspend\u001b[1;34m(self, thread, frame, event, arg, suspend_type, from_this_thread, frames_tracker)\u001b[0m\n\u001b[0;32m   2008\u001b[0m         \u001b[39mself\u001b[39m\u001b[39m.\u001b[39m_call_mpl_hook()\n\u001b[0;32m   2010\u001b[0m     \u001b[39mself\u001b[39m\u001b[39m.\u001b[39mprocess_internal_commands()\n\u001b[1;32m-> 2011\u001b[0m     time\u001b[39m.\u001b[39;49msleep(\u001b[39m0.01\u001b[39;49m)\n\u001b[0;32m   2013\u001b[0m \u001b[39mself\u001b[39m\u001b[39m.\u001b[39mcancel_async_evaluation(get_current_thread_id(thread), \u001b[39mstr\u001b[39m(\u001b[39mid\u001b[39m(frame)))\n\u001b[0;32m   2015\u001b[0m \u001b[39m# process any stepping instructions\u001b[39;00m\n",
      "\u001b[1;31mKeyboardInterrupt\u001b[0m: "
     ]
    }
   ],
   "source": [
    "# Perform Logistic Regression \n",
    "# Use the prediction probabilities as the regression results\n",
    "# Compare results using L1, L2, and L1 + L2 \n",
    "\n",
    "# set x_train and y_train, drop features of choice\n",
    "x_train = fft_df.drop(['labels', 'hist', 'thresh_val'], axis=1)\n",
    "y_train = fft_df.labels\n",
    "cv = StratifiedKFold(n_splits=5, shuffle=True, random_state=42)\n",
    "\n",
    "# create the model\n",
    "clf = LogisticRegression(penalty='l1', C=1.0, fit_intercept=True, random_state=42, solver='liblinear')\n",
    "\n",
    "i = 0\n",
    "results = pd.DataFrame(columns=['prediction', 'actual', 'img_num'])\n",
    "acc = []\n",
    "for train, test in cv.split(x_train, y_train):\n",
    "    print(len(test))\n",
    "    probas_ = clf.fit(x_train.iloc[train[:]], y_train.iloc[train[:]]).predict_proba(x_train.iloc[test[:]])\n",
    "    for i in range(len(probas_)):\n",
    "        # print(i)\n",
    "        tempdf = pd.DataFrame(columns=['prediction', 'actual', 'img_num'])\n",
    "        tempdf.loc[0] = [probas_[i][1], np.array(y_test)[i], img_names[y_test.index[i]]]\n",
    "        results = results.append(tempdf)\n",
    "\n",
    "        pred = (clf.predict(x_train.iloc[test[:]]))\n",
    "\n",
    "    # calculate accuracy\n",
    "    acc.append(round(metrics.accuracy_score(y_train.iloc[test[:]], pred),4))\n",
    "    \n",
    "    # print(probas_)\n",
    "\n",
    "print(acc)"
   ]
  },
  {
   "cell_type": "code",
   "execution_count": null,
   "metadata": {},
   "outputs": [
    {
     "name": "stdout",
     "output_type": "stream",
     "text": [
      "77\n"
     ]
    }
   ],
   "source": [
    "# Perform Logistic Regression \n",
    "# Use the prediction probabilities as the regression results\n",
    "# Compare results using L1, L2, and L1 + L2 \n",
    "\n",
    "# set x_train and y_train, drop features of choice\n",
    "x_train = fft_df.drop(['labels', 'hist', 'thresh_val'], axis=1)\n",
    "y_train = fft_df.labels\n",
    "cv = StratifiedKFold(n_splits=5, shuffle=True, random_state=42)\n",
    "\n",
    "# create the model\n",
    "clf = LogisticRegression(penalty='l1', C=1.0, fit_intercept=True, random_state=42, solver='liblinear')\n",
    "\n",
    "i = 0\n",
    "results = pd.DataFrame(columns=['prediction', 'actual', 'img_num'])\n",
    "acc = []\n",
    "for train, test in cv.split(x_train, y_train):\n",
    "    print(len(test))\n",
    "    probas_ = clf.fit(x_train.iloc[train[:]], y_train.iloc[train[:]]).predict_proba(x_train.iloc[test[:]])\n",
    "    for i in range(len(probas_)):\n",
    "        # print(i)\n",
    "        tempdf = pd.DataFrame(columns=['prediction', 'actual', 'img_num'])\n",
    "        tempdf.loc[0] = [probas_[i][1], np.array(y_test)[i], img_names[y_test.index[i]]]\n",
    "        results = results.append(tempdf)\n",
    "\n",
    "        pred = (clf.predict(x_train.iloc[test[:]]))\n",
    "\n",
    "    # calculate accuracy\n",
    "    acc.append(round(metrics.accuracy_score(y_train.iloc[test[:]], pred),4))\n",
    "    \n",
    "    # print(probas_)\n",
    "\n",
    "print(acc)"
   ]
  },
  {
   "cell_type": "code",
   "execution_count": null,
   "metadata": {},
   "outputs": [],
   "source": [
    "[0.7792, 0.8571, 0.9079, 0.8289, 0.8816]"
   ]
  }
 ],
 "metadata": {
  "kernelspec": {
   "display_name": "Python 3.9.12 ('MLEnv')",
   "language": "python",
   "name": "python3"
  },
  "language_info": {
   "codemirror_mode": {
    "name": "ipython",
    "version": 3
   },
   "file_extension": ".py",
   "mimetype": "text/x-python",
   "name": "python",
   "nbconvert_exporter": "python",
   "pygments_lexer": "ipython3",
   "version": "3.9.12"
  },
  "orig_nbformat": 4,
  "vscode": {
   "interpreter": {
    "hash": "e234cb3a6d44168381e6f6673d50d0e52fa65a6fba8cecddf6f45db9097571d7"
   }
  }
 },
 "nbformat": 4,
 "nbformat_minor": 2
}
