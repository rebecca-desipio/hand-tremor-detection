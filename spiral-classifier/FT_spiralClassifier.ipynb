{
 "cells": [
  {
   "cell_type": "markdown",
   "metadata": {},
   "source": [
    "# <center>**Classification of Unraveled Spirals**<center>\n",
    "\n",
    "#### **Goal:** obtain a distance error between the misclassified hand drawn spirals and a LOBF (\"ideal\") spiral\n",
    "\n",
    "Any functions / processes that require the use of tensorflow or keras need to be in this file. Other functions can be in a seperate python file. \n",
    "\n",
    "## **Process**\n",
    "1. Import the skeletonized images\n",
    "    - Convert to grayscale\n",
    "    - Save all images in an array with the corresponding labels\n",
    "2. Unravel all of the spirals\n",
    "    - Normalize so they all have the same length\n",
    "        - Do this by zero-padding?\n",
    "3. Perform spline fitting\n",
    "    - Subtract the spline from hand-drawing\n",
    "    - This is the \"deviation signal\"\n",
    "    - Convert to the frequency domain\n",
    "        - Take the fft\n",
    "        - Plot the magnitude of a couple of the spirals\n",
    "5. Extract features\n",
    "    - Need to decide what will be passed in as features for classification\n",
    "        - variance, SNR, bandwidth, peaks, center freq?\n",
    "6.  Run features through classifiers\n",
    "    - RF, SVM, NB, KNN\n"
   ]
  },
  {
   "cell_type": "code",
   "execution_count": 107,
   "metadata": {},
   "outputs": [],
   "source": [
    "# import libraries\n",
    "import numpy as np\n",
    "import pandas as pd\n",
    "import matplotlib.pyplot as plt\n",
    "import cv2\n",
    "import os\n",
    "import warnings\n",
    "import seaborn as sns\n",
    "\n",
    "# import ML libraries\n",
    "from sklearn import utils, svm, metrics\n",
    "from sklearn.model_selection import train_test_split, GridSearchCV, cross_val_score\n",
    "from scipy.interpolate import UnivariateSpline \n",
    "\n",
    "# import files with certain functions\n",
    "from code_files.archSpiral import * # functions of interest are 'unravelSpiral' and 'calcDist_to_center' \n",
    "\n",
    "warnings.filterwarnings('ignore')"
   ]
  },
  {
   "cell_type": "markdown",
   "metadata": {},
   "source": [
    "## <center>Step 1: Import Skeletonized Images<center>"
   ]
  },
  {
   "cell_type": "code",
   "execution_count": 5,
   "metadata": {},
   "outputs": [
    {
     "name": "stdout",
     "output_type": "stream",
     "text": [
      "size of imgs array:  (382, 1000, 1000)\n",
      "size of lbls array:  (382,)\n",
      "Healthy:  206 , PD:  176\n"
     ]
    },
    {
     "data": {
      "image/png": "[encoded data removed]",
      "text/plain": [
       "<Figure size 432x288 with 1 Axes>"
      ]
     },
     "metadata": {
      "needs_background": "light"
     },
     "output_type": "display_data"
    }
   ],
   "source": [
    "dir = os.getcwd()\n",
    "folder_path = 'C:/Users/Rebecca/Documents/Virginia_Tech/Research/database-images/database-images/skel/spiral' #dir + '/datasets/folador_skeletonize/skeletons/spirals/'\n",
    "\n",
    "imgs = [] # create empty array to store all the images\n",
    "lbls = [] # create empty array to store the labels of the images\n",
    "img_names = []\n",
    "for img_name in os.listdir(folder_path):\n",
    "    img_path = os.path.join(folder_path, img_name)\n",
    "    img = cv2.imread(img_path)\n",
    "    \n",
    "    # convert to grayscale\n",
    "    img = cv2.cvtColor(img, cv2.COLOR_BGR2GRAY)\n",
    "\n",
    "    img[img > 50] = 255\n",
    "    img[img != 255] = 0\n",
    "\n",
    "\n",
    "    # save image in 'imgs' array\n",
    "    imgs.append(img)\n",
    "\n",
    "    # save the labels in 'lbls' array\n",
    "    # need to determine if it is healthy or parkinsons based on 'H' or 'P' being present in the file name\n",
    "    if 'H' in img_name:\n",
    "        lbls.append(0)\n",
    "    else:\n",
    "        lbls.append(1)\n",
    "\n",
    "    img_names.append(img_name)\n",
    "\n",
    "# shuffle the data\n",
    "# imgs, lbls = utils.shuffle(imgs, lbls)\n",
    "\n",
    "print(\"size of imgs array: \", np.shape(imgs))\n",
    "print(\"size of lbls array: \", np.shape(lbls))\n",
    "\n",
    "# plot the distribution of labls\n",
    "sns.countplot(lbls)\n",
    "print(\"Healthy: \", len(lbls)-np.count_nonzero(lbls), \", PD: \", np.count_nonzero(lbls))"
   ]
  },
  {
   "cell_type": "markdown",
   "metadata": {},
   "source": [
    "## <center>Step 2: Unravel Spirals<center>"
   ]
  },
  {
   "cell_type": "code",
   "execution_count": 6,
   "metadata": {},
   "outputs": [
    {
     "name": "stdout",
     "output_type": "stream",
     "text": [
      "(382,)\n"
     ]
    }
   ],
   "source": [
    "numImgs = len(imgs)\n",
    "unraveledSpirals = [] # create empty array to store unraveled spirals\n",
    "\n",
    "# iterate through all images and unravel\n",
    "for i in range(numImgs):\n",
    "    print(i, end='\\r')\n",
    "    center = unravelSpiral(imgs[i])\n",
    "    unravelledImg = calcDist_to_center(imgs[i], center)\n",
    "    unraveledSpirals.append(unravelledImg)\n",
    "\n",
    "print(np.shape(unraveledSpirals))\n",
    "\n",
    "# then need to normalize (do by zero padding)"
   ]
  },
  {
   "cell_type": "markdown",
   "metadata": {},
   "source": [
    "## <center>Step 3: Perform Spline Fitting<center>"
   ]
  },
  {
   "cell_type": "code",
   "execution_count": 18,
   "metadata": {},
   "outputs": [
    {
     "name": "stdout",
     "output_type": "stream",
     "text": [
      "381\r"
     ]
    }
   ],
   "source": [
    "fftSignals = [] \n",
    "\n",
    "# iterate through all the unravelled spirals\n",
    "# fit a spline to each spiral individually\n",
    "# subtract the spline from the hand-drawing\n",
    "# store this difference signal in 'deviationSignals'\n",
    "for i in range(numImgs):\n",
    "    print(i, end='\\r')\n",
    "    # print(img_names[i])\n",
    "\n",
    "    hand_drawing = unraveledSpirals[i][::2]\n",
    "    numSamples = np.linspace(0, len(hand_drawing)-1, len(hand_drawing))    \n",
    "\n",
    "    pad_width = 3750 - len(hand_drawing)\n",
    "    pad_array = np.ones(pad_width).astype(np.int) \n",
    "\n",
    "\n",
    "    # calculate the line-of-best-fit (LOBF) or \"spline\"\n",
    "    spl = UnivariateSpline(numSamples, hand_drawing, s=len(numSamples)*25, k=2)\n",
    "    lobf = spl(numSamples)\n",
    "\n",
    "    # plt.plot(hand_drawing)\n",
    "    # plt.plot(lobf)\n",
    "    # plt.show()\n",
    "\n",
    "    # take the difference\n",
    "    diff = hand_drawing - lobf\n",
    "    \n",
    "    # take the magnitude of the fft to convert to the frequency domain\n",
    "    diff = (np.abs(np.fft.fftshift(np.fft.fft(diff)) / len(hand_drawing)))\n",
    "    mean = np.mean(diff)\n",
    "    diff = np.append(diff, (pad_array * mean))\n",
    "\n",
    "    fftSignals.append(diff)\n",
    "    \n",
    "    xaxis = np.linspace(0, 3750-1, 3750)\n",
    "    yaxis = np.append(hand_drawing, pad_array)\n",
    "    lobf = np.append(lobf, pad_array)\n",
    "\n",
    "    # fig, ax = plt.subplots(1,2,figsize=(20,5))\n",
    "    # ax[0].plot(xaxis, yaxis, label=\"data\", color='r')\n",
    "    # ax[0].plot(xaxis, lobf, label=\"LOBF\", color='b')\n",
    "    # ax[1].plot(xaxis, diff)\n",
    "    # plt.show()"
   ]
  },
  {
   "cell_type": "markdown",
   "metadata": {},
   "source": [
    "## <center>Step 4: Extract Features<center>"
   ]
  },
  {
   "cell_type": "code",
   "execution_count": 19,
   "metadata": {},
   "outputs": [],
   "source": [
    "# SNR, variance, BW, center freq, peaks\n",
    "\n",
    "# obtain the magnitude\n",
    "peaks = []\n",
    "centers = []\n",
    "var = []\n",
    "snr = []\n",
    "bw = []\n",
    "\n",
    "for i in range(numImgs):\n",
    "    sig = np.around(fftSignals[i], decimals=10) # round the values to 10 decimal places\n",
    "    max = np.max(sig) # calculate the peak\n",
    "\n",
    "    # find the \"center freq\" location\n",
    "    peak_loc = np.argwhere(sig == max) \n",
    "    center_loc = peak_loc[0] + int((peak_loc[1] - peak_loc[0])/2)\n",
    "\n",
    "    # calculate the variance\n",
    "    sigVar = np.var(sig)\n",
    "\n",
    "    # calculate SNR\n",
    "    # seperate into noise part and signal part\n",
    "    # calculate noise_floor threshold\n",
    "    noise_floor = np.mean(sig)*2\n",
    "    nf_approx = np.around(noise_floor,3)\n",
    "    part_sig=[]\n",
    "    part_noise=[]\n",
    "    for samp in sig:\n",
    "        if samp > nf_approx:\n",
    "            part_sig.append(samp)\n",
    "        else:\n",
    "            part_noise.append(samp)\n",
    "    # calc SNR\n",
    "    m_sq = np.mean(part_sig)**2\n",
    "    v    = np.var(part_noise)\n",
    "    sigSNR = m_sq / v # mean of the signal squared / variance of the noise\n",
    "\n",
    "    # avg = np.mean(sig)\n",
    "    # std_dev = np.std(sig)\n",
    "    # sigSNR = np.where(std_dev == 0, 0, avg/std_dev)\n",
    "\n",
    "    # calculate the bandwidth\n",
    "    # this will just be the total number of signal samples\n",
    "    sigBW = len(part_sig)\n",
    "\n",
    "    peaks.append(max)\n",
    "    centers.append(center_loc)\n",
    "    var.append(sigVar)\n",
    "    snr.append(sigSNR)\n",
    "    bw.append(sigBW)"
   ]
  },
  {
   "cell_type": "code",
   "execution_count": 45,
   "metadata": {},
   "outputs": [
    {
     "name": "stdout",
     "output_type": "stream",
     "text": [
      "381\r"
     ]
    }
   ],
   "source": [
    "# plot the histogram infromation of an images\n",
    "# need to load in the original images (do this based on 'image_names' and just need to remove 'skel_' from out front)\n",
    "# will need to set the right folder paths to load the folders\n",
    "hist = []\n",
    "thresh_val=[]\n",
    "orig_img_folder_path = 'C:/Users/Rebecca/Documents/Virginia_Tech/Research/database-images/database-images/orig/spiral/'\n",
    "for i in range(numImgs):\n",
    "    print(i, end='\\r')\n",
    "    img_name = img_names[i].replace('skel_', '')\n",
    "    \n",
    "    if 'H' in img_name:\n",
    "        group = 'healthy/'\n",
    "    else:\n",
    "        group = 'parkinson/'\n",
    "\n",
    "    path = orig_img_folder_path + group + img_name\n",
    "    img = cv2.imread(path)\n",
    "    img = cv2.cvtColor(img, cv2.COLOR_BGR2GRAY)\n",
    "\n",
    "    # create the histogram\n",
    "    thresh = np.mean(img)\n",
    "    error = 255 - thresh\n",
    "    thresh = np.around(thresh - error, 1)\n",
    "\n",
    "    sigHist = 0\n",
    "    sigThresh = thresh\n",
    "    for x in range(np.shape(img)[0]):\n",
    "        for y in range(np.shape(img)[1]):\n",
    "            if img[x][y] < thresh:\n",
    "                sigHist+=1\n",
    "\n",
    "    hist.append(sigHist)\n",
    "    thresh_val.append(sigThresh)"
   ]
  },
  {
   "cell_type": "markdown",
   "metadata": {},
   "source": [
    "## <center>Step 5: Run Features Through Classifier<center>"
   ]
  },
  {
   "cell_type": "code",
   "execution_count": 82,
   "metadata": {},
   "outputs": [],
   "source": [
    "# first put all the features in a dataframe\n",
    "\n",
    "# try classifying with SVM\n",
    "# https://www.datacamp.com/tutorial/svm-classification-scikit-learn-python "
   ]
  },
  {
   "cell_type": "code",
   "execution_count": 79,
   "metadata": {},
   "outputs": [
    {
     "data": {
      "text/html": [
       "<div>\n",
       "<style scoped>\n",
       "    .dataframe tbody tr th:only-of-type {\n",
       "        vertical-align: middle;\n",
       "    }\n",
       "\n",
       "    .dataframe tbody tr th {\n",
       "        vertical-align: top;\n",
       "    }\n",
       "\n",
       "    .dataframe thead th {\n",
       "        text-align: right;\n",
       "    }\n",
       "</style>\n",
       "<table border=\"1\" class=\"dataframe\">\n",
       "  <thead>\n",
       "    <tr style=\"text-align: right;\">\n",
       "      <th></th>\n",
       "      <th>labels</th>\n",
       "      <th>peaks</th>\n",
       "      <th>centers</th>\n",
       "      <th>variance</th>\n",
       "      <th>SNR</th>\n",
       "      <th>BW</th>\n",
       "      <th>hist</th>\n",
       "      <th>thresh_val</th>\n",
       "    </tr>\n",
       "  </thead>\n",
       "  <tbody>\n",
       "    <tr>\n",
       "      <th>0</th>\n",
       "      <td>0</td>\n",
       "      <td>1.349553</td>\n",
       "      <td>[1164]</td>\n",
       "      <td>0.006341</td>\n",
       "      <td>947.167450</td>\n",
       "      <td>130</td>\n",
       "      <td>4338</td>\n",
       "      <td>239.6</td>\n",
       "    </tr>\n",
       "    <tr>\n",
       "      <th>1</th>\n",
       "      <td>0</td>\n",
       "      <td>2.180498</td>\n",
       "      <td>[1130]</td>\n",
       "      <td>0.006359</td>\n",
       "      <td>1103.208044</td>\n",
       "      <td>112</td>\n",
       "      <td>4412</td>\n",
       "      <td>238.7</td>\n",
       "    </tr>\n",
       "    <tr>\n",
       "      <th>2</th>\n",
       "      <td>0</td>\n",
       "      <td>2.167111</td>\n",
       "      <td>[1178]</td>\n",
       "      <td>0.006311</td>\n",
       "      <td>569.276182</td>\n",
       "      <td>158</td>\n",
       "      <td>4973</td>\n",
       "      <td>236.0</td>\n",
       "    </tr>\n",
       "    <tr>\n",
       "      <th>3</th>\n",
       "      <td>0</td>\n",
       "      <td>1.763585</td>\n",
       "      <td>[1172]</td>\n",
       "      <td>0.006276</td>\n",
       "      <td>678.878554</td>\n",
       "      <td>138</td>\n",
       "      <td>4598</td>\n",
       "      <td>235.8</td>\n",
       "    </tr>\n",
       "    <tr>\n",
       "      <th>4</th>\n",
       "      <td>0</td>\n",
       "      <td>1.586627</td>\n",
       "      <td>[1438]</td>\n",
       "      <td>0.006309</td>\n",
       "      <td>830.932725</td>\n",
       "      <td>160</td>\n",
       "      <td>5060</td>\n",
       "      <td>235.4</td>\n",
       "    </tr>\n",
       "  </tbody>\n",
       "</table>\n",
       "</div>"
      ],
      "text/plain": [
       "   labels     peaks centers  variance          SNR   BW  hist  thresh_val\n",
       "0       0  1.349553  [1164]  0.006341   947.167450  130  4338       239.6\n",
       "1       0  2.180498  [1130]  0.006359  1103.208044  112  4412       238.7\n",
       "2       0  2.167111  [1178]  0.006311   569.276182  158  4973       236.0\n",
       "3       0  1.763585  [1172]  0.006276   678.878554  138  4598       235.8\n",
       "4       0  1.586627  [1438]  0.006309   830.932725  160  5060       235.4"
      ]
     },
     "execution_count": 79,
     "metadata": {},
     "output_type": "execute_result"
    }
   ],
   "source": [
    "fft_features = {'labels':lbls,'peaks': peaks, 'centers':centers, 'variance':var, 'SNR':snr, 'BW':bw, 'hist': hist, 'thresh_val': thresh_val}\n",
    "fft_df = pd.DataFrame(fft_features)\n",
    "fft_df.head()\n",
    "\n",
    "# save as csv \n",
    "# fft_df.to_csv('fft_df.csv', index=False)\n",
    "# fft_raw = {'fft_data': fftSignals, 'labels':lbls}\n",
    "# fft_raw = pd.DataFrame(fft_raw)\n",
    "# fft_raw.head()\n"
   ]
  },
  {
   "cell_type": "code",
   "execution_count": 149,
   "metadata": {},
   "outputs": [],
   "source": [
    "x_train, x_test, y_train, y_test = train_test_split(fft_df.drop(['labels', 'hist', 'thresh_val'], axis=1), fft_df.labels, test_size=0.20, random_state=24) #'peaks', 'variance', 'SNR', stratify=fft_df.labels"
   ]
  },
  {
   "cell_type": "code",
   "execution_count": 128,
   "metadata": {},
   "outputs": [
    {
     "data": {
      "text/plain": [
       "<AxesSubplot:xlabel='labels', ylabel='count'>"
      ]
     },
     "execution_count": 128,
     "metadata": {},
     "output_type": "execute_result"
    },
    {
     "data": {
      "image/png": "[encoded data removed]",
      "text/plain": [
       "<Figure size 576x216 with 2 Axes>"
      ]
     },
     "metadata": {
      "needs_background": "light"
     },
     "output_type": "display_data"
    }
   ],
   "source": [
    "fig, ax = plt.subplots(1,2, figsize=(8,3))\n",
    "sns.countplot(y_train, ax=ax[0])\n",
    "sns.countplot(y_test, ax=ax[1])"
   ]
  },
  {
   "cell_type": "code",
   "execution_count": 65,
   "metadata": {},
   "outputs": [
    {
     "name": "stdout",
     "output_type": "stream",
     "text": [
      "Accuracy: 0.5844155844155844\n"
     ]
    }
   ],
   "source": [
    "clf = svm.SVC(kernel='poly')\n",
    "clf.fit(x_train, y_train)\n",
    "\n",
    "y_pred = clf.predict(x_test)\n",
    "\n",
    "print(\"Accuracy:\", metrics.accuracy_score(y_test, y_pred))"
   ]
  },
  {
   "cell_type": "code",
   "execution_count": 150,
   "metadata": {},
   "outputs": [
    {
     "name": "stdout",
     "output_type": "stream",
     "text": [
      "Random State:  1\n",
      "The model is 76.62% accurate\n",
      "Random State:  2\n",
      "The model is 66.23% accurate\n",
      "Random State:  3\n",
      "The model is 77.92% accurate\n",
      "Random State:  4\n",
      "The model is 71.43% accurate\n",
      "Random State:  5\n",
      "The model is 71.43% accurate\n",
      "Random State:  6\n",
      "The model is 62.339999999999996% accurate\n",
      "Random State:  7\n",
      "The model is 77.92% accurate\n",
      "Random State:  8\n",
      "The model is 71.43% accurate\n",
      "Random State:  9\n",
      "The model is 75.32% accurate\n",
      "Random State:  10\n",
      "The model is 79.22% accurate\n",
      "Random State:  11\n",
      "The model is 75.32% accurate\n",
      "Random State:  12\n",
      "The model is 77.92% accurate\n",
      "Random State:  13\n",
      "The model is 71.43% accurate\n",
      "Random State:  14\n",
      "The model is 75.32% accurate\n",
      "Random State:  15\n",
      "The model is 66.23% accurate\n",
      "Random State:  16\n",
      "The model is 70.13000000000001% accurate\n",
      "Random State:  17\n",
      "The model is 71.43% accurate\n",
      "Random State:  18\n",
      "The model is 74.03% accurate\n",
      "Random State:  19\n",
      "The model is 74.03% accurate\n",
      "Random State:  20\n",
      "The model is 62.339999999999996% accurate\n",
      "Random State:  21\n",
      "The model is 66.23% accurate\n",
      "Random State:  22\n",
      "The model is 79.22% accurate\n",
      "Random State:  23\n",
      "The model is 71.43% accurate\n",
      "Random State:  24\n",
      "The model is 80.52% accurate\n",
      "Random State:  25\n",
      "The model is 74.03% accurate\n",
      "Random states:  [ 1  2  3  4  5  6  7  8  9 10 11 12 13 14 15 16 17 18 19 20 21 22 23 24\n",
      " 25]\n",
      "Average accuracy:  0.727788\n",
      "Standard deviation:  0.05002214165747006\n",
      "Average TNR:  0.7501744408585179\n",
      "Average TPR:  0.7177710339643301\n"
     ]
    }
   ],
   "source": [
    "# create SVM classifier\n",
    "def SVM_classifier(train_data, train_labels, val_data, val_labels):\n",
    "\n",
    "    #clf = svm.SVC(kernel='poly', degree=5)\n",
    "    param_grid={'C':[100],'degree':[2,5,10],'kernel':['poly']}\n",
    "    clf = svm.SVC(probability=True)\n",
    "    svm_clf = GridSearchCV(clf, param_grid, cv=5)\n",
    "\n",
    "    # train model\n",
    "    svm_clf.fit(train_data, train_labels)\n",
    "    # print(model.cv_results_.keys())\n",
    "    # print(model.cv_results_)\n",
    "\n",
    "    svm_clf.best_params_\n",
    "    # print(svm_clf.best_params_)\n",
    "\n",
    "    # predict the model\n",
    "    pred = (svm_clf.predict(val_data))\n",
    "\n",
    "    # calculate accuracy\n",
    "    acc = round(metrics.accuracy_score(val_labels, pred),4)\n",
    "    cfm = metrics.confusion_matrix(val_labels, pred)\n",
    "    tpr = cfm[0][0] / (cfm[0][0] + cfm[1][0])\n",
    "    tnr = cfm[1][1] / (cfm[1][1] + cfm[0][1])\n",
    "\n",
    "    # print(\"The predicted data is: \", pred)\n",
    "    # print(\"The actual data is: \", np.array(val_labels))\n",
    "    print(f\"The model is {acc*100}% accurate\")\n",
    "\n",
    "    return acc, tpr, tnr, cfm\n",
    "\n",
    "svm_acc = []\n",
    "svm_tpr = []\n",
    "svm_tnr = []\n",
    "svm_cfm = []\n",
    "\n",
    "for ii in range(25):\n",
    "    print('Random State: ', ii+1)\n",
    "    rs = np.linspace(1, 25, 25).astype(np.int)\n",
    "    x_train, x_test, y_train, y_test = train_test_split(fft_df.drop(['labels', 'hist', 'thresh_val'], axis=1), fft_df.labels, test_size=0.20, random_state=rs[ii]) #'peaks', 'variance', 'SNR', stratify=fft_df.labels\n",
    "    temp_acc, temp_tpr, temp_tnr, temp_cfm = SVM_classifier(x_train, y_train, x_test, y_test)\n",
    "    svm_acc.append(temp_acc)\n",
    "    svm_tpr.append(temp_tpr)\n",
    "    svm_tnr.append(temp_tnr)\n",
    "    svm_cfm.append(temp_cfm)\n",
    "\n",
    "\n",
    "print(\"Random states: \", rs)\n",
    "# print(\"Accuracy scores: \", svm_acc)\n",
    "print(\"Average accuracy: \", np.mean(svm_acc))\n",
    "print(\"Standard deviation: \", np.std(svm_acc))\n",
    "print(\"Average TNR: \", np.mean(svm_tnr))\n",
    "print(\"Average TPR: \", np.mean(svm_tpr))"
   ]
  },
  {
   "cell_type": "code",
   "execution_count": 151,
   "metadata": {},
   "outputs": [
    {
     "name": "stdout",
     "output_type": "stream",
     "text": [
      "[array([[35,  4],\n",
      "       [14, 24]], dtype=int64), array([[33, 11],\n",
      "       [15, 18]], dtype=int64), array([[39,  5],\n",
      "       [12, 21]], dtype=int64), array([[34,  8],\n",
      "       [14, 21]], dtype=int64), array([[29, 13],\n",
      "       [ 9, 26]], dtype=int64), array([[30,  3],\n",
      "       [26, 18]], dtype=int64), array([[36,  4],\n",
      "       [13, 24]], dtype=int64), array([[34,  6],\n",
      "       [16, 21]], dtype=int64), array([[35,  5],\n",
      "       [14, 23]], dtype=int64), array([[40,  8],\n",
      "       [ 8, 21]], dtype=int64), array([[33, 10],\n",
      "       [ 9, 25]], dtype=int64), array([[37,  4],\n",
      "       [13, 23]], dtype=int64), array([[37, 11],\n",
      "       [11, 18]], dtype=int64), array([[34,  8],\n",
      "       [11, 24]], dtype=int64), array([[32, 11],\n",
      "       [15, 19]], dtype=int64), array([[34,  6],\n",
      "       [17, 20]], dtype=int64), array([[40, 13],\n",
      "       [ 9, 15]], dtype=int64), array([[30,  5],\n",
      "       [15, 27]], dtype=int64), array([[33, 10],\n",
      "       [10, 24]], dtype=int64), array([[25, 10],\n",
      "       [19, 23]], dtype=int64), array([[28,  7],\n",
      "       [19, 23]], dtype=int64), array([[39,  7],\n",
      "       [ 9, 22]], dtype=int64), array([[31,  6],\n",
      "       [16, 24]], dtype=int64), array([[40,  6],\n",
      "       [ 9, 22]], dtype=int64), array([[36,  5],\n",
      "       [15, 21]], dtype=int64)]\n"
     ]
    }
   ],
   "source": [
    "print(svm_cfm)"
   ]
  },
  {
   "cell_type": "code",
   "execution_count": 223,
   "metadata": {},
   "outputs": [
    {
     "data": {
      "text/plain": [
       "<Figure size 432x288 with 0 Axes>"
      ]
     },
     "metadata": {},
     "output_type": "display_data"
    },
    {
     "data": {
      "image/png": "[encoded data removed]",
      "text/plain": [
       "<Figure size 720x504 with 1 Axes>"
      ]
     },
     "metadata": {
      "needs_background": "light"
     },
     "output_type": "display_data"
    }
   ],
   "source": [
    "## Plotting\n",
    "num_tests = np.linspace(1,len(svm_acc), len(svm_acc))\n",
    "\n",
    "plt.figure(2)\n",
    "plt.figure(figsize=(10,7))\n",
    "plt.rcParams.update({'font.size': 12})\n",
    "\n",
    "plt.plot(num_tests, svm_acc, 'b')\n",
    "plt.show()"
   ]
  },
  {
   "cell_type": "code",
   "execution_count": 132,
   "metadata": {},
   "outputs": [
    {
     "name": "stdout",
     "output_type": "stream",
     "text": [
      "pause\n"
     ]
    }
   ],
   "source": [
    "print('pause')"
   ]
  },
  {
   "cell_type": "markdown",
   "metadata": {},
   "source": [
    "### Random Forest"
   ]
  },
  {
   "cell_type": "code",
   "execution_count": 106,
   "metadata": {},
   "outputs": [
    {
     "name": "stdout",
     "output_type": "stream",
     "text": [
      "Accuracy: 0.7272727272727273\n"
     ]
    }
   ],
   "source": [
    "from sklearn.ensemble import RandomForestClassifier\n",
    "\n",
    "clf = RandomForestClassifier(n_estimators=100)\n",
    "clf.fit(x_train, y_train)\n",
    "\n",
    "y_pred = clf.predict(x_test)\n",
    "\n",
    "print(\"Accuracy:\", metrics.accuracy_score(y_test, y_pred))\n"
   ]
  },
  {
   "cell_type": "code",
   "execution_count": null,
   "metadata": {},
   "outputs": [],
   "source": []
  },
  {
   "cell_type": "code",
   "execution_count": null,
   "metadata": {},
   "outputs": [],
   "source": []
  }
 ],
 "metadata": {
  "kernelspec": {
   "display_name": "Python 3.9.12 ('MLEnv')",
   "language": "python",
   "name": "python3"
  },
  "language_info": {
   "codemirror_mode": {
    "name": "ipython",
    "version": 3
   },
   "file_extension": ".py",
   "mimetype": "text/x-python",
   "name": "python",
   "nbconvert_exporter": "python",
   "pygments_lexer": "ipython3",
   "version": "3.9.12"
  },
  "orig_nbformat": 4,
  "vscode": {
   "interpreter": {
    "hash": "e234cb3a6d44168381e6f6673d50d0e52fa65a6fba8cecddf6f45db9097571d7"
   }
  }
 },
 "nbformat": 4,
 "nbformat_minor": 2
}
