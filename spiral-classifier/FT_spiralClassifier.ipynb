{
 "cells": [
  {
   "cell_type": "markdown",
   "metadata": {},
   "source": [
    "# <center>**Classification of Unraveled Spirals**<center>\n",
    "\n",
    "#### **Goal:** obtain a distance error between the misclassified hand drawn spirals and a LOBF (\"ideal\") spiral\n",
    "\n",
    "Any functions / processes that require the use of tensorflow or keras need to be in this file. Other functions can be in a seperate python file. \n",
    "\n",
    "## **Process**\n",
    "1. Import the skeletonized images\n",
    "    - Convert to grayscale\n",
    "    - Save all images in an array with the corresponding labels\n",
    "2. Unravel all of the spirals\n",
    "    - Normalize so they all have the same length\n",
    "        - Do this by zero-padding?\n",
    "3. Perform spline fitting\n",
    "    - Subtract the spline from hand-drawing\n",
    "    - This is the \"deviation signal\"\n",
    "    - Convert to the frequency domain\n",
    "        - Take the fft\n",
    "        - Plot the magnitude of a couple of the spirals\n",
    "5. Extract features\n",
    "    - Need to decide what will be passed in as features for classification\n",
    "        - variance, SNR, bandwidth, peaks, center freq?\n",
    "6.  Run features through classifiers\n",
    "    - RF, SVM, NB, KNN\n"
   ]
  },
  {
   "cell_type": "code",
   "execution_count": 1,
   "metadata": {},
   "outputs": [
    {
     "name": "stderr",
     "output_type": "stream",
     "text": [
      "c:\\Users\\Rebecca\\anaconda3\\envs\\MLEnv\\lib\\site-packages\\scipy\\__init__.py:146: UserWarning: A NumPy version >=1.16.5 and <1.23.0 is required for this version of SciPy (detected version 1.23.1\n",
      "  warnings.warn(f\"A NumPy version >={np_minversion} and <{np_maxversion}\"\n"
     ]
    }
   ],
   "source": [
    "# import libraries\n",
    "import numpy as np\n",
    "import pandas as pd\n",
    "import matplotlib.pyplot as plt\n",
    "import cv2\n",
    "import os\n",
    "import warnings\n",
    "import seaborn as sns\n",
    "\n",
    "# import ML libraries\n",
    "from sklearn import utils, svm, metrics\n",
    "from sklearn.model_selection import train_test_split, GridSearchCV\n",
    "from scipy.interpolate import UnivariateSpline \n",
    "\n",
    "# import files with certain functions\n",
    "from code_files.archSpiral import * # functions of interest are 'unravelSpiral' and 'calcDist_to_center' \n",
    "\n",
    "warnings.filterwarnings('ignore')"
   ]
  },
  {
   "cell_type": "markdown",
   "metadata": {},
   "source": [
    "## <center>Step 1: Import Skeletonized Images<center>"
   ]
  },
  {
   "cell_type": "code",
   "execution_count": 2,
   "metadata": {},
   "outputs": [
    {
     "name": "stdout",
     "output_type": "stream",
     "text": [
      "size of imgs array:  (61, 1000, 1000)\n",
      "size of lbls array:  (61,)\n"
     ]
    },
    {
     "data": {
      "text/plain": [
       "<AxesSubplot:ylabel='count'>"
      ]
     },
     "execution_count": 2,
     "metadata": {},
     "output_type": "execute_result"
    },
    {
     "data": {
      "image/png": "[encoded data removed]",
      "text/plain": [
       "<Figure size 432x288 with 1 Axes>"
      ]
     },
     "metadata": {
      "needs_background": "light"
     },
     "output_type": "display_data"
    }
   ],
   "source": [
    "dir = os.getcwd()\n",
    "folder_path = dir + '/datasets/folador_skeletonize/skeletons/'\n",
    "\n",
    "imgs = [] # create empty array to store all the images\n",
    "lbls = [] # create empty array to store the labels of the images\n",
    "for img_name in os.listdir(folder_path):\n",
    "    img_path = os.path.join(folder_path, img_name)\n",
    "    img = cv2.imread(img_path)\n",
    "    \n",
    "    # convert to grayscale\n",
    "    img = cv2.cvtColor(img, cv2.COLOR_BGR2GRAY)\n",
    "\n",
    "    # save image in 'imgs' array\n",
    "    imgs.append(img)\n",
    "\n",
    "    # save the labels in 'lbls' array\n",
    "    # need to determine if it is healthy or parkinsons based on 'H' or 'P' being present in the file name\n",
    "    if 'H' in img_name:\n",
    "        lbls.append(0)\n",
    "    else:\n",
    "        lbls.append(1)\n",
    "\n",
    "# shuffle the data\n",
    "# imgs, lbls = utils.shuffle(imgs, lbls)\n",
    "\n",
    "print(\"size of imgs array: \", np.shape(imgs))\n",
    "print(\"size of lbls array: \", np.shape(lbls))\n",
    "\n",
    "# plot the distribution of labls\n",
    "sns.countplot(lbls)"
   ]
  },
  {
   "cell_type": "markdown",
   "metadata": {},
   "source": [
    "## <center>Step 2: Unravel Spirals<center>"
   ]
  },
  {
   "cell_type": "code",
   "execution_count": 3,
   "metadata": {},
   "outputs": [
    {
     "name": "stdout",
     "output_type": "stream",
     "text": [
      "(61,)\n"
     ]
    }
   ],
   "source": [
    "numImgs = len(imgs)\n",
    "unraveledSpirals = [] # create empty array to store unraveled spirals\n",
    "\n",
    "# iterate through all images and unravel\n",
    "for i in range(numImgs):\n",
    "    center = unravelSpiral(imgs[i])\n",
    "    unravelledImg = calcDist_to_center(imgs[i], center)\n",
    "    unraveledSpirals.append(unravelledImg)\n",
    "\n",
    "print(np.shape(unraveledSpirals))\n",
    "\n",
    "# then need to normalize (do by zero padding)"
   ]
  },
  {
   "cell_type": "markdown",
   "metadata": {},
   "source": [
    "## <center>Step 3: Perform Spline Fitting<center>"
   ]
  },
  {
   "cell_type": "code",
   "execution_count": 107,
   "metadata": {},
   "outputs": [],
   "source": [
    "fftSignals = [] \n",
    "\n",
    "# iterate through all the unravelled spirals\n",
    "# fit a spline to each spiral individually\n",
    "# subtract the spline from the hand-drawing\n",
    "# store this difference signal in 'deviationSignals'\n",
    "for i in range(numImgs):\n",
    "    # print(lbls[i])\n",
    "\n",
    "    hand_drawing = unraveledSpirals[i][::2]\n",
    "    numSamples = np.linspace(0, len(hand_drawing)-1, len(hand_drawing))    \n",
    "\n",
    "    pad_width = 3750 - len(hand_drawing)\n",
    "    pad_array = np.ones(pad_width).astype(np.int) \n",
    "\n",
    "\n",
    "    # calculate the line-of-best-fit (LOBF) or \"spline\"\n",
    "    spl = UnivariateSpline(numSamples, hand_drawing, s=len(numSamples)*25, k=2)\n",
    "    lobf = spl(numSamples)\n",
    "\n",
    "    # plt.plot(hand_drawing)\n",
    "    # plt.plot(lobf)\n",
    "    # plt.show()\n",
    "\n",
    "    # take the difference\n",
    "    diff = hand_drawing - lobf\n",
    "    \n",
    "    # take the magnitude of the fft to convert to the frequency domain\n",
    "    diff = (np.abs(np.fft.fftshift(np.fft.fft(diff)) / len(hand_drawing)))\n",
    "    mean = np.mean(diff)\n",
    "    diff = np.append(diff, (pad_array * mean))\n",
    "\n",
    "    fftSignals.append(diff)\n",
    "    \n",
    "    xaxis = np.linspace(0, 3750-1, 3750)\n",
    "    yaxis = np.append(hand_drawing, pad_array)\n",
    "    lobf = np.append(lobf, pad_array)\n",
    "\n",
    "    # fig, ax = plt.subplots(1,2,figsize=(20,5))\n",
    "    # ax[0].plot(xaxis, yaxis, label=\"data\", color='r')\n",
    "    # ax[0].plot(xaxis, lobf, label=\"LOBF\", color='b')\n",
    "    # ax[1].plot(xaxis, diff)\n",
    "    # plt.show()"
   ]
  },
  {
   "cell_type": "markdown",
   "metadata": {},
   "source": [
    "## <center>Step 4: Extract Features<center>"
   ]
  },
  {
   "cell_type": "code",
   "execution_count": 79,
   "metadata": {},
   "outputs": [],
   "source": [
    "# SNR, variance, BW, center freq, peaks\n",
    "\n",
    "# obtain the magnitude\n",
    "peaks = []\n",
    "centers = []\n",
    "var = []\n",
    "snr = []\n",
    "\n",
    "for i in range(numImgs):\n",
    "    sig = np.around(fftSignals[i], decimals=10) # round the values to 10 decimal places\n",
    "    max = np.max(sig) # calculate the peak\n",
    "\n",
    "    # find the \"center freq\" location\n",
    "    peak_loc = np.argwhere(sig == max) \n",
    "    center_loc = peak_loc[0] + int((peak_loc[1] - peak_loc[0])/2)\n",
    "\n",
    "    # calculate the variance\n",
    "    sigVar = np.var(sig)\n",
    "\n",
    "    # calculate SNR\n",
    "    avg = np.mean(sig)\n",
    "    std_dev = np.std(sig)\n",
    "    sigSNR = np.where(std_dev == 0, 0, avg/std_dev)\n",
    "\n",
    "    peaks.append(max)\n",
    "    centers.append(center_loc)\n",
    "    var.append(sigVar)\n",
    "    snr.append(sigSNR)"
   ]
  },
  {
   "cell_type": "code",
   "execution_count": 80,
   "metadata": {},
   "outputs": [],
   "source": [
    "# calculate the bandwidth (BW)\n",
    "bw = []\n",
    "\n",
    "for i in range(numImgs):\n",
    "    sig = fftSignals[i]\n",
    "    noise_floor = np.mean(sig)*2\n",
    "\n",
    "    numSamples = np.linspace(0, len(sig)-1, len(sig))  \n",
    "    spl = UnivariateSpline(numSamples, sig, s=.1)\n",
    "    lobf = spl(numSamples)  \n",
    "    \n",
    "    lobf_approx = np.around(lobf, 3) \n",
    "    nf_approx = np.around(noise_floor,3)\n",
    "    diff = np.around(np.abs(lobf_approx - nf_approx),3)\n",
    "    intersectsNF = np.argwhere(diff <= 0.002)\n",
    "    bw.append(intersectsNF[-1] - intersectsNF[0])\n"
   ]
  },
  {
   "cell_type": "code",
   "execution_count": 81,
   "metadata": {},
   "outputs": [
    {
     "name": "stdout",
     "output_type": "stream",
     "text": [
      "[192] 0\n"
     ]
    },
    {
     "data": {
      "image/png": "[encoded data removed]",
      "text/plain": [
       "<Figure size 2160x720 with 1 Axes>"
      ]
     },
     "metadata": {
      "needs_background": "light"
     },
     "output_type": "display_data"
    }
   ],
   "source": [
    "for i in range(1):\n",
    "    print(bw[i], lbls[i])\n",
    "    sig = fftSignals[i]\n",
    "    numSamples = np.linspace(0, len(sig)-1, len(sig))  \n",
    "    spl = UnivariateSpline(numSamples, sig, s=.15)\n",
    "    lobf = spl(numSamples)  \n",
    "    \n",
    "    plt.figure(figsize=(30,10))\n",
    "    plt.plot(xaxis, sig, color='gray')\n",
    "    plt.plot(xaxis, np.ones(3750).astype(np.int)*np.mean(sig)*2, color='blue')\n",
    "    plt.plot(xaxis, lobf, color='red')\n",
    "    plt.show()"
   ]
  },
  {
   "cell_type": "markdown",
   "metadata": {},
   "source": [
    "## <center>Step 5: Run Features Through Classifier<center>"
   ]
  },
  {
   "cell_type": "code",
   "execution_count": 82,
   "metadata": {},
   "outputs": [],
   "source": [
    "# first put all the features in a dataframe\n",
    "\n",
    "# try classifying with SVM\n",
    "# https://www.datacamp.com/tutorial/svm-classification-scikit-learn-python "
   ]
  },
  {
   "cell_type": "code",
   "execution_count": 83,
   "metadata": {},
   "outputs": [],
   "source": [
    "fft_features = {'labels':lbls,'peaks': peaks, 'centers':centers, 'variance':var, 'SNR':snr, 'BW':bw}\n",
    "fft_df = pd.DataFrame(fft_features)\n",
    "fft_df.head()\n",
    "\n",
    "# save as csv \n",
    "fft_df.to_csv('fft_df.csv', index=False)\n",
    "# fft_raw = {'fft_data': fftSignals, 'labels':lbls}\n",
    "# fft_raw = pd.DataFrame(fft_raw)\n",
    "# fft_raw.head()\n"
   ]
  },
  {
   "cell_type": "code",
   "execution_count": 96,
   "metadata": {},
   "outputs": [],
   "source": [
    "x_train, x_test, y_train, y_test = train_test_split(fft_df.drop(['labels'], axis=1), fft_df.labels, test_size=.2, stratify=fft_df.labels) #'peaks', 'variance', 'SNR'"
   ]
  },
  {
   "cell_type": "code",
   "execution_count": 97,
   "metadata": {},
   "outputs": [
    {
     "data": {
      "text/plain": [
       "<AxesSubplot:xlabel='labels', ylabel='count'>"
      ]
     },
     "execution_count": 97,
     "metadata": {},
     "output_type": "execute_result"
    },
    {
     "data": {
      "image/png": "[encoded data removed]",
      "text/plain": [
       "<Figure size 576x216 with 2 Axes>"
      ]
     },
     "metadata": {
      "needs_background": "light"
     },
     "output_type": "display_data"
    }
   ],
   "source": [
    "fig, ax = plt.subplots(1,2, figsize=(8,3))\n",
    "sns.countplot(y_train, ax=ax[0])\n",
    "sns.countplot(y_test, ax=ax[1])"
   ]
  },
  {
   "cell_type": "code",
   "execution_count": 98,
   "metadata": {},
   "outputs": [
    {
     "name": "stdout",
     "output_type": "stream",
     "text": [
      "Accuracy: 0.6153846153846154\n"
     ]
    }
   ],
   "source": [
    "clf = svm.SVC(kernel='poly')\n",
    "clf.fit(x_train, y_train)\n",
    "\n",
    "y_pred = clf.predict(x_test)\n",
    "\n",
    "print(\"Accuracy:\", metrics.accuracy_score(y_test, y_pred))"
   ]
  },
  {
   "cell_type": "code",
   "execution_count": 49,
   "metadata": {},
   "outputs": [],
   "source": [
    "# create SVM classifier\n",
    "def SVM_classifier(train_data, train_labels, val_data, val_labels):\n",
    "\n",
    "    #clf = svm.SVC(kernel='poly', degree=5)\n",
    "    param_grid={'C':[0.1,5,10,100],'degree':[2,5,7,10],'kernel':['rbf','poly']}\n",
    "    clf = svm.SVC(probability=True)\n",
    "    model = GridSearchCV(clf, param_grid)\n",
    "\n",
    "    # train model\n",
    "    #clf.fit(train_data, train_labels)\n",
    "    model.fit(train_data, train_labels)\n",
    "\n",
    "    model.best_params_\n",
    "    print(model.best_params_)\n",
    "\n",
    "    # predict the model\n",
    "    pred = (model.predict(val_data))\n",
    "\n",
    "    # calculate accuracy\n",
    "    acc = round(metrics.accuracy_score(pred, val_labels),4)\n",
    "\n",
    "    print(\"The predicted data is: \", pred)\n",
    "    print(\"The actual data is: \", np.array(val_labels))\n",
    "    print(f\"The model is {acc*100}% accurate\")\n",
    "\n",
    "    return acc, pred\n",
    "\n",
    "svm_acc = []\n",
    "\n",
    "for ii in range(0,10):\n",
    "    temp_acc, svm_pred = SVM_classifier(x_train, y_train, x_test, y_test)\n",
    "    svm_acc.append(temp_acc)\n",
    "\n",
    "print(\"Average accurage: \", np.mean(svm_acc))"
   ]
  },
  {
   "cell_type": "code",
   "execution_count": 223,
   "metadata": {},
   "outputs": [
    {
     "data": {
      "text/plain": [
       "<Figure size 432x288 with 0 Axes>"
      ]
     },
     "metadata": {},
     "output_type": "display_data"
    },
    {
     "data": {
      "image/png": "[encoded data removed]",
      "text/plain": [
       "<Figure size 720x504 with 1 Axes>"
      ]
     },
     "metadata": {
      "needs_background": "light"
     },
     "output_type": "display_data"
    }
   ],
   "source": [
    "## Plotting\n",
    "num_tests = np.linspace(1,len(svm_acc), len(svm_acc))\n",
    "\n",
    "plt.figure(2)\n",
    "plt.figure(figsize=(10,7))\n",
    "plt.rcParams.update({'font.size': 12})\n",
    "\n",
    "plt.plot(num_tests, svm_acc, 'b')\n",
    "plt.show()"
   ]
  },
  {
   "cell_type": "markdown",
   "metadata": {},
   "source": [
    "### Random Forest"
   ]
  },
  {
   "cell_type": "code",
   "execution_count": 106,
   "metadata": {},
   "outputs": [
    {
     "name": "stdout",
     "output_type": "stream",
     "text": [
      "Accuracy: 0.7692307692307693\n"
     ]
    }
   ],
   "source": [
    "from sklearn.ensemble import RandomForestClassifier\n",
    "\n",
    "clf = RandomForestClassifier(n_estimators=100)\n",
    "clf.fit(x_train, y_train)\n",
    "\n",
    "y_pred = clf.predict(x_test)\n",
    "\n",
    "print(\"Accuracy:\", metrics.accuracy_score(y_test, y_pred))\n"
   ]
  },
  {
   "cell_type": "code",
   "execution_count": null,
   "metadata": {},
   "outputs": [],
   "source": []
  },
  {
   "cell_type": "code",
   "execution_count": null,
   "metadata": {},
   "outputs": [],
   "source": []
  }
 ],
 "metadata": {
  "kernelspec": {
   "display_name": "Python 3.9.12 ('MLEnv')",
   "language": "python",
   "name": "python3"
  },
  "language_info": {
   "codemirror_mode": {
    "name": "ipython",
    "version": 3
   },
   "file_extension": ".py",
   "mimetype": "text/x-python",
   "name": "python",
   "nbconvert_exporter": "python",
   "pygments_lexer": "ipython3",
   "version": "3.9.12"
  },
  "orig_nbformat": 4,
  "vscode": {
   "interpreter": {
    "hash": "e234cb3a6d44168381e6f6673d50d0e52fa65a6fba8cecddf6f45db9097571d7"
   }
  }
 },
 "nbformat": 4,
 "nbformat_minor": 2
}
