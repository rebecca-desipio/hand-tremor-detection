{
 "cells": [
  {
   "cell_type": "code",
   "execution_count": 1,
   "metadata": {},
   "outputs": [],
   "source": [
    "# import libraries\n",
    "from ctypes import util\n",
    "import PIL\n",
    "from PIL import Image\n",
    "import numpy as np\n",
    "import os\n",
    "from sklearn import utils\n",
    "import matplotlib.pyplot as plt\n",
    "import random"
   ]
  },
  {
   "cell_type": "code",
   "execution_count": 71,
   "metadata": {},
   "outputs": [],
   "source": [
    "# load in the data\n",
    "dataset_folder = 'Spiral_DataSet1_relabelled'\n",
    "\n",
    "data_array = []\n",
    "labels = []\n",
    "itr = 0\n",
    "\n",
    "# iterate through all images and combine into one dataset with a mix of both healthy and PD images\n",
    "# create an array of corresponding labels (1 - PD, 0 - healthy)\n",
    "for labeled_folder in os.listdir(dataset_folder):\n",
    "    '''\n",
    "    if labeled_folder == \"healthy\":\n",
    "        healthy = np.zeros(len(os.listdir(dataset_folder + \"/\" + labeled_folder)), dtype=object)\n",
    "        itr = 0\n",
    "    else:\n",
    "        pd = np.zeros(len(os.listdir(dataset_folder + \"/\" + labeled_folder)), dtype=object)\n",
    "        itr = 0\n",
    "    '''\n",
    "    for img in os.listdir(dataset_folder + \"/\" + labeled_folder):\n",
    "        \n",
    "        image = PIL.Image.open(dataset_folder + \"/\" + labeled_folder + \"/\" + img)\n",
    "        image = image.convert(\"L\")\n",
    "        #bw_image.show()\n",
    "        image_array = np.array(image)\n",
    "        image_array[image_array < 200] = 0    # black\n",
    "        image_array[image_array >= 200] = 255 # white\n",
    "\n",
    "        # check length of array to make sure size 256x256, if not, add white pixels onto the end\n",
    "        img_size = np.size(image_array)\n",
    "        if img_size == 256**2:\n",
    "\n",
    "            #imfile = Image.fromarray(image_array)\n",
    "            #imfile.show(imfile)        \n",
    "\n",
    "            data_array.append(image_array.flatten().astype(float))\n",
    "            #data_array[itr] = image_array.flatten().astype(float)\n",
    "\n",
    "            if labeled_folder == \"healthy\": \n",
    "                labels.append(0)\n",
    "            else:\n",
    "                labels.append(1)\n",
    "\n",
    "            itr = itr+1\n",
    "\n",
    "        '''\n",
    "        # break up the data into labelled arrays\n",
    "        if labeled_folder == \"healthy\":\n",
    "            healthy[itr] = image_array.flatten()\n",
    "        else:\n",
    "            pd[itr] = image_array.flatten()\n",
    "        itr = itr + 1\n",
    "        '''\n",
    "\n",
    "\n",
    "# Now we have all the images in array form to analyze\n",
    "\n",
    "#print(np.shape(healthy))\n",
    "#print(np.size(healthy))\n",
    "#print(healthy)"
   ]
  },
  {
   "cell_type": "code",
   "execution_count": 86,
   "metadata": {},
   "outputs": [
    {
     "name": "stdout",
     "output_type": "stream",
     "text": [
      "Validation labels:  [0 0 1 0 0 1 0 0 1 1 0 0 1 1 1 1 1 0 0 1 0]\n"
     ]
    }
   ],
   "source": [
    "# ---------------------------------------------------------------\n",
    "#            Split into training and validation data\n",
    "# ---------------------------------------------------------------\n",
    "data_array, labels = utils.shuffle(np.array(data_array), np.array(labels))\n",
    "\n",
    "num_trn = round(99 - 99*0.2) \n",
    "\n",
    "# split into training and validation data\n",
    "train_data = data_array[:num_trn] / 255\n",
    "train_labels = labels[:num_trn]\n",
    "\n",
    "val_data = np.delete(data_array, np.linspace(0,num_trn, num_trn-1).astype(int), axis=0) / 255\n",
    "val_labels = np.delete(labels, np.linspace(0,num_trn, num_trn-1).astype(int), axis=0)\n",
    "print(\"Validation labels: \", val_labels)\n",
    "\n",
    "tdata = []\n",
    "for i in range(len(train_data)):\n",
    "    tdata.append(np.reshape(train_data[i], (256,256,1)))\n",
    "vdata = []\n",
    "for i in range(len(val_data)):\n",
    "    vdata.append(np.reshape(val_data[i], (256,256,1)))"
   ]
  },
  {
   "cell_type": "markdown",
   "metadata": {},
   "source": [
    "## KNN Classification"
   ]
  },
  {
   "cell_type": "code",
   "execution_count": 87,
   "metadata": {},
   "outputs": [],
   "source": [
    "# --------------------------------------------------------\n",
    "#                       KNN classification\n",
    "# --------------------------------------------------------\n",
    "\n",
    "from sklearn.neighbors import KNeighborsClassifier\n",
    "\n",
    "knnModel = KNeighborsClassifier(n_neighbors=3)\n",
    "trained_model = knnModel.fit(list(train_data), train_labels.astype(int))\n",
    "\n",
    "accuracies = []\n",
    "for k in range(1, 16, 1):\n",
    "    # train the k-Nearest Neighbor classifier with the current value of `k`\n",
    "    model = KNeighborsClassifier(n_neighbors=k)\n",
    "    model.fit(list(train_data), train_labels.astype(int))\n",
    "    # evaluate the model and update the accuracies list\n",
    "    score = model.score(list(val_data), val_labels.astype(int))\n",
    "    #print(\"k=%d, accuracy=%.2f%%\" % (k, score * 100))\n",
    "    accuracies.append(score)"
   ]
  },
  {
   "cell_type": "code",
   "execution_count": 88,
   "metadata": {},
   "outputs": [
    {
     "name": "stdout",
     "output_type": "stream",
     "text": [
      "0.7142857142857143\n"
     ]
    },
    {
     "data": {
      "image/png": "[encoded data removed]",
      "text/plain": [
       "<Figure size 432x288 with 1 Axes>"
      ]
     },
     "metadata": {
      "needs_background": "light"
     },
     "output_type": "display_data"
    }
   ],
   "source": [
    "## ----------------------------------\n",
    "#         Plot the Results\n",
    "## ----------------------------------\n",
    "k=np.linspace(1,15,15)\n",
    "val_accuracy = accuracies\n",
    "max_acc = np.argmax(val_accuracy)\n",
    "print(val_accuracy[max_acc])\n",
    "\n",
    "plt.plot(k, val_accuracy, 'b')\n",
    "plt.plot(max_acc+1, val_accuracy[max_acc], 'r', marker='o', markersize=7)\n",
    "plt.ylim([0,1])\n",
    "plt.xlabel(\"k\")\n",
    "plt.ylabel(\"validation accuracy\")\n",
    "plt.grid('on')\n",
    "plt.show()\n"
   ]
  },
  {
   "cell_type": "markdown",
   "metadata": {},
   "source": [
    "## CNN Classification"
   ]
  },
  {
   "cell_type": "code",
   "execution_count": 89,
   "metadata": {},
   "outputs": [
    {
     "name": "stdout",
     "output_type": "stream",
     "text": [
      "Model: \"sequential_3\"\n",
      "_________________________________________________________________\n",
      " Layer (type)                Output Shape              Param #   \n",
      "=================================================================\n",
      " conv2d_6 (Conv2D)           (None, 254, 254, 32)      320       \n",
      "                                                                 \n",
      " max_pooling2d_6 (MaxPooling  (None, 127, 127, 32)     0         \n",
      " 2D)                                                             \n",
      "                                                                 \n",
      " dropout_9 (Dropout)         (None, 127, 127, 32)      0         \n",
      "                                                                 \n",
      " conv2d_7 (Conv2D)           (None, 125, 125, 64)      18496     \n",
      "                                                                 \n",
      " max_pooling2d_7 (MaxPooling  (None, 62, 62, 64)       0         \n",
      " 2D)                                                             \n",
      "                                                                 \n",
      " dropout_10 (Dropout)        (None, 62, 62, 64)        0         \n",
      "                                                                 \n",
      " flatten_3 (Flatten)         (None, 246016)            0         \n",
      "                                                                 \n",
      " dense_6 (Dense)             (None, 512)               125960704 \n",
      "                                                                 \n",
      " dropout_11 (Dropout)        (None, 512)               0         \n",
      "                                                                 \n",
      " dense_7 (Dense)             (None, 1)                 513       \n",
      "                                                                 \n",
      "=================================================================\n",
      "Total params: 125,980,033\n",
      "Trainable params: 125,980,033\n",
      "Non-trainable params: 0\n",
      "_________________________________________________________________\n",
      "[0 0 1 0 0 1 0 0 1 1 0 0 1 1 1 1 1 0 0 1 0]\n",
      "Epoch 1/20\n",
      "3/3 [==============================] - 6s 2s/step - loss: 35.9795 - accuracy: 0.5443 - val_loss: 12.1678 - val_accuracy: 0.5238\n",
      "Epoch 2/20\n",
      "3/3 [==============================] - 5s 2s/step - loss: 18.4550 - accuracy: 0.4430 - val_loss: 4.4165 - val_accuracy: 0.4762\n",
      "Epoch 3/20\n",
      "3/3 [==============================] - 5s 2s/step - loss: 6.6335 - accuracy: 0.4937 - val_loss: 0.9361 - val_accuracy: 0.5238\n",
      "Epoch 4/20\n",
      "3/3 [==============================] - 8s 3s/step - loss: 2.2900 - accuracy: 0.4937 - val_loss: 0.6953 - val_accuracy: 0.5238\n",
      "Epoch 5/20\n",
      "3/3 [==============================] - 9s 3s/step - loss: 0.8783 - accuracy: 0.5190 - val_loss: 0.6896 - val_accuracy: 0.4762\n",
      "Epoch 6/20\n",
      "3/3 [==============================] - 9s 3s/step - loss: 0.6946 - accuracy: 0.5063 - val_loss: 0.6902 - val_accuracy: 0.4762\n",
      "Epoch 7/20\n",
      "3/3 [==============================] - 10s 3s/step - loss: 0.6283 - accuracy: 0.6456 - val_loss: 0.6920 - val_accuracy: 0.5238\n",
      "Epoch 8/20\n",
      "3/3 [==============================] - 10s 3s/step - loss: 0.6033 - accuracy: 0.9241 - val_loss: 0.6879 - val_accuracy: 0.5714\n",
      "Epoch 9/20\n",
      "3/3 [==============================] - 10s 3s/step - loss: 0.5505 - accuracy: 0.7595 - val_loss: 0.6865 - val_accuracy: 0.5714\n",
      "Epoch 10/20\n",
      "3/3 [==============================] - 10s 3s/step - loss: 0.4542 - accuracy: 0.7595 - val_loss: 0.6369 - val_accuracy: 0.6667\n",
      "Epoch 11/20\n",
      "3/3 [==============================] - 9s 3s/step - loss: 0.3197 - accuracy: 0.9367 - val_loss: 0.6804 - val_accuracy: 0.6190\n",
      "Epoch 12/20\n",
      "3/3 [==============================] - 9s 3s/step - loss: 0.1995 - accuracy: 0.9620 - val_loss: 0.6054 - val_accuracy: 0.6667\n",
      "Epoch 13/20\n",
      "3/3 [==============================] - 9s 3s/step - loss: 0.1802 - accuracy: 0.9494 - val_loss: 0.8793 - val_accuracy: 0.6190\n",
      "Epoch 14/20\n",
      "3/3 [==============================] - 9s 3s/step - loss: 0.0722 - accuracy: 0.9873 - val_loss: 0.6447 - val_accuracy: 0.6667\n",
      "Epoch 15/20\n",
      "3/3 [==============================] - 9s 3s/step - loss: 0.0667 - accuracy: 0.9747 - val_loss: 0.7062 - val_accuracy: 0.6190\n",
      "Epoch 16/20\n",
      "3/3 [==============================] - 9s 3s/step - loss: 0.0175 - accuracy: 1.0000 - val_loss: 0.9305 - val_accuracy: 0.6667\n",
      "Epoch 17/20\n",
      "3/3 [==============================] - 8s 3s/step - loss: 0.0194 - accuracy: 1.0000 - val_loss: 0.9316 - val_accuracy: 0.6667\n",
      "Epoch 18/20\n",
      "3/3 [==============================] - 8s 3s/step - loss: 0.0086 - accuracy: 1.0000 - val_loss: 0.8647 - val_accuracy: 0.5714\n",
      "Epoch 19/20\n",
      "3/3 [==============================] - 9s 3s/step - loss: 0.0039 - accuracy: 1.0000 - val_loss: 0.8300 - val_accuracy: 0.6667\n",
      "Epoch 20/20\n",
      "3/3 [==============================] - 9s 3s/step - loss: 0.0032 - accuracy: 1.0000 - val_loss: 0.8378 - val_accuracy: 0.6667\n"
     ]
    }
   ],
   "source": [
    "# --------------------------------------------------------\n",
    "#                          CNN\n",
    "# --------------------------------------------------------\n",
    "\n",
    "from keras import Sequential\n",
    "from keras.layers import Conv2D, MaxPool2D, Flatten, Dense, Dropout\n",
    "\n",
    "model = Sequential([\n",
    "    Conv2D(32, (3,3), activation='relu', input_shape=(256,256,1)),\n",
    "    MaxPool2D((2,2)),\n",
    "    Dropout(0.25),\n",
    "    Conv2D(64, (3,3), activation='relu'),\n",
    "    MaxPool2D((2,2)),\n",
    "    Dropout(0.4),\n",
    "    Flatten(),\n",
    "    Dense(512, activation='relu'),\n",
    "    Dropout(0.3),\n",
    "    Dense(1,activation='sigmoid')\n",
    "])\n",
    "\n",
    "model.compile(optimizer='adam', loss='binary_crossentropy', metrics=['accuracy'])\n",
    "model.summary()\n",
    "\n",
    "## Train the model\n",
    "\n",
    "#import tensorflow as tf\n",
    "#tdata = tf.stack(tdata)\n",
    "#train_labels = tf.stack(train_labels)\n",
    "#vdata = tf.stack(vdata)\n",
    "#val_labels = tf.stack(val_labels)\n",
    "\n",
    "#from tensorflow.keras.utils import to_categorical\n",
    "#train_labels = to_categorical(train_labels)\n",
    "#val_labels = to_categorical(val_labels)\n",
    "\n",
    "#trained_model = model.fit(tdata, train_labels, epochs=10, validation_data=(vdata, val_labels))\n",
    "print(val_labels)\n",
    "trained_model = model.fit(np.array(tdata), np.array(train_labels), epochs=20, validation_data=(np.array(vdata), np.array(val_labels)))"
   ]
  },
  {
   "cell_type": "code",
   "execution_count": 90,
   "metadata": {},
   "outputs": [
    {
     "name": "stdout",
     "output_type": "stream",
     "text": [
      "0.6666666865348816\n"
     ]
    },
    {
     "data": {
      "image/png": "[encoded data removed]",
      "text/plain": [
       "<Figure size 432x288 with 1 Axes>"
      ]
     },
     "metadata": {
      "needs_background": "light"
     },
     "output_type": "display_data"
    },
    {
     "data": {
      "image/png": "[encoded data removed]",
      "text/plain": [
       "<Figure size 432x288 with 1 Axes>"
      ]
     },
     "metadata": {
      "needs_background": "light"
     },
     "output_type": "display_data"
    }
   ],
   "source": [
    "## ----------------------------------\n",
    "#         Plot the Results\n",
    "## ----------------------------------\n",
    "# Accuracy and Validation Accuracy\n",
    "accuracy = trained_model.history['accuracy']\n",
    "val_acc = trained_model.history['val_accuracy']\n",
    "epochs = range(len(accuracy))\n",
    "\n",
    "print(val_acc[np.argmax(val_acc)])\n",
    "\n",
    "plt.plot(epochs, accuracy, 'b', label='Training Accuracy')\n",
    "plt.plot(epochs, val_acc, 'r', label='Validation Accuracy')\n",
    "plt.title('Accuracy Graph')\n",
    "plt.legend()\n",
    "plt.figure()\n",
    "\n",
    "# Loss and Validation Loss\n",
    "loss = trained_model.history['loss']\n",
    "val_loss = trained_model.history['val_loss']\n",
    "\n",
    "plt.plot(epochs, loss, 'b', label='Training Loss')\n",
    "plt.plot(epochs, val_loss, 'r', label='Validation Loss')\n",
    "plt.title('Loss Graph')\n",
    "plt.legend()\n",
    "plt.show()"
   ]
  },
  {
   "cell_type": "markdown",
   "metadata": {},
   "source": [
    "## SVM"
   ]
  },
  {
   "cell_type": "code",
   "execution_count": 100,
   "metadata": {},
   "outputs": [
    {
     "ename": "ValueError",
     "evalue": "Found array with dim 4. Estimator expected <= 2.",
     "output_type": "error",
     "traceback": [
      "\u001b[1;31m---------------------------------------------------------------------------\u001b[0m",
      "\u001b[1;31mValueError\u001b[0m                                Traceback (most recent call last)",
      "\u001b[1;32mc:\\Users\\Rebecca\\Documents\\Virginia_Tech\\SP22\\Research\\git-repos\\hand-tremor-detection\\hand-drawn-spiral-classifier-100patients\\spiral_array_classifier.ipynb Cell 11'\u001b[0m in \u001b[0;36m<module>\u001b[1;34m\u001b[0m\n\u001b[0;32m      <a href='vscode-notebook-cell:/c%3A/Users/Rebecca/Documents/Virginia_Tech/SP22/Research/git-repos/hand-tremor-detection/hand-drawn-spiral-classifier-100patients/spiral_array_classifier.ipynb#ch0000013?line=4'>5</a>\u001b[0m clf \u001b[39m=\u001b[39m svm\u001b[39m.\u001b[39mSVC(kernel\u001b[39m=\u001b[39m\u001b[39m'\u001b[39m\u001b[39mlinear\u001b[39m\u001b[39m'\u001b[39m, C\u001b[39m=\u001b[39m\u001b[39m5\u001b[39m)\n\u001b[0;32m      <a href='vscode-notebook-cell:/c%3A/Users/Rebecca/Documents/Virginia_Tech/SP22/Research/git-repos/hand-tremor-detection/hand-drawn-spiral-classifier-100patients/spiral_array_classifier.ipynb#ch0000013?line=6'>7</a>\u001b[0m \u001b[39m# train model\u001b[39;00m\n\u001b[1;32m----> <a href='vscode-notebook-cell:/c%3A/Users/Rebecca/Documents/Virginia_Tech/SP22/Research/git-repos/hand-tremor-detection/hand-drawn-spiral-classifier-100patients/spiral_array_classifier.ipynb#ch0000013?line=7'>8</a>\u001b[0m clf\u001b[39m.\u001b[39;49mfit(tdata, vdata)\n",
      "File \u001b[1;32m~\\anaconda3\\envs\\MLenv\\lib\\site-packages\\sklearn\\svm\\_base.py:190\u001b[0m, in \u001b[0;36mBaseLibSVM.fit\u001b[1;34m(self, X, y, sample_weight)\u001b[0m\n\u001b[0;32m    <a href='file:///~/anaconda3/envs/MLenv/lib/site-packages/sklearn/svm/_base.py?line=187'>188</a>\u001b[0m     check_consistent_length(X, y)\n\u001b[0;32m    <a href='file:///~/anaconda3/envs/MLenv/lib/site-packages/sklearn/svm/_base.py?line=188'>189</a>\u001b[0m \u001b[39melse\u001b[39;00m:\n\u001b[1;32m--> <a href='file:///~/anaconda3/envs/MLenv/lib/site-packages/sklearn/svm/_base.py?line=189'>190</a>\u001b[0m     X, y \u001b[39m=\u001b[39m \u001b[39mself\u001b[39;49m\u001b[39m.\u001b[39;49m_validate_data(\n\u001b[0;32m    <a href='file:///~/anaconda3/envs/MLenv/lib/site-packages/sklearn/svm/_base.py?line=190'>191</a>\u001b[0m         X,\n\u001b[0;32m    <a href='file:///~/anaconda3/envs/MLenv/lib/site-packages/sklearn/svm/_base.py?line=191'>192</a>\u001b[0m         y,\n\u001b[0;32m    <a href='file:///~/anaconda3/envs/MLenv/lib/site-packages/sklearn/svm/_base.py?line=192'>193</a>\u001b[0m         dtype\u001b[39m=\u001b[39;49mnp\u001b[39m.\u001b[39;49mfloat64,\n\u001b[0;32m    <a href='file:///~/anaconda3/envs/MLenv/lib/site-packages/sklearn/svm/_base.py?line=193'>194</a>\u001b[0m         order\u001b[39m=\u001b[39;49m\u001b[39m\"\u001b[39;49m\u001b[39mC\u001b[39;49m\u001b[39m\"\u001b[39;49m,\n\u001b[0;32m    <a href='file:///~/anaconda3/envs/MLenv/lib/site-packages/sklearn/svm/_base.py?line=194'>195</a>\u001b[0m         accept_sparse\u001b[39m=\u001b[39;49m\u001b[39m\"\u001b[39;49m\u001b[39mcsr\u001b[39;49m\u001b[39m\"\u001b[39;49m,\n\u001b[0;32m    <a href='file:///~/anaconda3/envs/MLenv/lib/site-packages/sklearn/svm/_base.py?line=195'>196</a>\u001b[0m         accept_large_sparse\u001b[39m=\u001b[39;49m\u001b[39mFalse\u001b[39;49;00m,\n\u001b[0;32m    <a href='file:///~/anaconda3/envs/MLenv/lib/site-packages/sklearn/svm/_base.py?line=196'>197</a>\u001b[0m     )\n\u001b[0;32m    <a href='file:///~/anaconda3/envs/MLenv/lib/site-packages/sklearn/svm/_base.py?line=198'>199</a>\u001b[0m y \u001b[39m=\u001b[39m \u001b[39mself\u001b[39m\u001b[39m.\u001b[39m_validate_targets(y)\n\u001b[0;32m    <a href='file:///~/anaconda3/envs/MLenv/lib/site-packages/sklearn/svm/_base.py?line=200'>201</a>\u001b[0m sample_weight \u001b[39m=\u001b[39m np\u001b[39m.\u001b[39masarray(\n\u001b[0;32m    <a href='file:///~/anaconda3/envs/MLenv/lib/site-packages/sklearn/svm/_base.py?line=201'>202</a>\u001b[0m     [] \u001b[39mif\u001b[39;00m sample_weight \u001b[39mis\u001b[39;00m \u001b[39mNone\u001b[39;00m \u001b[39melse\u001b[39;00m sample_weight, dtype\u001b[39m=\u001b[39mnp\u001b[39m.\u001b[39mfloat64\n\u001b[0;32m    <a href='file:///~/anaconda3/envs/MLenv/lib/site-packages/sklearn/svm/_base.py?line=202'>203</a>\u001b[0m )\n",
      "File \u001b[1;32m~\\anaconda3\\envs\\MLenv\\lib\\site-packages\\sklearn\\base.py:581\u001b[0m, in \u001b[0;36mBaseEstimator._validate_data\u001b[1;34m(self, X, y, reset, validate_separately, **check_params)\u001b[0m\n\u001b[0;32m    <a href='file:///~/anaconda3/envs/MLenv/lib/site-packages/sklearn/base.py?line=578'>579</a>\u001b[0m         y \u001b[39m=\u001b[39m check_array(y, \u001b[39m*\u001b[39m\u001b[39m*\u001b[39mcheck_y_params)\n\u001b[0;32m    <a href='file:///~/anaconda3/envs/MLenv/lib/site-packages/sklearn/base.py?line=579'>580</a>\u001b[0m     \u001b[39melse\u001b[39;00m:\n\u001b[1;32m--> <a href='file:///~/anaconda3/envs/MLenv/lib/site-packages/sklearn/base.py?line=580'>581</a>\u001b[0m         X, y \u001b[39m=\u001b[39m check_X_y(X, y, \u001b[39m*\u001b[39m\u001b[39m*\u001b[39mcheck_params)\n\u001b[0;32m    <a href='file:///~/anaconda3/envs/MLenv/lib/site-packages/sklearn/base.py?line=581'>582</a>\u001b[0m     out \u001b[39m=\u001b[39m X, y\n\u001b[0;32m    <a href='file:///~/anaconda3/envs/MLenv/lib/site-packages/sklearn/base.py?line=583'>584</a>\u001b[0m \u001b[39mif\u001b[39;00m \u001b[39mnot\u001b[39;00m no_val_X \u001b[39mand\u001b[39;00m check_params\u001b[39m.\u001b[39mget(\u001b[39m\"\u001b[39m\u001b[39mensure_2d\u001b[39m\u001b[39m\"\u001b[39m, \u001b[39mTrue\u001b[39;00m):\n",
      "File \u001b[1;32m~\\anaconda3\\envs\\MLenv\\lib\\site-packages\\sklearn\\utils\\validation.py:964\u001b[0m, in \u001b[0;36mcheck_X_y\u001b[1;34m(X, y, accept_sparse, accept_large_sparse, dtype, order, copy, force_all_finite, ensure_2d, allow_nd, multi_output, ensure_min_samples, ensure_min_features, y_numeric, estimator)\u001b[0m\n\u001b[0;32m    <a href='file:///~/anaconda3/envs/MLenv/lib/site-packages/sklearn/utils/validation.py?line=960'>961</a>\u001b[0m \u001b[39mif\u001b[39;00m y \u001b[39mis\u001b[39;00m \u001b[39mNone\u001b[39;00m:\n\u001b[0;32m    <a href='file:///~/anaconda3/envs/MLenv/lib/site-packages/sklearn/utils/validation.py?line=961'>962</a>\u001b[0m     \u001b[39mraise\u001b[39;00m \u001b[39mValueError\u001b[39;00m(\u001b[39m\"\u001b[39m\u001b[39my cannot be None\u001b[39m\u001b[39m\"\u001b[39m)\n\u001b[1;32m--> <a href='file:///~/anaconda3/envs/MLenv/lib/site-packages/sklearn/utils/validation.py?line=963'>964</a>\u001b[0m X \u001b[39m=\u001b[39m check_array(\n\u001b[0;32m    <a href='file:///~/anaconda3/envs/MLenv/lib/site-packages/sklearn/utils/validation.py?line=964'>965</a>\u001b[0m     X,\n\u001b[0;32m    <a href='file:///~/anaconda3/envs/MLenv/lib/site-packages/sklearn/utils/validation.py?line=965'>966</a>\u001b[0m     accept_sparse\u001b[39m=\u001b[39;49maccept_sparse,\n\u001b[0;32m    <a href='file:///~/anaconda3/envs/MLenv/lib/site-packages/sklearn/utils/validation.py?line=966'>967</a>\u001b[0m     accept_large_sparse\u001b[39m=\u001b[39;49maccept_large_sparse,\n\u001b[0;32m    <a href='file:///~/anaconda3/envs/MLenv/lib/site-packages/sklearn/utils/validation.py?line=967'>968</a>\u001b[0m     dtype\u001b[39m=\u001b[39;49mdtype,\n\u001b[0;32m    <a href='file:///~/anaconda3/envs/MLenv/lib/site-packages/sklearn/utils/validation.py?line=968'>969</a>\u001b[0m     order\u001b[39m=\u001b[39;49morder,\n\u001b[0;32m    <a href='file:///~/anaconda3/envs/MLenv/lib/site-packages/sklearn/utils/validation.py?line=969'>970</a>\u001b[0m     copy\u001b[39m=\u001b[39;49mcopy,\n\u001b[0;32m    <a href='file:///~/anaconda3/envs/MLenv/lib/site-packages/sklearn/utils/validation.py?line=970'>971</a>\u001b[0m     force_all_finite\u001b[39m=\u001b[39;49mforce_all_finite,\n\u001b[0;32m    <a href='file:///~/anaconda3/envs/MLenv/lib/site-packages/sklearn/utils/validation.py?line=971'>972</a>\u001b[0m     ensure_2d\u001b[39m=\u001b[39;49mensure_2d,\n\u001b[0;32m    <a href='file:///~/anaconda3/envs/MLenv/lib/site-packages/sklearn/utils/validation.py?line=972'>973</a>\u001b[0m     allow_nd\u001b[39m=\u001b[39;49mallow_nd,\n\u001b[0;32m    <a href='file:///~/anaconda3/envs/MLenv/lib/site-packages/sklearn/utils/validation.py?line=973'>974</a>\u001b[0m     ensure_min_samples\u001b[39m=\u001b[39;49mensure_min_samples,\n\u001b[0;32m    <a href='file:///~/anaconda3/envs/MLenv/lib/site-packages/sklearn/utils/validation.py?line=974'>975</a>\u001b[0m     ensure_min_features\u001b[39m=\u001b[39;49mensure_min_features,\n\u001b[0;32m    <a href='file:///~/anaconda3/envs/MLenv/lib/site-packages/sklearn/utils/validation.py?line=975'>976</a>\u001b[0m     estimator\u001b[39m=\u001b[39;49mestimator,\n\u001b[0;32m    <a href='file:///~/anaconda3/envs/MLenv/lib/site-packages/sklearn/utils/validation.py?line=976'>977</a>\u001b[0m )\n\u001b[0;32m    <a href='file:///~/anaconda3/envs/MLenv/lib/site-packages/sklearn/utils/validation.py?line=978'>979</a>\u001b[0m y \u001b[39m=\u001b[39m _check_y(y, multi_output\u001b[39m=\u001b[39mmulti_output, y_numeric\u001b[39m=\u001b[39my_numeric)\n\u001b[0;32m    <a href='file:///~/anaconda3/envs/MLenv/lib/site-packages/sklearn/utils/validation.py?line=980'>981</a>\u001b[0m check_consistent_length(X, y)\n",
      "File \u001b[1;32m~\\anaconda3\\envs\\MLenv\\lib\\site-packages\\sklearn\\utils\\validation.py:794\u001b[0m, in \u001b[0;36mcheck_array\u001b[1;34m(array, accept_sparse, accept_large_sparse, dtype, order, copy, force_all_finite, ensure_2d, allow_nd, ensure_min_samples, ensure_min_features, estimator)\u001b[0m\n\u001b[0;32m    <a href='file:///~/anaconda3/envs/MLenv/lib/site-packages/sklearn/utils/validation.py?line=788'>789</a>\u001b[0m         \u001b[39mraise\u001b[39;00m \u001b[39mValueError\u001b[39;00m(\n\u001b[0;32m    <a href='file:///~/anaconda3/envs/MLenv/lib/site-packages/sklearn/utils/validation.py?line=789'>790</a>\u001b[0m             \u001b[39m\"\u001b[39m\u001b[39mUnable to convert array of bytes/strings \u001b[39m\u001b[39m\"\u001b[39m\n\u001b[0;32m    <a href='file:///~/anaconda3/envs/MLenv/lib/site-packages/sklearn/utils/validation.py?line=790'>791</a>\u001b[0m             \u001b[39m\"\u001b[39m\u001b[39minto decimal numbers with dtype=\u001b[39m\u001b[39m'\u001b[39m\u001b[39mnumeric\u001b[39m\u001b[39m'\u001b[39m\u001b[39m\"\u001b[39m\n\u001b[0;32m    <a href='file:///~/anaconda3/envs/MLenv/lib/site-packages/sklearn/utils/validation.py?line=791'>792</a>\u001b[0m         ) \u001b[39mfrom\u001b[39;00m \u001b[39me\u001b[39;00m\n\u001b[0;32m    <a href='file:///~/anaconda3/envs/MLenv/lib/site-packages/sklearn/utils/validation.py?line=792'>793</a>\u001b[0m \u001b[39mif\u001b[39;00m \u001b[39mnot\u001b[39;00m allow_nd \u001b[39mand\u001b[39;00m array\u001b[39m.\u001b[39mndim \u001b[39m>\u001b[39m\u001b[39m=\u001b[39m \u001b[39m3\u001b[39m:\n\u001b[1;32m--> <a href='file:///~/anaconda3/envs/MLenv/lib/site-packages/sklearn/utils/validation.py?line=793'>794</a>\u001b[0m     \u001b[39mraise\u001b[39;00m \u001b[39mValueError\u001b[39;00m(\n\u001b[0;32m    <a href='file:///~/anaconda3/envs/MLenv/lib/site-packages/sklearn/utils/validation.py?line=794'>795</a>\u001b[0m         \u001b[39m\"\u001b[39m\u001b[39mFound array with dim \u001b[39m\u001b[39m%d\u001b[39;00m\u001b[39m. \u001b[39m\u001b[39m%s\u001b[39;00m\u001b[39m expected <= 2.\u001b[39m\u001b[39m\"\u001b[39m\n\u001b[0;32m    <a href='file:///~/anaconda3/envs/MLenv/lib/site-packages/sklearn/utils/validation.py?line=795'>796</a>\u001b[0m         \u001b[39m%\u001b[39m (array\u001b[39m.\u001b[39mndim, estimator_name)\n\u001b[0;32m    <a href='file:///~/anaconda3/envs/MLenv/lib/site-packages/sklearn/utils/validation.py?line=796'>797</a>\u001b[0m     )\n\u001b[0;32m    <a href='file:///~/anaconda3/envs/MLenv/lib/site-packages/sklearn/utils/validation.py?line=798'>799</a>\u001b[0m \u001b[39mif\u001b[39;00m force_all_finite:\n\u001b[0;32m    <a href='file:///~/anaconda3/envs/MLenv/lib/site-packages/sklearn/utils/validation.py?line=799'>800</a>\u001b[0m     _assert_all_finite(array, allow_nan\u001b[39m=\u001b[39mforce_all_finite \u001b[39m==\u001b[39m \u001b[39m\"\u001b[39m\u001b[39mallow-nan\u001b[39m\u001b[39m\"\u001b[39m)\n",
      "\u001b[1;31mValueError\u001b[0m: Found array with dim 4. Estimator expected <= 2."
     ]
    }
   ],
   "source": [
    "# import SVM library\n",
    "from sklearn import svm\n",
    "\n",
    "# create SVM classifier\n",
    "clf = svm.SVC(kernel='linear', C=5)\n",
    "\n",
    "# train model\n",
    "clf.fit(tdata, vdata)"
   ]
  },
  {
   "cell_type": "code",
   "execution_count": null,
   "metadata": {},
   "outputs": [],
   "source": []
  }
 ],
 "metadata": {
  "interpreter": {
   "hash": "be06593c2f7c6c659d27d21530649fc496370ea6abbb7431f6c1d3f2c07b5e69"
  },
  "kernelspec": {
   "display_name": "Python 3.9.7 ('MLenv')",
   "language": "python",
   "name": "python3"
  },
  "language_info": {
   "codemirror_mode": {
    "name": "ipython",
    "version": 3
   },
   "file_extension": ".py",
   "mimetype": "text/x-python",
   "name": "python",
   "nbconvert_exporter": "python",
   "pygments_lexer": "ipython3",
   "version": "3.9.7"
  },
  "orig_nbformat": 4
 },
 "nbformat": 4,
 "nbformat_minor": 2
}
