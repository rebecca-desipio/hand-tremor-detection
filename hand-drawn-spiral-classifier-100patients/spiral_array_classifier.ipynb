{
 "cells": [
  {
   "cell_type": "code",
   "execution_count": 1,
   "metadata": {},
   "outputs": [],
   "source": [
    "# import libraries\n",
    "from ctypes import util\n",
    "import PIL\n",
    "from PIL import Image\n",
    "import numpy as np\n",
    "import os\n",
    "from sklearn import utils\n",
    "import matplotlib.pyplot as plt\n",
    "import random\n",
    "\n",
    "# import a couple more libraries needed for method 2 data preprocessing\n",
    "from sklearn.model_selection import train_test_split\n",
    "import imutils\n",
    "import cv2"
   ]
  },
  {
   "cell_type": "markdown",
   "metadata": {},
   "source": [
    "## **Preprocess Data**\n",
    "### METHOD 1(Into RGB Pixel Values)\n",
    "Take raw images and using PIL, convert into an array. Then make strictly black or white pixels: 0 = black, 255 = white. \n",
    "\n",
    "Also, create a 'labels' array that contains the corresponding labels of the images: healthy (0) or parkinsons (1)\n",
    "\n",
    "Results:\n",
    "\n",
    "        data_array : contains all bw images as pixel values\n",
    "        labels     : corresponding labels to these images (0 or 1)"
   ]
  },
  {
   "cell_type": "code",
   "execution_count": 2,
   "metadata": {},
   "outputs": [],
   "source": [
    "# load in the data\n",
    "dataset_folder = 'Spiral_DataSet1_relabelled'\n",
    "\n",
    "data_array = []\n",
    "labels = []\n",
    "img_path = []\n",
    "features = []\n",
    "itr = 0\n",
    "\n",
    "# iterate through all images and combine into one dataset with a mix of both healthy and PD images\n",
    "# create an array of corresponding labels (1 - PD, 0 - healthy)\n",
    "for labeled_folder in os.listdir(dataset_folder):\n",
    "    '''\n",
    "    if labeled_folder == \"healthy\":\n",
    "        healthy = np.zeros(len(os.listdir(dataset_folder + \"/\" + labeled_folder)), dtype=object)\n",
    "        itr = 0\n",
    "    else:\n",
    "        pd = np.zeros(len(os.listdir(dataset_folder + \"/\" + labeled_folder)), dtype=object)\n",
    "        itr = 0\n",
    "    '''\n",
    "    for img in os.listdir(dataset_folder + \"/\" + labeled_folder):\n",
    "\n",
    "        # store image_path for method 2 preprocessing\n",
    "        img_path = dataset_folder + \"/\" + labeled_folder + \"/\" + img\n",
    "\n",
    "        ## ----------- METHOD 1 -------------\n",
    "        image = PIL.Image.open(img_path)\n",
    "        image = image.convert(\"L\")\n",
    "        #bw_image.show()\n",
    "        image_array = np.array(image)\n",
    "        image_array[image_array < 200] = 0    # black\n",
    "        image_array[image_array >= 200] = 255 # white\n",
    "\n",
    "        # check length of array to make sure size 256x256, if not, add white pixels onto the end\n",
    "        img_size = np.size(image_array)\n",
    "        if img_size == 256**2:\n",
    "\n",
    "            #imfile = Image.fromarray(image_array)\n",
    "            #imfile.show(imfile)        \n",
    "\n",
    "            data_array.append(image_array.flatten().astype(float))\n",
    "            #data_array[itr] = image_array.flatten().astype(float)    \n",
    "\n",
    "            if labeled_folder == \"healthy\": \n",
    "                labels.append(0)\n",
    "            else:\n",
    "                labels.append(1)\n",
    "\n",
    "            itr = itr+1\n",
    "\n",
    "        '''\n",
    "        # break up the data into labelled arrays\n",
    "        if labeled_folder == \"healthy\":\n",
    "            healthy[itr] = image_array.flatten()\n",
    "        else:\n",
    "            pd[itr] = image_array.flatten()\n",
    "        itr = itr + 1\n",
    "        '''\n",
    "\n",
    "\n",
    "# Now we have all the images in array form to analyze\n",
    "\n",
    "#print(np.shape(healthy))\n",
    "#print(np.size(healthy))\n",
    "#print(healthy)"
   ]
  },
  {
   "cell_type": "markdown",
   "metadata": {},
   "source": [
    "## **Split into testing and validation data**"
   ]
  },
  {
   "cell_type": "code",
   "execution_count": 34,
   "metadata": {},
   "outputs": [
    {
     "name": "stdout",
     "output_type": "stream",
     "text": [
      "Validation labels:  [0 1 1 1 1 1 1 1 1 0 1 0 0 1 0 1 0 0 1 1 0]\n"
     ]
    }
   ],
   "source": [
    "# ---------------------------------------------------------------\n",
    "#        Split into training and validation data (METHOD 1)\n",
    "# ---------------------------------------------------------------\n",
    "def shuffle_data(data_array, labels):\n",
    "    data_array, labels = utils.shuffle(np.array(data_array), np.array(labels))\n",
    "\n",
    "    num_trn = round(99 - 99*0.2) \n",
    "\n",
    "    # split into training and validation data\n",
    "    train_data = data_array[:num_trn] / 255\n",
    "    train_labels = labels[:num_trn]\n",
    "\n",
    "    val_data = np.delete(data_array, np.linspace(0,num_trn, num_trn-1).astype(int), axis=0) / 255\n",
    "    val_labels = np.delete(labels, np.linspace(0,num_trn, num_trn-1).astype(int), axis=0)\n",
    "    print(\"Validation labels: \", val_labels)\n",
    "\n",
    "    tdata = []\n",
    "    for i in range(len(train_data)):\n",
    "        tdata.append(np.reshape(train_data[i], (256,256,1)))\n",
    "    vdata = []\n",
    "    for i in range(len(val_data)):\n",
    "        vdata.append(np.reshape(val_data[i], (256,256,1)))\n",
    "\n",
    "    return train_data, train_labels, val_data, val_labels, tdata, vdata\n",
    "\n",
    "train_data, train_labels, val_data, val_labels, tdata, vdata = shuffle_data(data_array, labels)"
   ]
  },
  {
   "cell_type": "markdown",
   "metadata": {},
   "source": [
    "--------------------------------------------------------------------------------------------------\n",
    "## **KNN Classification**\n",
    "--------------------------------------------------------------------------------------------------"
   ]
  },
  {
   "cell_type": "code",
   "execution_count": 35,
   "metadata": {},
   "outputs": [],
   "source": [
    "from sklearn.neighbors import KNeighborsClassifier\n",
    "\n",
    "knnModel = KNeighborsClassifier(n_neighbors=3)\n",
    "trained_model = knnModel.fit(list(train_data), train_labels.astype(int))\n",
    "\n",
    "acc1 = []\n",
    "for k in range(1, 50, 1):\n",
    "    # train the k-Nearest Neighbor classifier with the current value of `k`\n",
    "    model = KNeighborsClassifier(n_neighbors=k)\n",
    "    model.fit(list(train_data), train_labels.astype(int))\n",
    "    # evaluate the model and update the accuracies list\n",
    "    score = model.score(list(val_data), val_labels.astype(int))\n",
    "    #print(\"k=%d, accuracy=%.2f%%\" % (k, score * 100))\n",
    "    acc1.append(score)"
   ]
  },
  {
   "cell_type": "code",
   "execution_count": 36,
   "metadata": {},
   "outputs": [
    {
     "name": "stdout",
     "output_type": "stream",
     "text": [
      "Max accuracy (method 1):  0.7619047619047619\n"
     ]
    },
    {
     "data": {
      "text/plain": [
       "<Figure size 432x288 with 0 Axes>"
      ]
     },
     "metadata": {},
     "output_type": "display_data"
    },
    {
     "data": {
      "image/png": "[encoded data removed]",
      "text/plain": [
       "<Figure size 720x504 with 1 Axes>"
      ]
     },
     "metadata": {
      "needs_background": "light"
     },
     "output_type": "display_data"
    }
   ],
   "source": [
    "## ----------------------------------\n",
    "#         Plot the Results\n",
    "## ----------------------------------\n",
    "k=np.linspace(1,50,49)\n",
    "val_accuracy1 = acc1\n",
    "max_acc1 = np.argmax(val_accuracy1)\n",
    "\n",
    "print('Max accuracy (method 1): ', val_accuracy1[max_acc1])\n",
    "\n",
    "\n",
    "plt.figure(1)\n",
    "plt.figure(figsize=(10,7))\n",
    "plt.rcParams.update({'font.size': 12})\n",
    "\n",
    "plt.plot(k, val_accuracy1, 'b')\n",
    "plt.plot(max_acc1+1, val_accuracy1[max_acc1], 'r', marker='o', markersize=7)\n",
    "plt.ylim([0,1])\n",
    "plt.xlabel(\"k\")\n",
    "plt.ylabel(\"validation accuracy\")\n",
    "plt.grid('on')\n",
    "plt.show()\n"
   ]
  },
  {
   "cell_type": "markdown",
   "metadata": {},
   "source": [
    "--------------------------------------------------------------------------------------------------\n",
    "## **CNN Classification**\n",
    "--------------------------------------------------------------------------------------------------"
   ]
  },
  {
   "cell_type": "code",
   "execution_count": 37,
   "metadata": {},
   "outputs": [
    {
     "name": "stdout",
     "output_type": "stream",
     "text": [
      "Model: \"sequential_2\"\n",
      "_________________________________________________________________\n",
      " Layer (type)                Output Shape              Param #   \n",
      "=================================================================\n",
      " conv2d_4 (Conv2D)           (None, 254, 254, 32)      320       \n",
      "                                                                 \n",
      " max_pooling2d_4 (MaxPooling  (None, 127, 127, 32)     0         \n",
      " 2D)                                                             \n",
      "                                                                 \n",
      " conv2d_5 (Conv2D)           (None, 125, 125, 64)      18496     \n",
      "                                                                 \n",
      " max_pooling2d_5 (MaxPooling  (None, 62, 62, 64)       0         \n",
      " 2D)                                                             \n",
      "                                                                 \n",
      " flatten_2 (Flatten)         (None, 246016)            0         \n",
      "                                                                 \n",
      " dense_4 (Dense)             (None, 512)               125960704 \n",
      "                                                                 \n",
      " dropout_2 (Dropout)         (None, 512)               0         \n",
      "                                                                 \n",
      " dense_5 (Dense)             (None, 1)                 513       \n",
      "                                                                 \n",
      "=================================================================\n",
      "Total params: 125,980,033\n",
      "Trainable params: 125,980,033\n",
      "Non-trainable params: 0\n",
      "_________________________________________________________________\n",
      "[0 1 1 1 1 1 1 1 1 0 1 0 0 1 0 1 0 0 1 1 0]\n",
      "Epoch 1/15\n",
      "3/3 [==============================] - 8s 2s/step - loss: 12.8139 - accuracy: 0.4557 - val_loss: 2.9786 - val_accuracy: 0.6190\n",
      "Epoch 2/15\n",
      "3/3 [==============================] - 6s 2s/step - loss: 3.6894 - accuracy: 0.4684 - val_loss: 1.2296 - val_accuracy: 0.4286\n",
      "Epoch 3/15\n",
      "3/3 [==============================] - 6s 2s/step - loss: 0.9985 - accuracy: 0.4557 - val_loss: 0.5213 - val_accuracy: 0.7143\n",
      "Epoch 4/15\n",
      "3/3 [==============================] - 6s 2s/step - loss: 0.2110 - accuracy: 0.9620 - val_loss: 0.4201 - val_accuracy: 0.8571\n",
      "Epoch 5/15\n",
      "3/3 [==============================] - 5s 2s/step - loss: 0.2008 - accuracy: 0.9241 - val_loss: 1.4601 - val_accuracy: 0.3810\n",
      "Epoch 6/15\n",
      "3/3 [==============================] - 5s 2s/step - loss: 0.1243 - accuracy: 0.9367 - val_loss: 0.7224 - val_accuracy: 0.8571\n",
      "Epoch 7/15\n",
      "3/3 [==============================] - 5s 2s/step - loss: 0.0266 - accuracy: 1.0000 - val_loss: 0.4943 - val_accuracy: 0.9048\n",
      "Epoch 8/15\n",
      "3/3 [==============================] - 5s 2s/step - loss: 5.4790e-04 - accuracy: 1.0000 - val_loss: 0.6057 - val_accuracy: 0.7619\n",
      "Epoch 9/15\n",
      "3/3 [==============================] - 5s 2s/step - loss: 6.3642e-04 - accuracy: 1.0000 - val_loss: 0.8133 - val_accuracy: 0.7619\n",
      "Epoch 10/15\n",
      "3/3 [==============================] - 9s 3s/step - loss: 7.4319e-04 - accuracy: 1.0000 - val_loss: 0.9065 - val_accuracy: 0.7619\n",
      "Epoch 11/15\n",
      "3/3 [==============================] - 8s 3s/step - loss: 3.0628e-04 - accuracy: 1.0000 - val_loss: 0.8575 - val_accuracy: 0.7619\n",
      "Epoch 12/15\n",
      "3/3 [==============================] - 9s 3s/step - loss: 1.2008e-04 - accuracy: 1.0000 - val_loss: 0.7554 - val_accuracy: 0.7619\n",
      "Epoch 13/15\n",
      "3/3 [==============================] - 11s 4s/step - loss: 4.4746e-05 - accuracy: 1.0000 - val_loss: 0.6975 - val_accuracy: 0.8571\n",
      "Epoch 14/15\n",
      "3/3 [==============================] - 10s 3s/step - loss: 3.0326e-05 - accuracy: 1.0000 - val_loss: 0.7000 - val_accuracy: 0.8571\n",
      "Epoch 15/15\n",
      "3/3 [==============================] - 8s 3s/step - loss: 3.7260e-05 - accuracy: 1.0000 - val_loss: 0.7310 - val_accuracy: 0.9048\n"
     ]
    }
   ],
   "source": [
    "# --------------------------------------------------------\n",
    "#                          CNN\n",
    "# --------------------------------------------------------\n",
    "\n",
    "from keras import Sequential\n",
    "from keras.layers import Conv2D, MaxPool2D, Flatten, Dense, Dropout\n",
    "\n",
    "model = Sequential([\n",
    "    Conv2D(32, (3,3), activation='relu', input_shape=(256,256,1)),\n",
    "    MaxPool2D((2,2)),\n",
    "    #Dropout(0.25),\n",
    "    Conv2D(64, (3,3), activation='relu'),\n",
    "    MaxPool2D((2,2)),\n",
    "    #Dropout(0.4),\n",
    "    Flatten(),\n",
    "    Dense(512, activation='relu'),\n",
    "    Dropout(0.1),\n",
    "    Dense(1,activation='sigmoid')\n",
    "])\n",
    "\n",
    "model.compile(optimizer='adam', loss='binary_crossentropy', metrics=['accuracy'])\n",
    "model.summary()\n",
    "\n",
    "## Train the model\n",
    "\n",
    "#import tensorflow as tf\n",
    "#tdata = tf.stack(tdata)\n",
    "#train_labels = tf.stack(train_labels)\n",
    "#vdata = tf.stack(vdata)\n",
    "#val_labels = tf.stack(val_labels)\n",
    "\n",
    "#from tensorflow.keras.utils import to_categorical\n",
    "#train_labels = to_categorical(train_labels)\n",
    "#val_labels = to_categorical(val_labels)\n",
    "\n",
    "#trained_model = model.fit(tdata, train_labels, epochs=10, validation_data=(vdata, val_labels))\n",
    "print(val_labels)\n",
    "trained_model = model.fit(np.array(tdata), np.array(train_labels), epochs=15, validation_data=(np.array(vdata), np.array(val_labels)))"
   ]
  },
  {
   "cell_type": "code",
   "execution_count": 38,
   "metadata": {},
   "outputs": [
    {
     "data": {
      "text/plain": [
       "0.9047619104385376"
      ]
     },
     "execution_count": 38,
     "metadata": {},
     "output_type": "execute_result"
    }
   ],
   "source": [
    "cnn_acc = np.max(trained_model.history['val_accuracy'])\n",
    "cnn_acc"
   ]
  },
  {
   "cell_type": "code",
   "execution_count": 39,
   "metadata": {},
   "outputs": [
    {
     "name": "stdout",
     "output_type": "stream",
     "text": [
      "0.9047619104385376\n"
     ]
    },
    {
     "data": {
      "image/png": "[encoded data removed]",
      "text/plain": [
       "<Figure size 432x288 with 1 Axes>"
      ]
     },
     "metadata": {
      "needs_background": "light"
     },
     "output_type": "display_data"
    },
    {
     "data": {
      "image/png": "[encoded data removed]",
      "text/plain": [
       "<Figure size 432x288 with 1 Axes>"
      ]
     },
     "metadata": {
      "needs_background": "light"
     },
     "output_type": "display_data"
    }
   ],
   "source": [
    "## ----------------------------------\n",
    "#         Plot the Results\n",
    "## ----------------------------------\n",
    "# Accuracy and Validation Accuracy\n",
    "accuracy = trained_model.history['accuracy']\n",
    "val_acc = trained_model.history['val_accuracy']\n",
    "epochs = range(len(accuracy))\n",
    "\n",
    "print(val_acc[np.argmax(val_acc)])\n",
    "\n",
    "plt.plot(epochs, accuracy, 'b', label='Training Accuracy')\n",
    "plt.plot(epochs, val_acc, 'r', label='Validation Accuracy')\n",
    "plt.title('Accuracy Graph')\n",
    "plt.legend()\n",
    "plt.figure()\n",
    "\n",
    "# Loss and Validation Loss\n",
    "loss = trained_model.history['loss']\n",
    "val_loss = trained_model.history['val_loss']\n",
    "\n",
    "plt.plot(epochs, loss, 'b', label='Training Loss')\n",
    "plt.plot(epochs, val_loss, 'r', label='Validation Loss')\n",
    "plt.title('Loss Graph')\n",
    "plt.legend()\n",
    "plt.show()"
   ]
  },
  {
   "cell_type": "markdown",
   "metadata": {},
   "source": [
    "--------------------------------------------------------------------------------------------------\n",
    "## **SVM Classification**\n",
    "--------------------------------------------------------------------------------------------------"
   ]
  },
  {
   "cell_type": "code",
   "execution_count": 40,
   "metadata": {},
   "outputs": [],
   "source": [
    "# import SVM library\n",
    "from sklearn import svm\n",
    "from sklearn.metrics import accuracy_score"
   ]
  },
  {
   "cell_type": "code",
   "execution_count": 17,
   "metadata": {},
   "outputs": [
    {
     "name": "stdout",
     "output_type": "stream",
     "text": [
      "Validation labels:  [0 1 0 1 0 1 0 0 0 1 0 1 1 0 1 0 0 1 0 0 1]\n"
     ]
    }
   ],
   "source": [
    "# shuffle data\n",
    "train_data, train_labels, val_data, val_labels, tdata, vdata = shuffle_data(data_array, labels)"
   ]
  },
  {
   "cell_type": "code",
   "execution_count": 53,
   "metadata": {},
   "outputs": [],
   "source": [
    "# perform SVM\n",
    "\n",
    "# create SVM classifier\n",
    "def SVM_classifier(train_data, train_labels, val_data, val_labels):\n",
    "\n",
    "    # shuffle data each run\n",
    "    #train_data, train_labels, val_data, val_labels, tdata, vdata = shuffle_data(data_array, labels)\n",
    "\n",
    "    clf = svm.SVC(kernel='poly', degree=5)\n",
    "\n",
    "    # train model\n",
    "    clf.fit(train_data, train_labels)\n",
    "\n",
    "    # predict the model\n",
    "    pred = (clf.predict(val_data))\n",
    "\n",
    "    # calculate accuracy\n",
    "    acc = round(accuracy_score(pred, val_labels),4)\n",
    "\n",
    "    print(\"The predicted data is: \", pred)\n",
    "    print(\"The actual data is: \", val_labels)\n",
    "    print(f\"The model is {acc*100}% accurate\")\n",
    "\n",
    "    return acc\n"
   ]
  },
  {
   "cell_type": "code",
   "execution_count": 54,
   "metadata": {},
   "outputs": [
    {
     "name": "stdout",
     "output_type": "stream",
     "text": [
      "The predicted data is:  [0 1 1 0 1 0 0 0 1 0 1 1 0 1 0 0 0 0 1 1 0]\n",
      "The actual data is:  [0 1 1 1 1 1 1 1 1 0 1 0 0 1 0 1 0 0 1 1 0]\n",
      "The model is 71.43% accurate\n",
      "Average accurage:  0.7143\n"
     ]
    }
   ],
   "source": [
    "svm_acc = []\n",
    "\n",
    "for ii in range(0,1):\n",
    "    temp_acc = SVM_classifier(train_data, train_labels, val_data, val_labels)\n",
    "    svm_acc.append(temp_acc)\n",
    "\n",
    "print(\"Average accurage: \", np.mean(svm_acc))"
   ]
  },
  {
   "cell_type": "code",
   "execution_count": null,
   "metadata": {},
   "outputs": [],
   "source": [
    "## Plotting\n",
    "num_tests = np.linspace(1,len(acc_array), len(acc_array))\n",
    "\n",
    "plt.figure(2)\n",
    "plt.figure(figsize=(10,7))\n",
    "plt.rcParams.update({'font.size': 12})\n",
    "\n",
    "plt.plot(num_tests, acc_array, 'b')\n",
    "plt.show()"
   ]
  },
  {
   "cell_type": "markdown",
   "metadata": {},
   "source": [
    "--------------------------------------------------------------------------------------------------\n",
    "## **Compare the three models**\n",
    "--------------------------------------------------------------------------------------------------"
   ]
  },
  {
   "cell_type": "markdown",
   "metadata": {},
   "source": []
  }
 ],
 "metadata": {
  "interpreter": {
   "hash": "be06593c2f7c6c659d27d21530649fc496370ea6abbb7431f6c1d3f2c07b5e69"
  },
  "kernelspec": {
   "display_name": "Python 3.9.7 ('MLenv')",
   "language": "python",
   "name": "python3"
  },
  "language_info": {
   "codemirror_mode": {
    "name": "ipython",
    "version": 3
   },
   "file_extension": ".py",
   "mimetype": "text/x-python",
   "name": "python",
   "nbconvert_exporter": "python",
   "pygments_lexer": "ipython3",
   "version": "3.9.7"
  },
  "orig_nbformat": 4
 },
 "nbformat": 4,
 "nbformat_minor": 2
}
