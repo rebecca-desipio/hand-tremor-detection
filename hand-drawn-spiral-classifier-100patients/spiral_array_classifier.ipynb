{
 "cells": [
  {
   "cell_type": "code",
   "execution_count": 8,
   "metadata": {},
   "outputs": [],
   "source": [
    "# import libraries\n",
    "from ctypes import util\n",
    "import PIL\n",
    "from PIL import Image\n",
    "import numpy as np\n",
    "import os\n",
    "from sklearn import utils\n",
    "import matplotlib.pyplot as plt\n",
    "import random\n",
    "\n",
    "# import a couple more libraries needed for method 2 data preprocessing\n",
    "from sklearn.model_selection import train_test_split\n",
    "import imutils\n",
    "import cv2"
   ]
  },
  {
   "cell_type": "markdown",
   "metadata": {},
   "source": [
    "## **Preprocess Data**\n",
    "### METHOD 1(Into RGB Pixel Values)\n",
    "Take raw images and using PIL, convert into an array. Then make strictly black or white pixels: 0 = black, 255 = white. \n",
    "\n",
    "Also, create a 'labels' array that contains the corresponding labels of the images: healthy (0) or parkinsons (1)\n",
    "\n",
    "Results:\n",
    "\n",
    "        data_array : contains all bw images as pixel values\n",
    "        labels     : corresponding labels to these images (0 or 1)\n",
    "\n",
    "### METHOD 2 (Into Histogram)"
   ]
  },
  {
   "cell_type": "code",
   "execution_count": 11,
   "metadata": {},
   "outputs": [],
   "source": [
    "## ------------------------------------------------------------\n",
    "##    Define Function to Characterize Color Distribution\n",
    "## ------------------------------------------------------------\n",
    "def extract_color_histogram(image, bins=(8,8,8)):\n",
    "    # extract a 3D color histogram from HSV color space using supplied # of bins per channel\n",
    "    hsv = cv2.cvtColor(image, cv2.COLOR_BGR2HSV)\n",
    "    hist = cv2.calcHist([hsv], [0,1,2], None, bins, [0,180,0,256,0,256])\n",
    "\n",
    "    # normalize the histograms\n",
    "    if imutils.is_cv2():\n",
    "        hist = cv2.normalize(hist)\n",
    "    else:\n",
    "        cv2.normalize(hist,hist)\n",
    "\n",
    "    # return flattened histogram as the feature vector\n",
    "    return hist.flatten()"
   ]
  },
  {
   "cell_type": "code",
   "execution_count": 13,
   "metadata": {},
   "outputs": [],
   "source": [
    "# load in the data\n",
    "dataset_folder = 'Spiral_DataSet1_relabelled'\n",
    "\n",
    "data_array = []\n",
    "labels = []\n",
    "img_path = []\n",
    "features = []\n",
    "itr = 0\n",
    "\n",
    "# iterate through all images and combine into one dataset with a mix of both healthy and PD images\n",
    "# create an array of corresponding labels (1 - PD, 0 - healthy)\n",
    "for labeled_folder in os.listdir(dataset_folder):\n",
    "    '''\n",
    "    if labeled_folder == \"healthy\":\n",
    "        healthy = np.zeros(len(os.listdir(dataset_folder + \"/\" + labeled_folder)), dtype=object)\n",
    "        itr = 0\n",
    "    else:\n",
    "        pd = np.zeros(len(os.listdir(dataset_folder + \"/\" + labeled_folder)), dtype=object)\n",
    "        itr = 0\n",
    "    '''\n",
    "    for img in os.listdir(dataset_folder + \"/\" + labeled_folder):\n",
    "\n",
    "        # store image_path for method 2 preprocessing\n",
    "        img_path = dataset_folder + \"/\" + labeled_folder + \"/\" + img\n",
    "\n",
    "        ## ----------- METHOD 1 -------------\n",
    "        image = PIL.Image.open(img_path)\n",
    "        image = image.convert(\"L\")\n",
    "        #bw_image.show()\n",
    "        image_array = np.array(image)\n",
    "        image_array[image_array < 200] = 0    # black\n",
    "        image_array[image_array >= 200] = 255 # white\n",
    "\n",
    "        # check length of array to make sure size 256x256, if not, add white pixels onto the end\n",
    "        img_size = np.size(image_array)\n",
    "        if img_size == 256**2:\n",
    "\n",
    "            #imfile = Image.fromarray(image_array)\n",
    "            #imfile.show(imfile)        \n",
    "\n",
    "            data_array.append(image_array.flatten().astype(float))\n",
    "            #data_array[itr] = image_array.flatten().astype(float)\n",
    "\n",
    "            ## ----------- METHOD 2 -------------\n",
    "            ft_img = cv2.imread(img_path)\n",
    "            hist = extract_color_histogram(ft_img)\n",
    "            features.append(hist)\n",
    "            # -----------------------------------\n",
    "    \n",
    "\n",
    "            if labeled_folder == \"healthy\": \n",
    "                labels.append(0)\n",
    "            else:\n",
    "                labels.append(1)\n",
    "\n",
    "            itr = itr+1\n",
    "\n",
    "        '''\n",
    "        # break up the data into labelled arrays\n",
    "        if labeled_folder == \"healthy\":\n",
    "            healthy[itr] = image_array.flatten()\n",
    "        else:\n",
    "            pd[itr] = image_array.flatten()\n",
    "        itr = itr + 1\n",
    "        '''\n",
    "\n",
    "\n",
    "# Now we have all the images in array form to analyze\n",
    "\n",
    "#print(np.shape(healthy))\n",
    "#print(np.size(healthy))\n",
    "#print(healthy)"
   ]
  },
  {
   "cell_type": "markdown",
   "metadata": {},
   "source": [
    "## **Method 2: Preprocess Data (Into Histogram)**"
   ]
  },
  {
   "cell_type": "code",
   "execution_count": 10,
   "metadata": {},
   "outputs": [],
   "source": [
    "## ----------------------------------------\n",
    "##    Characterize Color Distribution\n",
    "## ----------------------------------------\n",
    "def extract_color_histogram(image, bins=(8,8,8)):\n",
    "    # extract a 3D color histogram from HSV color space using supplied # of bins per channel\n",
    "    hsv = cv2.cvtColor(image, cv2.COLOR_BGR2HSV)\n",
    "    hist = cv2.calcHist([hsv], [0,1,2], None, bins, [0,180,0,256,0,256])\n",
    "\n",
    "    # normalize the histograms\n",
    "    if imutils.is_cv2():\n",
    "        hist = cv2.normalize(hist)\n",
    "    else:\n",
    "        cv2.normalize(hist,hist)\n",
    "\n",
    "    # return flattened histogram as the feature vector\n",
    "    return hist.flatten()"
   ]
  },
  {
   "cell_type": "code",
   "execution_count": 7,
   "metadata": {},
   "outputs": [
    {
     "name": "stdout",
     "output_type": "stream",
     "text": [
      "[INFO] processed 10/102\n",
      "[INFO] processed 20/102\n",
      "[INFO] processed 30/102\n",
      "[INFO] processed 40/102\n",
      "[INFO] processed 50/102\n",
      "[INFO] processed 60/102\n",
      "[INFO] processed 70/102\n",
      "[INFO] processed 80/102\n",
      "[INFO] processed 90/102\n",
      "[INFO] processed 100/102\n"
     ]
    }
   ],
   "source": [
    "## -----------------------------------------------------------------\n",
    "##                      EXTRACT FEATURES\n",
    "## -----------------------------------------------------------------\n",
    "features = []\n",
    "\n",
    "for (i, imagePath) in enumerate(img_path):\n",
    "    img = cv2.imread(imagePath)\n",
    "\n",
    "    hist = extract_color_histogram(img)\n",
    "    \n",
    "    features.append(hist)\n",
    "\n",
    "    if (i > 0 and i % 10 == 0):\n",
    "        print(\"[INFO] processed {}/{}\".format(i, len(img_path)))\n",
    "    "
   ]
  },
  {
   "cell_type": "markdown",
   "metadata": {},
   "source": [
    "## **Split into testing and validation data**"
   ]
  },
  {
   "cell_type": "code",
   "execution_count": 35,
   "metadata": {},
   "outputs": [
    {
     "name": "stdout",
     "output_type": "stream",
     "text": [
      "Validation labels:  [0 1 1 1 1 1 0 1 1 0 0 1 0 0 0 0 1 1 0 1 0]\n"
     ]
    }
   ],
   "source": [
    "# ---------------------------------------------------------------\n",
    "#        Split into training and validation data (METHOD 1)\n",
    "# ---------------------------------------------------------------\n",
    "data_array, labels = utils.shuffle(np.array(data_array), np.array(labels),  random_state=20)\n",
    "\n",
    "num_trn = round(99 - 99*0.2) \n",
    "\n",
    "# split into training and validation data\n",
    "train_data = data_array[:num_trn] / 255\n",
    "train_labels = labels[:num_trn]\n",
    "\n",
    "val_data = np.delete(data_array, np.linspace(0,num_trn, num_trn-1).astype(int), axis=0) / 255\n",
    "val_labels = np.delete(labels, np.linspace(0,num_trn, num_trn-1).astype(int), axis=0)\n",
    "print(\"Validation labels: \", val_labels)\n",
    "\n",
    "tdata = []\n",
    "for i in range(len(train_data)):\n",
    "    tdata.append(np.reshape(train_data[i], (256,256,1)))\n",
    "vdata = []\n",
    "for i in range(len(val_data)):\n",
    "    vdata.append(np.reshape(val_data[i], (256,256,1)))\n",
    "\n",
    "# ---------------------------------------------------------------\n",
    "#        Split into training and validation data (METHOD 2)\n",
    "# ---------------------------------------------------------------\n",
    "features = np.array(features)\n",
    "(trainFt, valFt, trainFLbls, valFLbls) = train_test_split(features,  labels, test_size=0.2, random_state=20) # 80 - 20 split"
   ]
  },
  {
   "cell_type": "markdown",
   "metadata": {},
   "source": [
    "--------------------------------------------------------------------------------------------------\n",
    "## **KNN Classification**\n",
    "--------------------------------------------------------------------------------------------------"
   ]
  },
  {
   "cell_type": "markdown",
   "metadata": {},
   "source": [
    "### Method 1"
   ]
  },
  {
   "cell_type": "code",
   "execution_count": 36,
   "metadata": {},
   "outputs": [],
   "source": [
    "from sklearn.neighbors import KNeighborsClassifier\n",
    "\n",
    "knnModel = KNeighborsClassifier(n_neighbors=3)\n",
    "trained_model = knnModel.fit(list(train_data), train_labels.astype(int))\n",
    "\n",
    "acc1 = []\n",
    "for k in range(1, 50, 1):\n",
    "    # train the k-Nearest Neighbor classifier with the current value of `k`\n",
    "    model = KNeighborsClassifier(n_neighbors=k)\n",
    "    model.fit(list(train_data), train_labels.astype(int))\n",
    "    # evaluate the model and update the accuracies list\n",
    "    score = model.score(list(val_data), val_labels.astype(int))\n",
    "    #print(\"k=%d, accuracy=%.2f%%\" % (k, score * 100))\n",
    "    acc1.append(score)"
   ]
  },
  {
   "cell_type": "markdown",
   "metadata": {},
   "source": [
    "### Method 2"
   ]
  },
  {
   "cell_type": "code",
   "execution_count": 37,
   "metadata": {},
   "outputs": [],
   "source": [
    "# KNN Classification on FEATURES\n",
    "acc2 = []\n",
    "for k in range(1, 50, 1):\n",
    "    #print(\"[INFO] k-neighbors = \", k)\n",
    "    model = KNeighborsClassifier(n_neighbors=k)\n",
    "    model.fit(trainFt, trainFLbls)\n",
    "    acc2.append(model.score(valFt, valFLbls))\n",
    "\n",
    "    #print(\"[RESULT] histogram accuracy: {:.2f}%\".format(acc2[k]*100))"
   ]
  },
  {
   "cell_type": "code",
   "execution_count": 38,
   "metadata": {},
   "outputs": [
    {
     "name": "stdout",
     "output_type": "stream",
     "text": [
      "Max accuracy (method 1):  0.7142857142857143\n",
      "Max accuracy (method 2):  0.6\n"
     ]
    },
    {
     "data": {
      "text/plain": [
       "<Figure size 432x288 with 0 Axes>"
      ]
     },
     "metadata": {},
     "output_type": "display_data"
    },
    {
     "data": {
      "image/png": "[encoded data removed]",
      "text/plain": [
       "<Figure size 720x504 with 2 Axes>"
      ]
     },
     "metadata": {
      "needs_background": "light"
     },
     "output_type": "display_data"
    }
   ],
   "source": [
    "## ----------------------------------\n",
    "#         Plot the Results\n",
    "## ----------------------------------\n",
    "k=np.linspace(1,50,49)\n",
    "val_accuracy1 = acc1\n",
    "val_accuracy2 = acc2\n",
    "max_acc1 = np.argmax(val_accuracy1)\n",
    "max_acc2 = np.argmax(val_accuracy2)\n",
    "\n",
    "print('Max accuracy (method 1): ', val_accuracy1[max_acc1])\n",
    "print('Max accuracy (method 2): ', val_accuracy2[max_acc2])\n",
    "\n",
    "\n",
    "plt.figure(1)\n",
    "plt.figure(figsize=(10,7))\n",
    "plt.rcParams.update({'font.size': 12})\n",
    "\n",
    "plt.subplot(211)\n",
    "plt.plot(k, val_accuracy1, 'b')\n",
    "plt.plot(max_acc1+1, val_accuracy1[max_acc1], 'r', marker='o', markersize=7)\n",
    "plt.ylim([0,1])\n",
    "plt.xlabel(\"k\")\n",
    "plt.ylabel(\"validation accuracy\")\n",
    "plt.grid('on')\n",
    "\n",
    "plt.subplot(212)\n",
    "plt.plot(k, val_accuracy2, 'b')\n",
    "plt.plot(max_acc2+1, val_accuracy2[max_acc2], 'r', marker='o', markersize=7)\n",
    "plt.ylim([0,1])\n",
    "plt.xlabel(\"k\")\n",
    "plt.ylabel(\"validation accuracy\")\n",
    "plt.grid('on')\n",
    "plt.show()\n"
   ]
  },
  {
   "cell_type": "markdown",
   "metadata": {},
   "source": [
    "### Conclusion\n",
    "Method 1 performs better than method 2"
   ]
  },
  {
   "cell_type": "markdown",
   "metadata": {},
   "source": [
    "--------------------------------------------------------------------------------------------------\n",
    "## **CNN Classification**\n",
    "--------------------------------------------------------------------------------------------------"
   ]
  },
  {
   "cell_type": "code",
   "execution_count": 4,
   "metadata": {},
   "outputs": [
    {
     "name": "stdout",
     "output_type": "stream",
     "text": [
      "Model: \"sequential\"\n",
      "_________________________________________________________________\n",
      " Layer (type)                Output Shape              Param #   \n",
      "=================================================================\n",
      " conv2d (Conv2D)             (None, 254, 254, 32)      320       \n",
      "                                                                 \n",
      " max_pooling2d (MaxPooling2D  (None, 127, 127, 32)     0         \n",
      " )                                                               \n",
      "                                                                 \n",
      " conv2d_1 (Conv2D)           (None, 125, 125, 64)      18496     \n",
      "                                                                 \n",
      " max_pooling2d_1 (MaxPooling  (None, 62, 62, 64)       0         \n",
      " 2D)                                                             \n",
      "                                                                 \n",
      " flatten (Flatten)           (None, 246016)            0         \n",
      "                                                                 \n",
      " dense (Dense)               (None, 512)               125960704 \n",
      "                                                                 \n",
      " dropout (Dropout)           (None, 512)               0         \n",
      "                                                                 \n",
      " dense_1 (Dense)             (None, 1)                 513       \n",
      "                                                                 \n",
      "=================================================================\n",
      "Total params: 125,980,033\n",
      "Trainable params: 125,980,033\n",
      "Non-trainable params: 0\n",
      "_________________________________________________________________\n",
      "[0 0 0 1 1 0 1 0 0 1 1 1 0 1 1 0 1 1 1 1 1]\n",
      "Epoch 1/20\n",
      "3/3 [==============================] - 7s 2s/step - loss: 30.1132 - accuracy: 0.4051 - val_loss: 9.5913 - val_accuracy: 0.6190\n",
      "Epoch 2/20\n",
      "3/3 [==============================] - 7s 3s/step - loss: 10.3329 - accuracy: 0.4810 - val_loss: 1.8591 - val_accuracy: 0.6190\n",
      "Epoch 3/20\n",
      "3/3 [==============================] - 11s 3s/step - loss: 1.5737 - accuracy: 0.5316 - val_loss: 1.4278 - val_accuracy: 0.3810\n",
      "Epoch 4/20\n",
      "3/3 [==============================] - 8s 3s/step - loss: 0.8984 - accuracy: 0.5823 - val_loss: 0.6649 - val_accuracy: 0.8095\n",
      "Epoch 5/20\n",
      "3/3 [==============================] - 8s 3s/step - loss: 0.5513 - accuracy: 0.8354 - val_loss: 0.5933 - val_accuracy: 0.6190\n",
      "Epoch 6/20\n",
      "3/3 [==============================] - 8s 3s/step - loss: 0.4793 - accuracy: 0.7848 - val_loss: 0.5963 - val_accuracy: 0.6667\n",
      "Epoch 7/20\n",
      "3/3 [==============================] - 8s 3s/step - loss: 0.2973 - accuracy: 0.9620 - val_loss: 0.4502 - val_accuracy: 0.8095\n",
      "Epoch 8/20\n",
      "3/3 [==============================] - 8s 2s/step - loss: 0.2201 - accuracy: 0.9367 - val_loss: 0.4122 - val_accuracy: 0.8571\n",
      "Epoch 9/20\n",
      "3/3 [==============================] - 8s 2s/step - loss: 0.1189 - accuracy: 0.9873 - val_loss: 0.4642 - val_accuracy: 0.7619\n",
      "Epoch 10/20\n",
      "3/3 [==============================] - 8s 3s/step - loss: 0.0537 - accuracy: 1.0000 - val_loss: 0.3847 - val_accuracy: 0.8095\n",
      "Epoch 11/20\n",
      "3/3 [==============================] - 9s 3s/step - loss: 0.0180 - accuracy: 1.0000 - val_loss: 0.4079 - val_accuracy: 0.7619\n",
      "Epoch 12/20\n",
      "3/3 [==============================] - 9s 3s/step - loss: 0.0063 - accuracy: 1.0000 - val_loss: 0.5355 - val_accuracy: 0.7619\n",
      "Epoch 13/20\n",
      "3/3 [==============================] - 8s 2s/step - loss: 0.0040 - accuracy: 1.0000 - val_loss: 0.5925 - val_accuracy: 0.7619\n",
      "Epoch 14/20\n",
      "3/3 [==============================] - 8s 2s/step - loss: 8.1784e-04 - accuracy: 1.0000 - val_loss: 0.5563 - val_accuracy: 0.7619\n",
      "Epoch 15/20\n",
      "3/3 [==============================] - 8s 2s/step - loss: 3.6290e-04 - accuracy: 1.0000 - val_loss: 0.5555 - val_accuracy: 0.8095\n",
      "Epoch 16/20\n",
      "3/3 [==============================] - 8s 2s/step - loss: 2.8024e-04 - accuracy: 1.0000 - val_loss: 0.6013 - val_accuracy: 0.7619\n",
      "Epoch 17/20\n",
      "3/3 [==============================] - 8s 2s/step - loss: 1.9269e-04 - accuracy: 1.0000 - val_loss: 0.7384 - val_accuracy: 0.7619\n",
      "Epoch 18/20\n",
      "3/3 [==============================] - 7s 2s/step - loss: 1.1322e-04 - accuracy: 1.0000 - val_loss: 0.8025 - val_accuracy: 0.7619\n",
      "Epoch 19/20\n",
      "3/3 [==============================] - 8s 2s/step - loss: 7.9216e-05 - accuracy: 1.0000 - val_loss: 0.7203 - val_accuracy: 0.7619\n",
      "Epoch 20/20\n",
      "3/3 [==============================] - 8s 2s/step - loss: 1.0738e-04 - accuracy: 1.0000 - val_loss: 0.6934 - val_accuracy: 0.7619\n"
     ]
    }
   ],
   "source": [
    "# --------------------------------------------------------\n",
    "#                          CNN\n",
    "# --------------------------------------------------------\n",
    "\n",
    "from keras import Sequential\n",
    "from keras.layers import Conv2D, MaxPool2D, Flatten, Dense, Dropout\n",
    "\n",
    "model = Sequential([\n",
    "    Conv2D(32, (3,3), activation='relu', input_shape=(256,256,1)),\n",
    "    MaxPool2D((2,2)),\n",
    "    #Dropout(0.25),\n",
    "    Conv2D(64, (3,3), activation='relu'),\n",
    "    MaxPool2D((2,2)),\n",
    "    #Dropout(0.4),\n",
    "    Flatten(),\n",
    "    Dense(512, activation='relu'),\n",
    "    Dropout(0.1),\n",
    "    Dense(1,activation='sigmoid')\n",
    "])\n",
    "\n",
    "model.compile(optimizer='adam', loss='binary_crossentropy', metrics=['accuracy'])\n",
    "model.summary()\n",
    "\n",
    "## Train the model\n",
    "\n",
    "#import tensorflow as tf\n",
    "#tdata = tf.stack(tdata)\n",
    "#train_labels = tf.stack(train_labels)\n",
    "#vdata = tf.stack(vdata)\n",
    "#val_labels = tf.stack(val_labels)\n",
    "\n",
    "#from tensorflow.keras.utils import to_categorical\n",
    "#train_labels = to_categorical(train_labels)\n",
    "#val_labels = to_categorical(val_labels)\n",
    "\n",
    "#trained_model = model.fit(tdata, train_labels, epochs=10, validation_data=(vdata, val_labels))\n",
    "print(val_labels)\n",
    "trained_model = model.fit(np.array(tdata), np.array(train_labels), epochs=20, validation_data=(np.array(vdata), np.array(val_labels)))"
   ]
  },
  {
   "cell_type": "code",
   "execution_count": 5,
   "metadata": {},
   "outputs": [
    {
     "name": "stdout",
     "output_type": "stream",
     "text": [
      "0.8571428656578064\n"
     ]
    },
    {
     "data": {
      "image/png": "[encoded data removed]",
      "text/plain": [
       "<Figure size 432x288 with 1 Axes>"
      ]
     },
     "metadata": {
      "needs_background": "light"
     },
     "output_type": "display_data"
    },
    {
     "data": {
      "image/png": "[encoded data removed]",
      "text/plain": [
       "<Figure size 432x288 with 1 Axes>"
      ]
     },
     "metadata": {
      "needs_background": "light"
     },
     "output_type": "display_data"
    }
   ],
   "source": [
    "## ----------------------------------\n",
    "#         Plot the Results\n",
    "## ----------------------------------\n",
    "# Accuracy and Validation Accuracy\n",
    "accuracy = trained_model.history['accuracy']\n",
    "val_acc = trained_model.history['val_accuracy']\n",
    "epochs = range(len(accuracy))\n",
    "\n",
    "print(val_acc[np.argmax(val_acc)])\n",
    "\n",
    "plt.plot(epochs, accuracy, 'b', label='Training Accuracy')\n",
    "plt.plot(epochs, val_acc, 'r', label='Validation Accuracy')\n",
    "plt.title('Accuracy Graph')\n",
    "plt.legend()\n",
    "plt.figure()\n",
    "\n",
    "# Loss and Validation Loss\n",
    "loss = trained_model.history['loss']\n",
    "val_loss = trained_model.history['val_loss']\n",
    "\n",
    "plt.plot(epochs, loss, 'b', label='Training Loss')\n",
    "plt.plot(epochs, val_loss, 'r', label='Validation Loss')\n",
    "plt.title('Loss Graph')\n",
    "plt.legend()\n",
    "plt.show()"
   ]
  },
  {
   "cell_type": "markdown",
   "metadata": {},
   "source": [
    "--------------------------------------------------------------------------------------------------\n",
    "## **SVM**\n",
    "--------------------------------------------------------------------------------------------------"
   ]
  },
  {
   "cell_type": "code",
   "execution_count": 100,
   "metadata": {},
   "outputs": [
    {
     "ename": "ValueError",
     "evalue": "Found array with dim 4. Estimator expected <= 2.",
     "output_type": "error",
     "traceback": [
      "\u001b[1;31m---------------------------------------------------------------------------\u001b[0m",
      "\u001b[1;31mValueError\u001b[0m                                Traceback (most recent call last)",
      "\u001b[1;32mc:\\Users\\Rebecca\\Documents\\Virginia_Tech\\SP22\\Research\\git-repos\\hand-tremor-detection\\hand-drawn-spiral-classifier-100patients\\spiral_array_classifier.ipynb Cell 11'\u001b[0m in \u001b[0;36m<module>\u001b[1;34m\u001b[0m\n\u001b[0;32m      <a href='vscode-notebook-cell:/c%3A/Users/Rebecca/Documents/Virginia_Tech/SP22/Research/git-repos/hand-tremor-detection/hand-drawn-spiral-classifier-100patients/spiral_array_classifier.ipynb#ch0000013?line=4'>5</a>\u001b[0m clf \u001b[39m=\u001b[39m svm\u001b[39m.\u001b[39mSVC(kernel\u001b[39m=\u001b[39m\u001b[39m'\u001b[39m\u001b[39mlinear\u001b[39m\u001b[39m'\u001b[39m, C\u001b[39m=\u001b[39m\u001b[39m5\u001b[39m)\n\u001b[0;32m      <a href='vscode-notebook-cell:/c%3A/Users/Rebecca/Documents/Virginia_Tech/SP22/Research/git-repos/hand-tremor-detection/hand-drawn-spiral-classifier-100patients/spiral_array_classifier.ipynb#ch0000013?line=6'>7</a>\u001b[0m \u001b[39m# train model\u001b[39;00m\n\u001b[1;32m----> <a href='vscode-notebook-cell:/c%3A/Users/Rebecca/Documents/Virginia_Tech/SP22/Research/git-repos/hand-tremor-detection/hand-drawn-spiral-classifier-100patients/spiral_array_classifier.ipynb#ch0000013?line=7'>8</a>\u001b[0m clf\u001b[39m.\u001b[39;49mfit(tdata, vdata)\n",
      "File \u001b[1;32m~\\anaconda3\\envs\\MLenv\\lib\\site-packages\\sklearn\\svm\\_base.py:190\u001b[0m, in \u001b[0;36mBaseLibSVM.fit\u001b[1;34m(self, X, y, sample_weight)\u001b[0m\n\u001b[0;32m    <a href='file:///~/anaconda3/envs/MLenv/lib/site-packages/sklearn/svm/_base.py?line=187'>188</a>\u001b[0m     check_consistent_length(X, y)\n\u001b[0;32m    <a href='file:///~/anaconda3/envs/MLenv/lib/site-packages/sklearn/svm/_base.py?line=188'>189</a>\u001b[0m \u001b[39melse\u001b[39;00m:\n\u001b[1;32m--> <a href='file:///~/anaconda3/envs/MLenv/lib/site-packages/sklearn/svm/_base.py?line=189'>190</a>\u001b[0m     X, y \u001b[39m=\u001b[39m \u001b[39mself\u001b[39;49m\u001b[39m.\u001b[39;49m_validate_data(\n\u001b[0;32m    <a href='file:///~/anaconda3/envs/MLenv/lib/site-packages/sklearn/svm/_base.py?line=190'>191</a>\u001b[0m         X,\n\u001b[0;32m    <a href='file:///~/anaconda3/envs/MLenv/lib/site-packages/sklearn/svm/_base.py?line=191'>192</a>\u001b[0m         y,\n\u001b[0;32m    <a href='file:///~/anaconda3/envs/MLenv/lib/site-packages/sklearn/svm/_base.py?line=192'>193</a>\u001b[0m         dtype\u001b[39m=\u001b[39;49mnp\u001b[39m.\u001b[39;49mfloat64,\n\u001b[0;32m    <a href='file:///~/anaconda3/envs/MLenv/lib/site-packages/sklearn/svm/_base.py?line=193'>194</a>\u001b[0m         order\u001b[39m=\u001b[39;49m\u001b[39m\"\u001b[39;49m\u001b[39mC\u001b[39;49m\u001b[39m\"\u001b[39;49m,\n\u001b[0;32m    <a href='file:///~/anaconda3/envs/MLenv/lib/site-packages/sklearn/svm/_base.py?line=194'>195</a>\u001b[0m         accept_sparse\u001b[39m=\u001b[39;49m\u001b[39m\"\u001b[39;49m\u001b[39mcsr\u001b[39;49m\u001b[39m\"\u001b[39;49m,\n\u001b[0;32m    <a href='file:///~/anaconda3/envs/MLenv/lib/site-packages/sklearn/svm/_base.py?line=195'>196</a>\u001b[0m         accept_large_sparse\u001b[39m=\u001b[39;49m\u001b[39mFalse\u001b[39;49;00m,\n\u001b[0;32m    <a href='file:///~/anaconda3/envs/MLenv/lib/site-packages/sklearn/svm/_base.py?line=196'>197</a>\u001b[0m     )\n\u001b[0;32m    <a href='file:///~/anaconda3/envs/MLenv/lib/site-packages/sklearn/svm/_base.py?line=198'>199</a>\u001b[0m y \u001b[39m=\u001b[39m \u001b[39mself\u001b[39m\u001b[39m.\u001b[39m_validate_targets(y)\n\u001b[0;32m    <a href='file:///~/anaconda3/envs/MLenv/lib/site-packages/sklearn/svm/_base.py?line=200'>201</a>\u001b[0m sample_weight \u001b[39m=\u001b[39m np\u001b[39m.\u001b[39masarray(\n\u001b[0;32m    <a href='file:///~/anaconda3/envs/MLenv/lib/site-packages/sklearn/svm/_base.py?line=201'>202</a>\u001b[0m     [] \u001b[39mif\u001b[39;00m sample_weight \u001b[39mis\u001b[39;00m \u001b[39mNone\u001b[39;00m \u001b[39melse\u001b[39;00m sample_weight, dtype\u001b[39m=\u001b[39mnp\u001b[39m.\u001b[39mfloat64\n\u001b[0;32m    <a href='file:///~/anaconda3/envs/MLenv/lib/site-packages/sklearn/svm/_base.py?line=202'>203</a>\u001b[0m )\n",
      "File \u001b[1;32m~\\anaconda3\\envs\\MLenv\\lib\\site-packages\\sklearn\\base.py:581\u001b[0m, in \u001b[0;36mBaseEstimator._validate_data\u001b[1;34m(self, X, y, reset, validate_separately, **check_params)\u001b[0m\n\u001b[0;32m    <a href='file:///~/anaconda3/envs/MLenv/lib/site-packages/sklearn/base.py?line=578'>579</a>\u001b[0m         y \u001b[39m=\u001b[39m check_array(y, \u001b[39m*\u001b[39m\u001b[39m*\u001b[39mcheck_y_params)\n\u001b[0;32m    <a href='file:///~/anaconda3/envs/MLenv/lib/site-packages/sklearn/base.py?line=579'>580</a>\u001b[0m     \u001b[39melse\u001b[39;00m:\n\u001b[1;32m--> <a href='file:///~/anaconda3/envs/MLenv/lib/site-packages/sklearn/base.py?line=580'>581</a>\u001b[0m         X, y \u001b[39m=\u001b[39m check_X_y(X, y, \u001b[39m*\u001b[39m\u001b[39m*\u001b[39mcheck_params)\n\u001b[0;32m    <a href='file:///~/anaconda3/envs/MLenv/lib/site-packages/sklearn/base.py?line=581'>582</a>\u001b[0m     out \u001b[39m=\u001b[39m X, y\n\u001b[0;32m    <a href='file:///~/anaconda3/envs/MLenv/lib/site-packages/sklearn/base.py?line=583'>584</a>\u001b[0m \u001b[39mif\u001b[39;00m \u001b[39mnot\u001b[39;00m no_val_X \u001b[39mand\u001b[39;00m check_params\u001b[39m.\u001b[39mget(\u001b[39m\"\u001b[39m\u001b[39mensure_2d\u001b[39m\u001b[39m\"\u001b[39m, \u001b[39mTrue\u001b[39;00m):\n",
      "File \u001b[1;32m~\\anaconda3\\envs\\MLenv\\lib\\site-packages\\sklearn\\utils\\validation.py:964\u001b[0m, in \u001b[0;36mcheck_X_y\u001b[1;34m(X, y, accept_sparse, accept_large_sparse, dtype, order, copy, force_all_finite, ensure_2d, allow_nd, multi_output, ensure_min_samples, ensure_min_features, y_numeric, estimator)\u001b[0m\n\u001b[0;32m    <a href='file:///~/anaconda3/envs/MLenv/lib/site-packages/sklearn/utils/validation.py?line=960'>961</a>\u001b[0m \u001b[39mif\u001b[39;00m y \u001b[39mis\u001b[39;00m \u001b[39mNone\u001b[39;00m:\n\u001b[0;32m    <a href='file:///~/anaconda3/envs/MLenv/lib/site-packages/sklearn/utils/validation.py?line=961'>962</a>\u001b[0m     \u001b[39mraise\u001b[39;00m \u001b[39mValueError\u001b[39;00m(\u001b[39m\"\u001b[39m\u001b[39my cannot be None\u001b[39m\u001b[39m\"\u001b[39m)\n\u001b[1;32m--> <a href='file:///~/anaconda3/envs/MLenv/lib/site-packages/sklearn/utils/validation.py?line=963'>964</a>\u001b[0m X \u001b[39m=\u001b[39m check_array(\n\u001b[0;32m    <a href='file:///~/anaconda3/envs/MLenv/lib/site-packages/sklearn/utils/validation.py?line=964'>965</a>\u001b[0m     X,\n\u001b[0;32m    <a href='file:///~/anaconda3/envs/MLenv/lib/site-packages/sklearn/utils/validation.py?line=965'>966</a>\u001b[0m     accept_sparse\u001b[39m=\u001b[39;49maccept_sparse,\n\u001b[0;32m    <a href='file:///~/anaconda3/envs/MLenv/lib/site-packages/sklearn/utils/validation.py?line=966'>967</a>\u001b[0m     accept_large_sparse\u001b[39m=\u001b[39;49maccept_large_sparse,\n\u001b[0;32m    <a href='file:///~/anaconda3/envs/MLenv/lib/site-packages/sklearn/utils/validation.py?line=967'>968</a>\u001b[0m     dtype\u001b[39m=\u001b[39;49mdtype,\n\u001b[0;32m    <a href='file:///~/anaconda3/envs/MLenv/lib/site-packages/sklearn/utils/validation.py?line=968'>969</a>\u001b[0m     order\u001b[39m=\u001b[39;49morder,\n\u001b[0;32m    <a href='file:///~/anaconda3/envs/MLenv/lib/site-packages/sklearn/utils/validation.py?line=969'>970</a>\u001b[0m     copy\u001b[39m=\u001b[39;49mcopy,\n\u001b[0;32m    <a href='file:///~/anaconda3/envs/MLenv/lib/site-packages/sklearn/utils/validation.py?line=970'>971</a>\u001b[0m     force_all_finite\u001b[39m=\u001b[39;49mforce_all_finite,\n\u001b[0;32m    <a href='file:///~/anaconda3/envs/MLenv/lib/site-packages/sklearn/utils/validation.py?line=971'>972</a>\u001b[0m     ensure_2d\u001b[39m=\u001b[39;49mensure_2d,\n\u001b[0;32m    <a href='file:///~/anaconda3/envs/MLenv/lib/site-packages/sklearn/utils/validation.py?line=972'>973</a>\u001b[0m     allow_nd\u001b[39m=\u001b[39;49mallow_nd,\n\u001b[0;32m    <a href='file:///~/anaconda3/envs/MLenv/lib/site-packages/sklearn/utils/validation.py?line=973'>974</a>\u001b[0m     ensure_min_samples\u001b[39m=\u001b[39;49mensure_min_samples,\n\u001b[0;32m    <a href='file:///~/anaconda3/envs/MLenv/lib/site-packages/sklearn/utils/validation.py?line=974'>975</a>\u001b[0m     ensure_min_features\u001b[39m=\u001b[39;49mensure_min_features,\n\u001b[0;32m    <a href='file:///~/anaconda3/envs/MLenv/lib/site-packages/sklearn/utils/validation.py?line=975'>976</a>\u001b[0m     estimator\u001b[39m=\u001b[39;49mestimator,\n\u001b[0;32m    <a href='file:///~/anaconda3/envs/MLenv/lib/site-packages/sklearn/utils/validation.py?line=976'>977</a>\u001b[0m )\n\u001b[0;32m    <a href='file:///~/anaconda3/envs/MLenv/lib/site-packages/sklearn/utils/validation.py?line=978'>979</a>\u001b[0m y \u001b[39m=\u001b[39m _check_y(y, multi_output\u001b[39m=\u001b[39mmulti_output, y_numeric\u001b[39m=\u001b[39my_numeric)\n\u001b[0;32m    <a href='file:///~/anaconda3/envs/MLenv/lib/site-packages/sklearn/utils/validation.py?line=980'>981</a>\u001b[0m check_consistent_length(X, y)\n",
      "File \u001b[1;32m~\\anaconda3\\envs\\MLenv\\lib\\site-packages\\sklearn\\utils\\validation.py:794\u001b[0m, in \u001b[0;36mcheck_array\u001b[1;34m(array, accept_sparse, accept_large_sparse, dtype, order, copy, force_all_finite, ensure_2d, allow_nd, ensure_min_samples, ensure_min_features, estimator)\u001b[0m\n\u001b[0;32m    <a href='file:///~/anaconda3/envs/MLenv/lib/site-packages/sklearn/utils/validation.py?line=788'>789</a>\u001b[0m         \u001b[39mraise\u001b[39;00m \u001b[39mValueError\u001b[39;00m(\n\u001b[0;32m    <a href='file:///~/anaconda3/envs/MLenv/lib/site-packages/sklearn/utils/validation.py?line=789'>790</a>\u001b[0m             \u001b[39m\"\u001b[39m\u001b[39mUnable to convert array of bytes/strings \u001b[39m\u001b[39m\"\u001b[39m\n\u001b[0;32m    <a href='file:///~/anaconda3/envs/MLenv/lib/site-packages/sklearn/utils/validation.py?line=790'>791</a>\u001b[0m             \u001b[39m\"\u001b[39m\u001b[39minto decimal numbers with dtype=\u001b[39m\u001b[39m'\u001b[39m\u001b[39mnumeric\u001b[39m\u001b[39m'\u001b[39m\u001b[39m\"\u001b[39m\n\u001b[0;32m    <a href='file:///~/anaconda3/envs/MLenv/lib/site-packages/sklearn/utils/validation.py?line=791'>792</a>\u001b[0m         ) \u001b[39mfrom\u001b[39;00m \u001b[39me\u001b[39;00m\n\u001b[0;32m    <a href='file:///~/anaconda3/envs/MLenv/lib/site-packages/sklearn/utils/validation.py?line=792'>793</a>\u001b[0m \u001b[39mif\u001b[39;00m \u001b[39mnot\u001b[39;00m allow_nd \u001b[39mand\u001b[39;00m array\u001b[39m.\u001b[39mndim \u001b[39m>\u001b[39m\u001b[39m=\u001b[39m \u001b[39m3\u001b[39m:\n\u001b[1;32m--> <a href='file:///~/anaconda3/envs/MLenv/lib/site-packages/sklearn/utils/validation.py?line=793'>794</a>\u001b[0m     \u001b[39mraise\u001b[39;00m \u001b[39mValueError\u001b[39;00m(\n\u001b[0;32m    <a href='file:///~/anaconda3/envs/MLenv/lib/site-packages/sklearn/utils/validation.py?line=794'>795</a>\u001b[0m         \u001b[39m\"\u001b[39m\u001b[39mFound array with dim \u001b[39m\u001b[39m%d\u001b[39;00m\u001b[39m. \u001b[39m\u001b[39m%s\u001b[39;00m\u001b[39m expected <= 2.\u001b[39m\u001b[39m\"\u001b[39m\n\u001b[0;32m    <a href='file:///~/anaconda3/envs/MLenv/lib/site-packages/sklearn/utils/validation.py?line=795'>796</a>\u001b[0m         \u001b[39m%\u001b[39m (array\u001b[39m.\u001b[39mndim, estimator_name)\n\u001b[0;32m    <a href='file:///~/anaconda3/envs/MLenv/lib/site-packages/sklearn/utils/validation.py?line=796'>797</a>\u001b[0m     )\n\u001b[0;32m    <a href='file:///~/anaconda3/envs/MLenv/lib/site-packages/sklearn/utils/validation.py?line=798'>799</a>\u001b[0m \u001b[39mif\u001b[39;00m force_all_finite:\n\u001b[0;32m    <a href='file:///~/anaconda3/envs/MLenv/lib/site-packages/sklearn/utils/validation.py?line=799'>800</a>\u001b[0m     _assert_all_finite(array, allow_nan\u001b[39m=\u001b[39mforce_all_finite \u001b[39m==\u001b[39m \u001b[39m\"\u001b[39m\u001b[39mallow-nan\u001b[39m\u001b[39m\"\u001b[39m)\n",
      "\u001b[1;31mValueError\u001b[0m: Found array with dim 4. Estimator expected <= 2."
     ]
    }
   ],
   "source": [
    "# import SVM library\n",
    "from sklearn import svm\n",
    "\n",
    "# create SVM classifier\n",
    "clf = svm.SVR(kernel='rbf', C=5)\n",
    "\n",
    "# train model\n",
    "clf.fit(tdata, vdata)"
   ]
  },
  {
   "cell_type": "code",
   "execution_count": null,
   "metadata": {},
   "outputs": [],
   "source": []
  }
 ],
 "metadata": {
  "interpreter": {
   "hash": "be06593c2f7c6c659d27d21530649fc496370ea6abbb7431f6c1d3f2c07b5e69"
  },
  "kernelspec": {
   "display_name": "Python 3.9.7 ('MLenv')",
   "language": "python",
   "name": "python3"
  },
  "language_info": {
   "codemirror_mode": {
    "name": "ipython",
    "version": 3
   },
   "file_extension": ".py",
   "mimetype": "text/x-python",
   "name": "python",
   "nbconvert_exporter": "python",
   "pygments_lexer": "ipython3",
   "version": "3.9.7"
  },
  "orig_nbformat": 4
 },
 "nbformat": 4,
 "nbformat_minor": 2
}
