{
 "cells": [
  {
   "cell_type": "markdown",
   "metadata": {},
   "source": [
    "# Image Classification using Keras and sklearn"
   ]
  },
  {
   "cell_type": "code",
   "execution_count": 17,
   "metadata": {},
   "outputs": [],
   "source": [
    "# import libraries\n",
    "import pandas as pd\n",
    "import numpy as np\n",
    "import matplotlib.pyplot as plt\n",
    "import math\n",
    "import seaborn as sns # statistical data visualization, used to plot total count for each label\n",
    "import random # used to split trainig and testing data\n",
    "import warnings\n",
    "import os # used to iterate through all the images in the specified directory\n",
    "import cv2\n",
    "\n",
    "# libraries used for loading images and visualization\n",
    "from keras.preprocessing.image import load_img\n",
    "warnings.filterwarnings('ignore')\n",
    "\n",
    "# libraries to split the data into training and testing data\n",
    "from sklearn.model_selection import train_test_split\n",
    "from keras.preprocessing.image import ImageDataGenerator\n",
    "from sklearn import utils\n",
    "\n",
    "import PIL\n",
    "from PIL import Image\n",
    "\n",
    "# libraries to build the model\n",
    "from keras import Sequential\n",
    "from keras.layers import Conv2D, MaxPool2D, Flatten, Dense, Dropout\n",
    "\n",
    "# image augmentation library \n",
    "import tensorflow_io as tfio\n",
    "\n",
    "# import tensorflow\n",
    "import tensorflow as tf\n"
   ]
  },
  {
   "cell_type": "code",
   "execution_count": 2,
   "metadata": {},
   "outputs": [
    {
     "name": "stdout",
     "output_type": "stream",
     "text": [
      "Spiral_DataSet1_relabelled\\healthy\\V01HE02.png 0\n",
      "total number of labels:  102\n",
      "total number of images:  102\n",
      "                                                images  label\n",
      "34   Spiral_DataSet1_relabelled\\parkinsons\\V09PE01.png      1\n",
      "19      Spiral_DataSet1_relabelled\\healthy\\V55HE15.png      0\n",
      "63   Spiral_DataSet1_relabelled\\parkinsons\\V06PE01.png      1\n",
      "74   Spiral_DataSet1_relabelled\\parkinsons\\V03PE02.png      1\n",
      "7    Spiral_DataSet1_relabelled\\parkinsons\\V08PE01.png      1\n",
      "..                                                 ...    ...\n",
      "100  Spiral_DataSet1_relabelled\\parkinsons\\V05PE03.png      1\n",
      "53   Spiral_DataSet1_relabelled\\parkinsons\\V03PE03.png      1\n",
      "96      Spiral_DataSet1_relabelled\\healthy\\V07HE02.png      0\n",
      "41      Spiral_DataSet1_relabelled\\healthy\\V55HE05.png      0\n",
      "76      Spiral_DataSet1_relabelled\\healthy\\V04HE03.png      0\n",
      "\n",
      "[102 rows x 2 columns]\n"
     ]
    },
    {
     "data": {
      "image/png": "[encoded data removed]",
      "text/plain": [
       "<Figure size 432x288 with 1 Axes>"
      ]
     },
     "metadata": {
      "needs_background": "light"
     },
     "output_type": "display_data"
    }
   ],
   "source": [
    "## --------------------------------------------------------\n",
    "#                  Create the Dataframe\n",
    "## --------------------------------------------------------\n",
    "img_path = [] # store image paths for all images (all images are size 256x256)\n",
    "label = [] # healthy (0) vs parkinsons (1)\n",
    "dataset_folder = 'Spiral_DataSet1_relabelled'\n",
    "\n",
    "# iterate through all of the images to create a binary array corresponding to the image labels\n",
    "for labeled_folder in os.listdir(dataset_folder):\n",
    "    for img in os.listdir(dataset_folder + \"/\" + labeled_folder):\n",
    "        if labeled_folder == 'healthy':\n",
    "            label.append(0)\n",
    "        else:\n",
    "            label.append(1)\n",
    "        img_path.append(os.path.join(dataset_folder, labeled_folder, img))\n",
    "\n",
    "# total number of images and labels should match\n",
    "print(img_path[1], label[1])\n",
    "print(\"total number of labels: \", len(label))\n",
    "print(\"total number of images: \", len(img_path))\n",
    "\n",
    "# now create the dataframe\n",
    "df = pd.DataFrame()\n",
    "df['images'] = img_path\n",
    "df['label']  = label\n",
    "\n",
    "\n",
    "df = df.sample(frac=1).reset_index(drop=True) # randomize the images, rather than having them be in order\n",
    "df = utils.shuffle(df)\n",
    "\n",
    "print(df)\n",
    "\n",
    "# show the total count for each of the labels\n",
    "sns.countplot(df['label'])\n",
    "plt.show()"
   ]
  },
  {
   "cell_type": "code",
   "execution_count": 7,
   "metadata": {},
   "outputs": [
    {
     "name": "stdout",
     "output_type": "stream",
     "text": [
      "# validation samples:  15\n",
      "# testing samples:  16\n",
      "pause\n"
     ]
    }
   ],
   "source": [
    "## -----------------------------------------------------------\n",
    "#               Split into test and training data\n",
    "## -----------------------------------------------------------\n",
    "#randomly split data in train and test subsets\n",
    "x_feature, val_feature, x_label, val_label = train_test_split(df['images'], df['label'], test_size=0.3, shuffle=False)\n",
    "\n",
    "# shuffle data\n",
    "#x_feature, x_label = utils.shuffle(x_feature, x_label)\n",
    "val_feature, val_label = utils.shuffle(val_feature, val_label)\n",
    "\n",
    "## (OPTIONAL) split val and test data\n",
    "val_feature, test_feature, val_label, test_label = train_test_split(val_feature, val_label, test_size=0.5, shuffle=False)\n",
    "\n",
    "print(\"# validation samples: \", len(val_label))\n",
    "print(\"# testing samples: \", len(test_label))\n",
    "\n",
    "print(\"pause\")\n",
    "# convert y-col to str for binary class_mode\n",
    "# train['label'] = train['label'].astype('str')\n",
    "# test['label']  = test['label'].astype('str')"
   ]
  },
  {
   "cell_type": "code",
   "execution_count": 20,
   "metadata": {},
   "outputs": [
    {
     "name": "stdout",
     "output_type": "stream",
     "text": [
      "pause\n"
     ]
    }
   ],
   "source": [
    "## ------------------------------------------\n",
    "#       Convert images to raw pixels\n",
    "## ------------------------------------------\n",
    "train_array = []\n",
    "val_array = []\n",
    "\n",
    "for img_path in x_feature:\n",
    "    openImg = PIL.Image.open(img_path)\n",
    "    image = openImg.convert(\"P\") # covert to grayscale\n",
    "    imgArray = np.array(image)\n",
    "    imgArray = cv2.resize(imgArray, (128,128))\n",
    "    imgArray = np.expand_dims(imgArray, axis=2)\n",
    "\n",
    "    # store in array\n",
    "    train_array.append(imgArray)\n",
    "\n",
    "for img_path in val_feature:\n",
    "    openImg = PIL.Image.open(img_path)\n",
    "    image = openImg.convert(\"L\") # covert to grayscale\n",
    "    imgArray = np.array(image)\n",
    "    imgArray = cv2.resize(imgArray, (128,128))\n",
    "    imgArray = np.expand_dims(imgArray, axis=2)\n",
    "\n",
    "    # store in array\n",
    "    val_array.append(imgArray)\n",
    "\n",
    "\n",
    "print(\"pause\")\n"
   ]
  },
  {
   "cell_type": "code",
   "execution_count": 21,
   "metadata": {},
   "outputs": [
    {
     "name": "stdout",
     "output_type": "stream",
     "text": [
      "pause\n",
      "pause\n"
     ]
    }
   ],
   "source": [
    "## -------------------------------------------------------------------\n",
    "#       Artificially create more images for a bigger dataset\n",
    "## -------------------------------------------------------------------\n",
    "# normalize the data\n",
    "train_gen = ImageDataGenerator(\n",
    "    rescale=1./255,\n",
    "    rotation_range=20,\n",
    "    fill_mode='nearest',\n",
    "    brightness_range=[.4,1.4],\n",
    "    vertical_flip = True,\n",
    "    horizontal_flip = True\n",
    ")\n",
    "\n",
    "test_gen = ImageDataGenerator(\n",
    "    rescale=1./255,\n",
    "    rotation_range=20,\n",
    "    fill_mode='nearest',\n",
    "    brightness_range=[.4,1.4],\n",
    "    vertical_flip = True,\n",
    "    horizontal_flip = True\n",
    ")\n",
    "\n",
    "## add more training images\n",
    "trainAug = []\n",
    "trainAugLabel = []\n",
    "\n",
    "for (i,v) in enumerate(x_label):\n",
    "    #print(\"i: \", i)\n",
    "    #print(\"v: \", v)\n",
    "    tempImg = np.expand_dims(train_array[i], axis=0)\n",
    "    aug = train_gen.flow(tempImg, batch_size=1, shuffle=True)\n",
    "    for addImages in range(50):\n",
    "        augImg = next(aug)[0].astype('uint8')\n",
    "        if np.size(augImg) == 128**2:\n",
    "            trainAug.append(augImg)\n",
    "            trainAugLabel.append(v)\n",
    "\n",
    "## add more validation images\n",
    "valAug = []\n",
    "valAugLabel = []\n",
    "\n",
    "for (i,v) in enumerate(val_label):\n",
    "    #print(\"i: \", i)\n",
    "    #print(\"v: \", v)\n",
    "    tempImg = np.expand_dims(val_array[i], axis=0)\n",
    "    aug = test_gen.flow(tempImg, batch_size=1)\n",
    "    for addImages in range(50):\n",
    "        augImg = next(aug)[0].astype('uint8')\n",
    "        if np.size(augImg) == 128**2:\n",
    "            valAug.append(augImg)\n",
    "            valAugLabel.append(v)\n",
    "\n",
    "print(\"pause\")\n",
    "\n",
    "# convert everything to numpy arrays (CNN does not like lists)\n",
    "# trainAug = np.array(trainAug)\n",
    "# testAug = np.array(testAug)\n",
    "\n",
    "#trainAug = train_array + trainAug\n",
    "#testAug = val_array + testAug\n",
    "\n",
    "trainAugLabel = tf.keras.utils.to_categorical(np.array(trainAugLabel))\n",
    "valAugLabel = tf.keras.utils.to_categorical(np.array(valAugLabel))\n",
    "\n",
    "\n",
    "print(\"pause\")\n",
    "\n",
    "# shuffle data\n",
    "trainAug, trainAugLabel = utils.shuffle(trainAug, trainAugLabel)\n",
    "valAug, testAugLabel = utils.shuffle(valAug, valAugLabel)\n",
    "\n"
   ]
  },
  {
   "cell_type": "code",
   "execution_count": 22,
   "metadata": {},
   "outputs": [
    {
     "data": {
      "image/png": "[encoded data removed]",
      "text/plain": [
       "<Figure size 864x360 with 2 Axes>"
      ]
     },
     "metadata": {
      "needs_background": "light"
     },
     "output_type": "display_data"
    },
    {
     "name": "stdout",
     "output_type": "stream",
     "text": [
      "Total training data samples:  3550\n",
      "Total validation data samples:  750\n",
      "Training-to-validation ratio:  21.0 %\n"
     ]
    }
   ],
   "source": [
    "fig, ax = plt.subplots(1,2)\n",
    "fig.set_size_inches(12,5)\n",
    "ax0 = sns.countplot(trainAugLabel[:,1], ax=ax[0])\n",
    "ax0.title.set_text(\"training data\")\n",
    "ax1 = sns.countplot(valAugLabel[:,1], ax=ax[1])\n",
    "ax1.title.set_text(\"validation data\")\n",
    "plt.show()\n",
    "\n",
    "print(\"Total training data samples: \", len(trainAug))\n",
    "print(\"Total validation data samples: \", len(valAug))\n",
    "print(\"Training-to-validation ratio: \", np.round(len(valAug)/len(trainAug),2)*100 , \"%\")"
   ]
  },
  {
   "cell_type": "code",
   "execution_count": 15,
   "metadata": {},
   "outputs": [],
   "source": [
    "# plot images\n",
    "imfile = Image.fromarray(np.squeeze(valAug[2]))\n",
    "imfile.show(imfile)     "
   ]
  },
  {
   "cell_type": "code",
   "execution_count": 24,
   "metadata": {},
   "outputs": [
    {
     "name": "stdout",
     "output_type": "stream",
     "text": [
      "Model: \"sequential_4\"\n",
      "_________________________________________________________________\n",
      " Layer (type)                Output Shape              Param #   \n",
      "=================================================================\n",
      " conv2d_16 (Conv2D)          (None, 128, 128, 32)      832       \n",
      "                                                                 \n",
      " max_pooling2d_16 (MaxPoolin  (None, 61, 61, 32)       0         \n",
      " g2D)                                                            \n",
      "                                                                 \n",
      " conv2d_17 (Conv2D)          (None, 61, 61, 64)        51264     \n",
      "                                                                 \n",
      " max_pooling2d_17 (MaxPoolin  (None, 30, 30, 64)       0         \n",
      " g2D)                                                            \n",
      "                                                                 \n",
      " conv2d_18 (Conv2D)          (None, 30, 30, 128)       73856     \n",
      "                                                                 \n",
      " max_pooling2d_18 (MaxPoolin  (None, 28, 28, 128)      0         \n",
      " g2D)                                                            \n",
      "                                                                 \n",
      " conv2d_19 (Conv2D)          (None, 28, 28, 256)       295168    \n",
      "                                                                 \n",
      " max_pooling2d_19 (MaxPoolin  (None, 26, 26, 256)      0         \n",
      " g2D)                                                            \n",
      "                                                                 \n",
      " flatten_4 (Flatten)         (None, 173056)            0         \n",
      "                                                                 \n",
      " dropout_8 (Dropout)         (None, 173056)            0         \n",
      "                                                                 \n",
      " dense_8 (Dense)             (None, 128)               22151296  \n",
      "                                                                 \n",
      " dropout_9 (Dropout)         (None, 128)               0         \n",
      "                                                                 \n",
      " dense_9 (Dense)             (None, 2)                 258       \n",
      "                                                                 \n",
      "=================================================================\n",
      "Total params: 22,572,674\n",
      "Trainable params: 22,572,674\n",
      "Non-trainable params: 0\n",
      "_________________________________________________________________\n",
      "Epoch 1/50\n",
      " 39/111 [=========>....................] - ETA: 3:06 - loss: 1.1384 - accuracy: 0.4992"
     ]
    },
    {
     "ename": "KeyboardInterrupt",
     "evalue": "",
     "output_type": "error",
     "traceback": [
      "\u001b[1;31m---------------------------------------------------------------------------\u001b[0m",
      "\u001b[1;31mKeyboardInterrupt\u001b[0m                         Traceback (most recent call last)",
      "\u001b[1;32mc:\\Users\\Rebecca\\Documents\\Virginia_Tech\\SP22\\Research\\git-repos\\hand-tremor-detection\\hand-drawn-spiral-classifier-100patients\\spiral_image_classifier.ipynb Cell 9'\u001b[0m in \u001b[0;36m<module>\u001b[1;34m\u001b[0m\n\u001b[0;32m     <a href='vscode-notebook-cell:/c%3A/Users/Rebecca/Documents/Virginia_Tech/SP22/Research/git-repos/hand-tremor-detection/hand-drawn-spiral-classifier-100patients/spiral_image_classifier.ipynb#ch0000017?line=20'>21</a>\u001b[0m model\u001b[39m.\u001b[39msummary()\n\u001b[0;32m     <a href='vscode-notebook-cell:/c%3A/Users/Rebecca/Documents/Virginia_Tech/SP22/Research/git-repos/hand-tremor-detection/hand-drawn-spiral-classifier-100patients/spiral_image_classifier.ipynb#ch0000017?line=22'>23</a>\u001b[0m \u001b[39m## Train the model\u001b[39;00m\n\u001b[1;32m---> <a href='vscode-notebook-cell:/c%3A/Users/Rebecca/Documents/Virginia_Tech/SP22/Research/git-repos/hand-tremor-detection/hand-drawn-spiral-classifier-100patients/spiral_image_classifier.ipynb#ch0000017?line=23'>24</a>\u001b[0m trained_model \u001b[39m=\u001b[39m model\u001b[39m.\u001b[39;49mfit(np\u001b[39m.\u001b[39;49marray(trainAug), trainAugLabel, epochs\u001b[39m=\u001b[39;49m\u001b[39m50\u001b[39;49m, validation_data\u001b[39m=\u001b[39;49m(np\u001b[39m.\u001b[39;49marray(valAug), valAugLabel))\n",
      "File \u001b[1;32m~\\anaconda3\\envs\\MLenv\\lib\\site-packages\\keras\\utils\\traceback_utils.py:64\u001b[0m, in \u001b[0;36mfilter_traceback.<locals>.error_handler\u001b[1;34m(*args, **kwargs)\u001b[0m\n\u001b[0;32m     <a href='file:///c%3A/Users/Rebecca/anaconda3/envs/MLenv/lib/site-packages/keras/utils/traceback_utils.py?line=61'>62</a>\u001b[0m filtered_tb \u001b[39m=\u001b[39m \u001b[39mNone\u001b[39;00m\n\u001b[0;32m     <a href='file:///c%3A/Users/Rebecca/anaconda3/envs/MLenv/lib/site-packages/keras/utils/traceback_utils.py?line=62'>63</a>\u001b[0m \u001b[39mtry\u001b[39;00m:\n\u001b[1;32m---> <a href='file:///c%3A/Users/Rebecca/anaconda3/envs/MLenv/lib/site-packages/keras/utils/traceback_utils.py?line=63'>64</a>\u001b[0m   \u001b[39mreturn\u001b[39;00m fn(\u001b[39m*\u001b[39margs, \u001b[39m*\u001b[39m\u001b[39m*\u001b[39mkwargs)\n\u001b[0;32m     <a href='file:///c%3A/Users/Rebecca/anaconda3/envs/MLenv/lib/site-packages/keras/utils/traceback_utils.py?line=64'>65</a>\u001b[0m \u001b[39mexcept\u001b[39;00m \u001b[39mException\u001b[39;00m \u001b[39mas\u001b[39;00m e:  \u001b[39m# pylint: disable=broad-except\u001b[39;00m\n\u001b[0;32m     <a href='file:///c%3A/Users/Rebecca/anaconda3/envs/MLenv/lib/site-packages/keras/utils/traceback_utils.py?line=65'>66</a>\u001b[0m   filtered_tb \u001b[39m=\u001b[39m _process_traceback_frames(e\u001b[39m.\u001b[39m__traceback__)\n",
      "File \u001b[1;32m~\\anaconda3\\envs\\MLenv\\lib\\site-packages\\keras\\engine\\training.py:1216\u001b[0m, in \u001b[0;36mModel.fit\u001b[1;34m(self, x, y, batch_size, epochs, verbose, callbacks, validation_split, validation_data, shuffle, class_weight, sample_weight, initial_epoch, steps_per_epoch, validation_steps, validation_batch_size, validation_freq, max_queue_size, workers, use_multiprocessing)\u001b[0m\n\u001b[0;32m   <a href='file:///c%3A/Users/Rebecca/anaconda3/envs/MLenv/lib/site-packages/keras/engine/training.py?line=1208'>1209</a>\u001b[0m \u001b[39mwith\u001b[39;00m tf\u001b[39m.\u001b[39mprofiler\u001b[39m.\u001b[39mexperimental\u001b[39m.\u001b[39mTrace(\n\u001b[0;32m   <a href='file:///c%3A/Users/Rebecca/anaconda3/envs/MLenv/lib/site-packages/keras/engine/training.py?line=1209'>1210</a>\u001b[0m     \u001b[39m'\u001b[39m\u001b[39mtrain\u001b[39m\u001b[39m'\u001b[39m,\n\u001b[0;32m   <a href='file:///c%3A/Users/Rebecca/anaconda3/envs/MLenv/lib/site-packages/keras/engine/training.py?line=1210'>1211</a>\u001b[0m     epoch_num\u001b[39m=\u001b[39mepoch,\n\u001b[0;32m   <a href='file:///c%3A/Users/Rebecca/anaconda3/envs/MLenv/lib/site-packages/keras/engine/training.py?line=1211'>1212</a>\u001b[0m     step_num\u001b[39m=\u001b[39mstep,\n\u001b[0;32m   <a href='file:///c%3A/Users/Rebecca/anaconda3/envs/MLenv/lib/site-packages/keras/engine/training.py?line=1212'>1213</a>\u001b[0m     batch_size\u001b[39m=\u001b[39mbatch_size,\n\u001b[0;32m   <a href='file:///c%3A/Users/Rebecca/anaconda3/envs/MLenv/lib/site-packages/keras/engine/training.py?line=1213'>1214</a>\u001b[0m     _r\u001b[39m=\u001b[39m\u001b[39m1\u001b[39m):\n\u001b[0;32m   <a href='file:///c%3A/Users/Rebecca/anaconda3/envs/MLenv/lib/site-packages/keras/engine/training.py?line=1214'>1215</a>\u001b[0m   callbacks\u001b[39m.\u001b[39mon_train_batch_begin(step)\n\u001b[1;32m-> <a href='file:///c%3A/Users/Rebecca/anaconda3/envs/MLenv/lib/site-packages/keras/engine/training.py?line=1215'>1216</a>\u001b[0m   tmp_logs \u001b[39m=\u001b[39m \u001b[39mself\u001b[39;49m\u001b[39m.\u001b[39;49mtrain_function(iterator)\n\u001b[0;32m   <a href='file:///c%3A/Users/Rebecca/anaconda3/envs/MLenv/lib/site-packages/keras/engine/training.py?line=1216'>1217</a>\u001b[0m   \u001b[39mif\u001b[39;00m data_handler\u001b[39m.\u001b[39mshould_sync:\n\u001b[0;32m   <a href='file:///c%3A/Users/Rebecca/anaconda3/envs/MLenv/lib/site-packages/keras/engine/training.py?line=1217'>1218</a>\u001b[0m     context\u001b[39m.\u001b[39masync_wait()\n",
      "File \u001b[1;32m~\\anaconda3\\envs\\MLenv\\lib\\site-packages\\tensorflow\\python\\util\\traceback_utils.py:150\u001b[0m, in \u001b[0;36mfilter_traceback.<locals>.error_handler\u001b[1;34m(*args, **kwargs)\u001b[0m\n\u001b[0;32m    <a href='file:///c%3A/Users/Rebecca/anaconda3/envs/MLenv/lib/site-packages/tensorflow/python/util/traceback_utils.py?line=147'>148</a>\u001b[0m filtered_tb \u001b[39m=\u001b[39m \u001b[39mNone\u001b[39;00m\n\u001b[0;32m    <a href='file:///c%3A/Users/Rebecca/anaconda3/envs/MLenv/lib/site-packages/tensorflow/python/util/traceback_utils.py?line=148'>149</a>\u001b[0m \u001b[39mtry\u001b[39;00m:\n\u001b[1;32m--> <a href='file:///c%3A/Users/Rebecca/anaconda3/envs/MLenv/lib/site-packages/tensorflow/python/util/traceback_utils.py?line=149'>150</a>\u001b[0m   \u001b[39mreturn\u001b[39;00m fn(\u001b[39m*\u001b[39margs, \u001b[39m*\u001b[39m\u001b[39m*\u001b[39mkwargs)\n\u001b[0;32m    <a href='file:///c%3A/Users/Rebecca/anaconda3/envs/MLenv/lib/site-packages/tensorflow/python/util/traceback_utils.py?line=150'>151</a>\u001b[0m \u001b[39mexcept\u001b[39;00m \u001b[39mException\u001b[39;00m \u001b[39mas\u001b[39;00m e:\n\u001b[0;32m    <a href='file:///c%3A/Users/Rebecca/anaconda3/envs/MLenv/lib/site-packages/tensorflow/python/util/traceback_utils.py?line=151'>152</a>\u001b[0m   filtered_tb \u001b[39m=\u001b[39m _process_traceback_frames(e\u001b[39m.\u001b[39m__traceback__)\n",
      "File \u001b[1;32m~\\anaconda3\\envs\\MLenv\\lib\\site-packages\\tensorflow\\python\\eager\\def_function.py:910\u001b[0m, in \u001b[0;36mFunction.__call__\u001b[1;34m(self, *args, **kwds)\u001b[0m\n\u001b[0;32m    <a href='file:///c%3A/Users/Rebecca/anaconda3/envs/MLenv/lib/site-packages/tensorflow/python/eager/def_function.py?line=906'>907</a>\u001b[0m compiler \u001b[39m=\u001b[39m \u001b[39m\"\u001b[39m\u001b[39mxla\u001b[39m\u001b[39m\"\u001b[39m \u001b[39mif\u001b[39;00m \u001b[39mself\u001b[39m\u001b[39m.\u001b[39m_jit_compile \u001b[39melse\u001b[39;00m \u001b[39m\"\u001b[39m\u001b[39mnonXla\u001b[39m\u001b[39m\"\u001b[39m\n\u001b[0;32m    <a href='file:///c%3A/Users/Rebecca/anaconda3/envs/MLenv/lib/site-packages/tensorflow/python/eager/def_function.py?line=908'>909</a>\u001b[0m \u001b[39mwith\u001b[39;00m OptionalXlaContext(\u001b[39mself\u001b[39m\u001b[39m.\u001b[39m_jit_compile):\n\u001b[1;32m--> <a href='file:///c%3A/Users/Rebecca/anaconda3/envs/MLenv/lib/site-packages/tensorflow/python/eager/def_function.py?line=909'>910</a>\u001b[0m   result \u001b[39m=\u001b[39m \u001b[39mself\u001b[39m\u001b[39m.\u001b[39m_call(\u001b[39m*\u001b[39margs, \u001b[39m*\u001b[39m\u001b[39m*\u001b[39mkwds)\n\u001b[0;32m    <a href='file:///c%3A/Users/Rebecca/anaconda3/envs/MLenv/lib/site-packages/tensorflow/python/eager/def_function.py?line=911'>912</a>\u001b[0m new_tracing_count \u001b[39m=\u001b[39m \u001b[39mself\u001b[39m\u001b[39m.\u001b[39mexperimental_get_tracing_count()\n\u001b[0;32m    <a href='file:///c%3A/Users/Rebecca/anaconda3/envs/MLenv/lib/site-packages/tensorflow/python/eager/def_function.py?line=912'>913</a>\u001b[0m without_tracing \u001b[39m=\u001b[39m (tracing_count \u001b[39m==\u001b[39m new_tracing_count)\n",
      "File \u001b[1;32m~\\anaconda3\\envs\\MLenv\\lib\\site-packages\\tensorflow\\python\\eager\\def_function.py:942\u001b[0m, in \u001b[0;36mFunction._call\u001b[1;34m(self, *args, **kwds)\u001b[0m\n\u001b[0;32m    <a href='file:///c%3A/Users/Rebecca/anaconda3/envs/MLenv/lib/site-packages/tensorflow/python/eager/def_function.py?line=938'>939</a>\u001b[0m   \u001b[39mself\u001b[39m\u001b[39m.\u001b[39m_lock\u001b[39m.\u001b[39mrelease()\n\u001b[0;32m    <a href='file:///c%3A/Users/Rebecca/anaconda3/envs/MLenv/lib/site-packages/tensorflow/python/eager/def_function.py?line=939'>940</a>\u001b[0m   \u001b[39m# In this case we have created variables on the first call, so we run the\u001b[39;00m\n\u001b[0;32m    <a href='file:///c%3A/Users/Rebecca/anaconda3/envs/MLenv/lib/site-packages/tensorflow/python/eager/def_function.py?line=940'>941</a>\u001b[0m   \u001b[39m# defunned version which is guaranteed to never create variables.\u001b[39;00m\n\u001b[1;32m--> <a href='file:///c%3A/Users/Rebecca/anaconda3/envs/MLenv/lib/site-packages/tensorflow/python/eager/def_function.py?line=941'>942</a>\u001b[0m   \u001b[39mreturn\u001b[39;00m \u001b[39mself\u001b[39m\u001b[39m.\u001b[39m_stateless_fn(\u001b[39m*\u001b[39margs, \u001b[39m*\u001b[39m\u001b[39m*\u001b[39mkwds)  \u001b[39m# pylint: disable=not-callable\u001b[39;00m\n\u001b[0;32m    <a href='file:///c%3A/Users/Rebecca/anaconda3/envs/MLenv/lib/site-packages/tensorflow/python/eager/def_function.py?line=942'>943</a>\u001b[0m \u001b[39melif\u001b[39;00m \u001b[39mself\u001b[39m\u001b[39m.\u001b[39m_stateful_fn \u001b[39mis\u001b[39;00m \u001b[39mnot\u001b[39;00m \u001b[39mNone\u001b[39;00m:\n\u001b[0;32m    <a href='file:///c%3A/Users/Rebecca/anaconda3/envs/MLenv/lib/site-packages/tensorflow/python/eager/def_function.py?line=943'>944</a>\u001b[0m   \u001b[39m# Release the lock early so that multiple threads can perform the call\u001b[39;00m\n\u001b[0;32m    <a href='file:///c%3A/Users/Rebecca/anaconda3/envs/MLenv/lib/site-packages/tensorflow/python/eager/def_function.py?line=944'>945</a>\u001b[0m   \u001b[39m# in parallel.\u001b[39;00m\n\u001b[0;32m    <a href='file:///c%3A/Users/Rebecca/anaconda3/envs/MLenv/lib/site-packages/tensorflow/python/eager/def_function.py?line=945'>946</a>\u001b[0m   \u001b[39mself\u001b[39m\u001b[39m.\u001b[39m_lock\u001b[39m.\u001b[39mrelease()\n",
      "File \u001b[1;32m~\\anaconda3\\envs\\MLenv\\lib\\site-packages\\tensorflow\\python\\eager\\function.py:3130\u001b[0m, in \u001b[0;36mFunction.__call__\u001b[1;34m(self, *args, **kwargs)\u001b[0m\n\u001b[0;32m   <a href='file:///c%3A/Users/Rebecca/anaconda3/envs/MLenv/lib/site-packages/tensorflow/python/eager/function.py?line=3126'>3127</a>\u001b[0m \u001b[39mwith\u001b[39;00m \u001b[39mself\u001b[39m\u001b[39m.\u001b[39m_lock:\n\u001b[0;32m   <a href='file:///c%3A/Users/Rebecca/anaconda3/envs/MLenv/lib/site-packages/tensorflow/python/eager/function.py?line=3127'>3128</a>\u001b[0m   (graph_function,\n\u001b[0;32m   <a href='file:///c%3A/Users/Rebecca/anaconda3/envs/MLenv/lib/site-packages/tensorflow/python/eager/function.py?line=3128'>3129</a>\u001b[0m    filtered_flat_args) \u001b[39m=\u001b[39m \u001b[39mself\u001b[39m\u001b[39m.\u001b[39m_maybe_define_function(args, kwargs)\n\u001b[1;32m-> <a href='file:///c%3A/Users/Rebecca/anaconda3/envs/MLenv/lib/site-packages/tensorflow/python/eager/function.py?line=3129'>3130</a>\u001b[0m \u001b[39mreturn\u001b[39;00m graph_function\u001b[39m.\u001b[39;49m_call_flat(\n\u001b[0;32m   <a href='file:///c%3A/Users/Rebecca/anaconda3/envs/MLenv/lib/site-packages/tensorflow/python/eager/function.py?line=3130'>3131</a>\u001b[0m     filtered_flat_args, captured_inputs\u001b[39m=\u001b[39;49mgraph_function\u001b[39m.\u001b[39;49mcaptured_inputs)\n",
      "File \u001b[1;32m~\\anaconda3\\envs\\MLenv\\lib\\site-packages\\tensorflow\\python\\eager\\function.py:1959\u001b[0m, in \u001b[0;36mConcreteFunction._call_flat\u001b[1;34m(self, args, captured_inputs, cancellation_manager)\u001b[0m\n\u001b[0;32m   <a href='file:///c%3A/Users/Rebecca/anaconda3/envs/MLenv/lib/site-packages/tensorflow/python/eager/function.py?line=1954'>1955</a>\u001b[0m possible_gradient_type \u001b[39m=\u001b[39m gradients_util\u001b[39m.\u001b[39mPossibleTapeGradientTypes(args)\n\u001b[0;32m   <a href='file:///c%3A/Users/Rebecca/anaconda3/envs/MLenv/lib/site-packages/tensorflow/python/eager/function.py?line=1955'>1956</a>\u001b[0m \u001b[39mif\u001b[39;00m (possible_gradient_type \u001b[39m==\u001b[39m gradients_util\u001b[39m.\u001b[39mPOSSIBLE_GRADIENT_TYPES_NONE\n\u001b[0;32m   <a href='file:///c%3A/Users/Rebecca/anaconda3/envs/MLenv/lib/site-packages/tensorflow/python/eager/function.py?line=1956'>1957</a>\u001b[0m     \u001b[39mand\u001b[39;00m executing_eagerly):\n\u001b[0;32m   <a href='file:///c%3A/Users/Rebecca/anaconda3/envs/MLenv/lib/site-packages/tensorflow/python/eager/function.py?line=1957'>1958</a>\u001b[0m   \u001b[39m# No tape is watching; skip to running the function.\u001b[39;00m\n\u001b[1;32m-> <a href='file:///c%3A/Users/Rebecca/anaconda3/envs/MLenv/lib/site-packages/tensorflow/python/eager/function.py?line=1958'>1959</a>\u001b[0m   \u001b[39mreturn\u001b[39;00m \u001b[39mself\u001b[39m\u001b[39m.\u001b[39m_build_call_outputs(\u001b[39mself\u001b[39;49m\u001b[39m.\u001b[39;49m_inference_function\u001b[39m.\u001b[39;49mcall(\n\u001b[0;32m   <a href='file:///c%3A/Users/Rebecca/anaconda3/envs/MLenv/lib/site-packages/tensorflow/python/eager/function.py?line=1959'>1960</a>\u001b[0m       ctx, args, cancellation_manager\u001b[39m=\u001b[39;49mcancellation_manager))\n\u001b[0;32m   <a href='file:///c%3A/Users/Rebecca/anaconda3/envs/MLenv/lib/site-packages/tensorflow/python/eager/function.py?line=1960'>1961</a>\u001b[0m forward_backward \u001b[39m=\u001b[39m \u001b[39mself\u001b[39m\u001b[39m.\u001b[39m_select_forward_and_backward_functions(\n\u001b[0;32m   <a href='file:///c%3A/Users/Rebecca/anaconda3/envs/MLenv/lib/site-packages/tensorflow/python/eager/function.py?line=1961'>1962</a>\u001b[0m     args,\n\u001b[0;32m   <a href='file:///c%3A/Users/Rebecca/anaconda3/envs/MLenv/lib/site-packages/tensorflow/python/eager/function.py?line=1962'>1963</a>\u001b[0m     possible_gradient_type,\n\u001b[0;32m   <a href='file:///c%3A/Users/Rebecca/anaconda3/envs/MLenv/lib/site-packages/tensorflow/python/eager/function.py?line=1963'>1964</a>\u001b[0m     executing_eagerly)\n\u001b[0;32m   <a href='file:///c%3A/Users/Rebecca/anaconda3/envs/MLenv/lib/site-packages/tensorflow/python/eager/function.py?line=1964'>1965</a>\u001b[0m forward_function, args_with_tangents \u001b[39m=\u001b[39m forward_backward\u001b[39m.\u001b[39mforward()\n",
      "File \u001b[1;32m~\\anaconda3\\envs\\MLenv\\lib\\site-packages\\tensorflow\\python\\eager\\function.py:598\u001b[0m, in \u001b[0;36m_EagerDefinedFunction.call\u001b[1;34m(self, ctx, args, cancellation_manager)\u001b[0m\n\u001b[0;32m    <a href='file:///c%3A/Users/Rebecca/anaconda3/envs/MLenv/lib/site-packages/tensorflow/python/eager/function.py?line=595'>596</a>\u001b[0m \u001b[39mwith\u001b[39;00m _InterpolateFunctionError(\u001b[39mself\u001b[39m):\n\u001b[0;32m    <a href='file:///c%3A/Users/Rebecca/anaconda3/envs/MLenv/lib/site-packages/tensorflow/python/eager/function.py?line=596'>597</a>\u001b[0m   \u001b[39mif\u001b[39;00m cancellation_manager \u001b[39mis\u001b[39;00m \u001b[39mNone\u001b[39;00m:\n\u001b[1;32m--> <a href='file:///c%3A/Users/Rebecca/anaconda3/envs/MLenv/lib/site-packages/tensorflow/python/eager/function.py?line=597'>598</a>\u001b[0m     outputs \u001b[39m=\u001b[39m execute\u001b[39m.\u001b[39;49mexecute(\n\u001b[0;32m    <a href='file:///c%3A/Users/Rebecca/anaconda3/envs/MLenv/lib/site-packages/tensorflow/python/eager/function.py?line=598'>599</a>\u001b[0m         \u001b[39mstr\u001b[39;49m(\u001b[39mself\u001b[39;49m\u001b[39m.\u001b[39;49msignature\u001b[39m.\u001b[39;49mname),\n\u001b[0;32m    <a href='file:///c%3A/Users/Rebecca/anaconda3/envs/MLenv/lib/site-packages/tensorflow/python/eager/function.py?line=599'>600</a>\u001b[0m         num_outputs\u001b[39m=\u001b[39;49m\u001b[39mself\u001b[39;49m\u001b[39m.\u001b[39;49m_num_outputs,\n\u001b[0;32m    <a href='file:///c%3A/Users/Rebecca/anaconda3/envs/MLenv/lib/site-packages/tensorflow/python/eager/function.py?line=600'>601</a>\u001b[0m         inputs\u001b[39m=\u001b[39;49margs,\n\u001b[0;32m    <a href='file:///c%3A/Users/Rebecca/anaconda3/envs/MLenv/lib/site-packages/tensorflow/python/eager/function.py?line=601'>602</a>\u001b[0m         attrs\u001b[39m=\u001b[39;49mattrs,\n\u001b[0;32m    <a href='file:///c%3A/Users/Rebecca/anaconda3/envs/MLenv/lib/site-packages/tensorflow/python/eager/function.py?line=602'>603</a>\u001b[0m         ctx\u001b[39m=\u001b[39;49mctx)\n\u001b[0;32m    <a href='file:///c%3A/Users/Rebecca/anaconda3/envs/MLenv/lib/site-packages/tensorflow/python/eager/function.py?line=603'>604</a>\u001b[0m   \u001b[39melse\u001b[39;00m:\n\u001b[0;32m    <a href='file:///c%3A/Users/Rebecca/anaconda3/envs/MLenv/lib/site-packages/tensorflow/python/eager/function.py?line=604'>605</a>\u001b[0m     outputs \u001b[39m=\u001b[39m execute\u001b[39m.\u001b[39mexecute_with_cancellation(\n\u001b[0;32m    <a href='file:///c%3A/Users/Rebecca/anaconda3/envs/MLenv/lib/site-packages/tensorflow/python/eager/function.py?line=605'>606</a>\u001b[0m         \u001b[39mstr\u001b[39m(\u001b[39mself\u001b[39m\u001b[39m.\u001b[39msignature\u001b[39m.\u001b[39mname),\n\u001b[0;32m    <a href='file:///c%3A/Users/Rebecca/anaconda3/envs/MLenv/lib/site-packages/tensorflow/python/eager/function.py?line=606'>607</a>\u001b[0m         num_outputs\u001b[39m=\u001b[39m\u001b[39mself\u001b[39m\u001b[39m.\u001b[39m_num_outputs,\n\u001b[1;32m   (...)\u001b[0m\n\u001b[0;32m    <a href='file:///c%3A/Users/Rebecca/anaconda3/envs/MLenv/lib/site-packages/tensorflow/python/eager/function.py?line=609'>610</a>\u001b[0m         ctx\u001b[39m=\u001b[39mctx,\n\u001b[0;32m    <a href='file:///c%3A/Users/Rebecca/anaconda3/envs/MLenv/lib/site-packages/tensorflow/python/eager/function.py?line=610'>611</a>\u001b[0m         cancellation_manager\u001b[39m=\u001b[39mcancellation_manager)\n",
      "File \u001b[1;32m~\\anaconda3\\envs\\MLenv\\lib\\site-packages\\tensorflow\\python\\eager\\execute.py:58\u001b[0m, in \u001b[0;36mquick_execute\u001b[1;34m(op_name, num_outputs, inputs, attrs, ctx, name)\u001b[0m\n\u001b[0;32m     <a href='file:///c%3A/Users/Rebecca/anaconda3/envs/MLenv/lib/site-packages/tensorflow/python/eager/execute.py?line=55'>56</a>\u001b[0m \u001b[39mtry\u001b[39;00m:\n\u001b[0;32m     <a href='file:///c%3A/Users/Rebecca/anaconda3/envs/MLenv/lib/site-packages/tensorflow/python/eager/execute.py?line=56'>57</a>\u001b[0m   ctx\u001b[39m.\u001b[39mensure_initialized()\n\u001b[1;32m---> <a href='file:///c%3A/Users/Rebecca/anaconda3/envs/MLenv/lib/site-packages/tensorflow/python/eager/execute.py?line=57'>58</a>\u001b[0m   tensors \u001b[39m=\u001b[39m pywrap_tfe\u001b[39m.\u001b[39;49mTFE_Py_Execute(ctx\u001b[39m.\u001b[39;49m_handle, device_name, op_name,\n\u001b[0;32m     <a href='file:///c%3A/Users/Rebecca/anaconda3/envs/MLenv/lib/site-packages/tensorflow/python/eager/execute.py?line=58'>59</a>\u001b[0m                                       inputs, attrs, num_outputs)\n\u001b[0;32m     <a href='file:///c%3A/Users/Rebecca/anaconda3/envs/MLenv/lib/site-packages/tensorflow/python/eager/execute.py?line=59'>60</a>\u001b[0m \u001b[39mexcept\u001b[39;00m core\u001b[39m.\u001b[39m_NotOkStatusException \u001b[39mas\u001b[39;00m e:\n\u001b[0;32m     <a href='file:///c%3A/Users/Rebecca/anaconda3/envs/MLenv/lib/site-packages/tensorflow/python/eager/execute.py?line=60'>61</a>\u001b[0m   \u001b[39mif\u001b[39;00m name \u001b[39mis\u001b[39;00m \u001b[39mnot\u001b[39;00m \u001b[39mNone\u001b[39;00m:\n",
      "\u001b[1;31mKeyboardInterrupt\u001b[0m: "
     ]
    }
   ],
   "source": [
    "reg = tf.keras.regularizers.l2(0.001)\n",
    "opt = tf.keras.optimizers.Adam(learning_rate=1e-3)\n",
    "\n",
    "model = Sequential([\n",
    "    Conv2D(32, (5,5), padding='same', strides=(1,1), dilation_rate = 1, activation='relu', kernel_regularizer=reg, input_shape=(128,128,1)),\n",
    "    MaxPool2D((7,7), strides=(2,2)),\n",
    "    Conv2D(64, (5,5), padding='same', strides=(1,1), dilation_rate = 1, activation='relu', kernel_regularizer=reg),\n",
    "    MaxPool2D((3,3), strides=(2,2)),\n",
    "    Conv2D(128, (3,3), padding='same', strides=(1,1), dilation_rate = 1, activation='relu', kernel_regularizer=reg),\n",
    "    MaxPool2D((3,3), strides=(1,1)),\n",
    "    Conv2D(256, (3,3), padding='same', strides=(1,1), dilation_rate = 2, activation='relu', kernel_regularizer=reg),\n",
    "    MaxPool2D((3,3), strides=(1,1)),\n",
    "    Flatten(),\n",
    "    Dropout(0.5),\n",
    "    Dense(128, activation='relu'),\n",
    "    Dropout(0.5),\n",
    "    Dense(2,activation='softmax')\n",
    "])\n",
    "\n",
    "model.compile(optimizer=opt, loss='categorical_crossentropy', metrics=['accuracy'])\n",
    "model.summary()\n",
    "\n",
    "## Train the model\n",
    "trained_model = model.fit(np.array(trainAug), trainAugLabel, epochs=50, validation_data=(np.array(valAug), valAugLabel))"
   ]
  },
  {
   "cell_type": "code",
   "execution_count": null,
   "metadata": {},
   "outputs": [],
   "source": [
    "## -----------------------------------------------------------\n",
    "#                       Plot the Results\n",
    "## -----------------------------------------------------------\n",
    "# Accuracy and Validation Accuracy\n",
    "accuracy = trained_model.history['accuracy']\n",
    "val_acc = trained_model.history['val_accuracy']\n",
    "epochs = range(len(accuracy))\n",
    "\n",
    "plt.plot(epochs, accuracy, 'b', label='Training Accuracy')\n",
    "plt.plot(epochs, val_acc, 'r', label='Validation Accuracy')\n",
    "plt.title('Accuracy Graph')\n",
    "plt.legend()\n",
    "plt.grid()\n",
    "plt.figure()\n",
    "\n",
    "# Loss and Validation Loss\n",
    "loss = trained_model.history['loss']\n",
    "val_loss = trained_model.history['val_loss']\n",
    "\n",
    "plt.plot(epochs, loss, 'b', label='Training Loss')\n",
    "plt.plot(epochs, val_loss, 'r', label='Validation Loss')\n",
    "plt.title('Loss Graph')\n",
    "plt.legend()\n",
    "plt.grid()\n",
    "plt.show()"
   ]
  },
  {
   "cell_type": "markdown",
   "metadata": {},
   "source": [
    "### Archive Models"
   ]
  },
  {
   "cell_type": "code",
   "execution_count": null,
   "metadata": {},
   "outputs": [],
   "source": [
    "## -----------------------------------------------------------\n",
    "#                       Build the Model\n",
    "## -----------------------------------------------------------\n",
    "\n",
    "model = Sequential([\n",
    "    Conv2D(16, (3,3), activation='relu', input_shape=(256,256,1)),\n",
    "    MaxPool2D((2,2)),\n",
    "    Conv2D(32, (3,3), activation='relu'),\n",
    "    MaxPool2D((2,2)),\n",
    "    Conv2D(32, (3,3), activation='relu'),\n",
    "    MaxPool2D((2,2)),\n",
    "    Dropout(0.1),\n",
    "    Flatten(),\n",
    "    Dense(512, activation='relu'),\n",
    "    Dense(1,activation='sigmoid')\n",
    "])\n",
    "\n",
    "'''\n",
    "model = Sequential([\n",
    "    Conv2D(16, (3,3), activation='relu', input_shape=(128,128,3)),\n",
    "    MaxPool2D((2,2)),\n",
    "    Dropout(0.25),\n",
    "    Conv2D(32, (3,3), activation='relu'),\n",
    "    MaxPool2D((2,2)),\n",
    "    Dropout(0.4),\n",
    "    Conv2D(64, (3,3), activation='relu'),\n",
    "    MaxPool2D((2,2)),\n",
    "    Dropout(0.4),\n",
    "    Conv2D(64, (3,3), activation='relu'),\n",
    "    MaxPool2D((2,2)),\n",
    "    Dropout(0.4),\n",
    "    Conv2D(64, (3,3), activation='relu'),\n",
    "    MaxPool2D((2,2)),\n",
    "    Dropout(0.4),\n",
    "    Flatten(),\n",
    "    Dense(512, activation='relu'),\n",
    "    Dropout(0.3),\n",
    "    Dense(1,activation='sigmoid')\n",
    "])\n",
    "\n",
    "\n",
    "model = Sequential([\n",
    "    Conv2D(32, (3,3), activation='relu', input_shape=(128,128,1)),\n",
    "    MaxPool2D((2,2)),\n",
    "    Dropout(0.25),\n",
    "    Conv2D(64, (3,3), activation='relu'),\n",
    "    MaxPool2D((2,2)),\n",
    "    Dropout(0.4),\n",
    "    Flatten(),\n",
    "    Dense(512, activation='relu'),\n",
    "    Dropout(0.3),\n",
    "    Dense(1,activation='sigmoid')\n",
    "])\n",
    "'''\n",
    "\n",
    "model.compile(optimizer='adam', loss='categorical_crossentropy', metrics=['accuracy'])\n",
    "model.summary()\n",
    "\n",
    "## Train the model\n",
    "trained_model = model.fit(np.array(trainAug), trainAugLabel, epochs=50, validation_data=(np.array(testAug), testAugLabel))"
   ]
  }
 ],
 "metadata": {
  "interpreter": {
   "hash": "be06593c2f7c6c659d27d21530649fc496370ea6abbb7431f6c1d3f2c07b5e69"
  },
  "kernelspec": {
   "display_name": "Python 3.9.7 ('MLenv')",
   "language": "python",
   "name": "python3"
  },
  "language_info": {
   "codemirror_mode": {
    "name": "ipython",
    "version": 3
   },
   "file_extension": ".py",
   "mimetype": "text/x-python",
   "name": "python",
   "nbconvert_exporter": "python",
   "pygments_lexer": "ipython3",
   "version": "3.9.7"
  },
  "orig_nbformat": 4
 },
 "nbformat": 4,
 "nbformat_minor": 2
}
