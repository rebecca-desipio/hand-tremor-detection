{
 "cells": [
  {
   "cell_type": "markdown",
   "metadata": {},
   "source": [
    "# Image Classification using Keras and sklearn"
   ]
  },
  {
   "cell_type": "code",
   "execution_count": 2,
   "metadata": {},
   "outputs": [],
   "source": [
    "# import libraries\n",
    "import pandas as pd\n",
    "import numpy as np\n",
    "import matplotlib.pyplot as plt\n",
    "import math\n",
    "import seaborn as sns # statistical data visualization, used to plot total count for each label\n",
    "import random # used to split trainig and testing data\n",
    "import warnings\n",
    "import os # used to iterate through all the images in the specified directory\n",
    "\n",
    "# libraries used for loading images and visualization\n",
    "from keras.preprocessing.image import load_img\n",
    "warnings.filterwarnings('ignore')\n",
    "\n",
    "# libraries to split the data into training and testing data\n",
    "from sklearn.model_selection import train_test_split\n",
    "from keras.preprocessing.image import ImageDataGenerator\n",
    "from sklearn import utils\n",
    "\n",
    "import PIL\n",
    "from PIL import Image\n",
    "\n",
    "# libraries to build the model\n",
    "from keras import Sequential\n",
    "from keras.layers import Conv2D, MaxPool2D, Flatten, Dense, Dropout\n",
    "\n",
    "# image augmentation library \n",
    "import tensorflow_io as tfio\n",
    "\n",
    "# import tensorflow\n",
    "import tensorflow as tf\n"
   ]
  },
  {
   "cell_type": "code",
   "execution_count": 18,
   "metadata": {},
   "outputs": [
    {
     "name": "stdout",
     "output_type": "stream",
     "text": [
      "Spiral_DataSet1_relabelled\\healthy\\V01HE02.png 0\n",
      "total number of labels:  102\n",
      "total number of images:  102\n",
      "                                                images  label\n",
      "0    Spiral_DataSet1_relabelled\\parkinsons\\V10PE01.png      1\n",
      "1       Spiral_DataSet1_relabelled\\healthy\\V04HE03.png      0\n",
      "2       Spiral_DataSet1_relabelled\\healthy\\V08HE02.png      0\n",
      "3       Spiral_DataSet1_relabelled\\healthy\\V55HE13.png      0\n",
      "4    Spiral_DataSet1_relabelled\\parkinsons\\V06PE01.png      1\n",
      "..                                                 ...    ...\n",
      "97      Spiral_DataSet1_relabelled\\healthy\\V07HE02.png      0\n",
      "98   Spiral_DataSet1_relabelled\\parkinsons\\V03PE02.png      1\n",
      "99   Spiral_DataSet1_relabelled\\parkinsons\\V03PE05.png      1\n",
      "100  Spiral_DataSet1_relabelled\\parkinsons\\V09PE03.png      1\n",
      "101     Spiral_DataSet1_relabelled\\healthy\\V11HE03.png      0\n",
      "\n",
      "[102 rows x 2 columns]\n"
     ]
    },
    {
     "data": {
      "image/png": "[encoded data removed]",
      "text/plain": [
       "<Figure size 432x288 with 1 Axes>"
      ]
     },
     "metadata": {
      "needs_background": "light"
     },
     "output_type": "display_data"
    }
   ],
   "source": [
    "## --------------------------------------------------------\n",
    "#                  Create the Dataframe\n",
    "## --------------------------------------------------------\n",
    "img_path = [] # store image paths for all images (all images are size 256x256)\n",
    "label = [] # healthy (0) vs parkinsons (1)\n",
    "dataset_folder = 'Spiral_DataSet1_relabelled'\n",
    "\n",
    "# iterate through all of the images to create a binary array corresponding to the image labels\n",
    "for labeled_folder in os.listdir(dataset_folder):\n",
    "    for img in os.listdir(dataset_folder + \"/\" + labeled_folder):\n",
    "        if labeled_folder == 'healthy':\n",
    "            label.append(0)\n",
    "        else:\n",
    "            label.append(1)\n",
    "        img_path.append(os.path.join(dataset_folder, labeled_folder, img))\n",
    "\n",
    "# total number of images and labels should match\n",
    "print(img_path[1], label[1])\n",
    "print(\"total number of labels: \", len(label))\n",
    "print(\"total number of images: \", len(img_path))\n",
    "\n",
    "# now create the dataframe\n",
    "df = pd.DataFrame()\n",
    "df['images'] = img_path\n",
    "df['label']  = label\n",
    "\n",
    "\n",
    "df = df.sample(frac=1).reset_index(drop=True) # randomize the images, rather than having them be in order\n",
    "\n",
    "print(df)\n",
    "\n",
    "# show the total count for each of the labels\n",
    "sns.countplot(df['label'])\n",
    "plt.show()"
   ]
  },
  {
   "cell_type": "code",
   "execution_count": 19,
   "metadata": {},
   "outputs": [
    {
     "name": "stdout",
     "output_type": "stream",
     "text": [
      "pause\n"
     ]
    }
   ],
   "source": [
    "## -----------------------------------------------------------\n",
    "#               Split into test and training data\n",
    "## -----------------------------------------------------------\n",
    "#randomly split data in train and test subsets\n",
    "x_feature, val_feature, x_label, val_label = train_test_split(df['images'], df['label'], test_size=0.2, shuffle=False)\n",
    "\n",
    "# train, test = train_test_split(df, test_size=0.2, shuffle=False)\n",
    "\n",
    "\n",
    "\n",
    "# shuffle data\n",
    "x_feature, x_label = utils.shuffle(x_feature, x_label)\n",
    "val_feature, val_label = utils.shuffle(val_feature, val_label)\n",
    "\n",
    "print(\"pause\")\n",
    "# convert y-col to str for binary class_mode\n",
    "# train['label'] = train['label'].astype('str')\n",
    "# test['label']  = test['label'].astype('str')"
   ]
  },
  {
   "cell_type": "code",
   "execution_count": 20,
   "metadata": {},
   "outputs": [
    {
     "name": "stdout",
     "output_type": "stream",
     "text": [
      "pause\n"
     ]
    }
   ],
   "source": [
    "## ------------------------------------------\n",
    "#       Convert images to raw pixels\n",
    "## ------------------------------------------\n",
    "train_array = []\n",
    "val_array = []\n",
    "\n",
    "for img_path in x_feature:\n",
    "    openImg = PIL.Image.open(img_path)\n",
    "    image = openImg.convert(\"P\") # covert to grayscale\n",
    "    imgArray = np.array(image)\n",
    "    imgArray = np.expand_dims(imgArray, axis=2)\n",
    "\n",
    "    # store in array\n",
    "    train_array.append(imgArray)\n",
    "\n",
    "for img_path in val_feature:\n",
    "    openImg = PIL.Image.open(img_path)\n",
    "    image = openImg.convert(\"L\") # covert to grayscale\n",
    "    imgArray = np.array(image)\n",
    "    imgArray = np.expand_dims(imgArray, axis=2)\n",
    "\n",
    "    # store in array\n",
    "    val_array.append(imgArray)\n",
    "\n",
    "\n",
    "print(\"pause\")\n"
   ]
  },
  {
   "cell_type": "code",
   "execution_count": 21,
   "metadata": {},
   "outputs": [
    {
     "name": "stdout",
     "output_type": "stream",
     "text": [
      "pause\n",
      "pause\n"
     ]
    }
   ],
   "source": [
    "## -------------------------------------------------------------------\n",
    "#       Artificially create more images for a bigger dataset\n",
    "## -------------------------------------------------------------------\n",
    "# normalize the data\n",
    "train_gen = ImageDataGenerator(\n",
    "    #rescale=1./255,\n",
    "    rotation_range=360,\n",
    "    fill_mode='nearest',\n",
    "    brightness_range=[.4,1.4],\n",
    "    vertical_flip = True,\n",
    "    horizontal_flip = True\n",
    ")\n",
    "\n",
    "test_gen = ImageDataGenerator(\n",
    "    #rescale=1./255,\n",
    "    rotation_range=360,\n",
    "    fill_mode='nearest',\n",
    "    brightness_range=[.4,1.4],\n",
    "    vertical_flip = True,\n",
    "    horizontal_flip = True\n",
    ")\n",
    "\n",
    "## add more training images\n",
    "trainAug = []\n",
    "trainAugLabel = []\n",
    "\n",
    "for (i,v) in enumerate(x_label):\n",
    "    #print(\"i: \", i)\n",
    "    #print(\"v: \", v)\n",
    "    tempImg = np.expand_dims(train_array[i], axis=0)\n",
    "    aug = train_gen.flow(tempImg, batch_size=1, shuffle=True)\n",
    "    for addImages in range(50):\n",
    "        augImg = next(aug)[0].astype('uint8')\n",
    "        if np.size(augImg) == 256**2:\n",
    "            trainAug.append(augImg)\n",
    "            trainAugLabel.append(v)\n",
    "\n",
    "## add more validation images\n",
    "testAug = []\n",
    "testAugLabel = []\n",
    "\n",
    "for (i,v) in enumerate(val_label):\n",
    "    #print(\"i: \", i)\n",
    "    #print(\"v: \", v)\n",
    "    tempImg = np.expand_dims(val_array[i], axis=0)\n",
    "    aug = test_gen.flow(tempImg, batch_size=1)\n",
    "    for addImages in range(50):\n",
    "        augImg = next(aug)[0].astype('uint8')\n",
    "        if np.size(augImg) == 256**2:\n",
    "            testAug.append(augImg)\n",
    "            testAugLabel.append(v)\n",
    "\n",
    "print(\"pause\")\n",
    "\n",
    "# convert everything to numpy arrays (CNN does not like lists)\n",
    "# trainAug = np.array(trainAug)\n",
    "# testAug = np.array(testAug)\n",
    "\n",
    "#trainAug = train_array + trainAug\n",
    "#testAug = val_array + testAug\n",
    "\n",
    "trainAugLabel = tf.keras.utils.to_categorical(np.array(trainAugLabel))\n",
    "testAugLabel = tf.keras.utils.to_categorical(np.array(testAugLabel))\n",
    "\n",
    "\n",
    "print(\"pause\")\n",
    "\n",
    "# shuffle data\n",
    "trainAug, trainAugLabel = utils.shuffle(trainAug, trainAugLabel)\n",
    "testAug, testAugLabel = utils.shuffle(testAug, testAugLabel)\n",
    "\n"
   ]
  },
  {
   "cell_type": "code",
   "execution_count": 12,
   "metadata": {},
   "outputs": [
    {
     "data": {
      "image/png": "[encoded data removed]",
      "text/plain": [
       "<Figure size 432x288 with 1 Axes>"
      ]
     },
     "metadata": {
      "needs_background": "light"
     },
     "output_type": "display_data"
    },
    {
     "data": {
      "image/png": "[encoded data removed]",
      "text/plain": [
       "<Figure size 432x288 with 1 Axes>"
      ]
     },
     "metadata": {
      "needs_background": "light"
     },
     "output_type": "display_data"
    },
    {
     "name": "stdout",
     "output_type": "stream",
     "text": [
      "0.27\n"
     ]
    }
   ],
   "source": [
    "sns.countplot(trainAugLabel)\n",
    "plt.show()\n",
    "sns.countplot(testAugLabel)\n",
    "plt.show()\n",
    "\n",
    "print(np.round(len(testAug)/len(trainAug),2))"
   ]
  },
  {
   "cell_type": "code",
   "execution_count": null,
   "metadata": {},
   "outputs": [],
   "source": [
    "# This function will plot images in the form of a grid with 1 row and 5 columns where images are placed in each column.\n",
    "def plotImages(images_arr):\n",
    "    \n",
    "    fig, axes = plt.subplots(1, 5, figsize=(20,20))\n",
    "    axes = axes.flatten()\n",
    "    for img, ax in zip(images_arr, axes):\n",
    "        #newImg=tf.image.rgb_to_hsv(img)\n",
    "        ax.imshow(img, cmap=\"gray\")       # applies a colormap by default      \n",
    "        \n",
    "    plt.tight_layout()\n",
    "    plt.show()"
   ]
  },
  {
   "cell_type": "code",
   "execution_count": null,
   "metadata": {},
   "outputs": [],
   "source": [
    "augmented_images = [testAug[0][0][i] for i in range(5)]\n",
    "plotImages(augmented_images)"
   ]
  },
  {
   "cell_type": "code",
   "execution_count": 15,
   "metadata": {},
   "outputs": [],
   "source": [
    "# plot images\n",
    "imfile = Image.fromarray(np.squeeze(testAug[2]))\n",
    "imfile.show(imfile)     "
   ]
  },
  {
   "cell_type": "code",
   "execution_count": null,
   "metadata": {},
   "outputs": [],
   "source": [
    "## -----------------------------------------------------------\n",
    "#                       Build the Model\n",
    "## -----------------------------------------------------------\n",
    "\n",
    "model = Sequential([\n",
    "    Conv2D(16, (3,3), activation='relu', input_shape=(256,256,1)),\n",
    "    MaxPool2D((2,2)),\n",
    "    Conv2D(32, (3,3), activation='relu'),\n",
    "    MaxPool2D((2,2)),\n",
    "    Conv2D(32, (3,3), activation='relu'),\n",
    "    MaxPool2D((2,2)),\n",
    "    Dropout(0.1),\n",
    "    Flatten(),\n",
    "    Dense(512, activation='relu'),\n",
    "    Dense(1,activation='sigmoid')\n",
    "])\n",
    "\n",
    "'''\n",
    "model = Sequential([\n",
    "    Conv2D(16, (3,3), activation='relu', input_shape=(128,128,3)),\n",
    "    MaxPool2D((2,2)),\n",
    "    Dropout(0.25),\n",
    "    Conv2D(32, (3,3), activation='relu'),\n",
    "    MaxPool2D((2,2)),\n",
    "    Dropout(0.4),\n",
    "    Conv2D(64, (3,3), activation='relu'),\n",
    "    MaxPool2D((2,2)),\n",
    "    Dropout(0.4),\n",
    "    Conv2D(64, (3,3), activation='relu'),\n",
    "    MaxPool2D((2,2)),\n",
    "    Dropout(0.4),\n",
    "    Conv2D(64, (3,3), activation='relu'),\n",
    "    MaxPool2D((2,2)),\n",
    "    Dropout(0.4),\n",
    "    Flatten(),\n",
    "    Dense(512, activation='relu'),\n",
    "    Dropout(0.3),\n",
    "    Dense(1,activation='sigmoid')\n",
    "])\n",
    "\n",
    "\n",
    "model = Sequential([\n",
    "    Conv2D(32, (3,3), activation='relu', input_shape=(128,128,1)),\n",
    "    MaxPool2D((2,2)),\n",
    "    Dropout(0.25),\n",
    "    Conv2D(64, (3,3), activation='relu'),\n",
    "    MaxPool2D((2,2)),\n",
    "    Dropout(0.4),\n",
    "    Flatten(),\n",
    "    Dense(512, activation='relu'),\n",
    "    Dropout(0.3),\n",
    "    Dense(1,activation='sigmoid')\n",
    "])\n",
    "'''\n",
    "\n",
    "model.compile(optimizer='adam', loss='categorical_crossentropy', metrics=['accuracy'])\n",
    "model.summary()\n",
    "\n",
    "## Train the model\n",
    "trained_model = model.fit(np.array(trainAug), trainAugLabel, epochs=50, validation_data=(np.array(testAug), testAugLabel))"
   ]
  },
  {
   "cell_type": "code",
   "execution_count": 22,
   "metadata": {},
   "outputs": [
    {
     "name": "stdout",
     "output_type": "stream",
     "text": [
      "Model: \"sequential_2\"\n",
      "_________________________________________________________________\n",
      " Layer (type)                Output Shape              Param #   \n",
      "=================================================================\n",
      " conv2d_8 (Conv2D)           (None, 256, 256, 128)     3328      \n",
      "                                                                 \n",
      " max_pooling2d_8 (MaxPooling  (None, 83, 83, 128)      0         \n",
      " 2D)                                                             \n",
      "                                                                 \n",
      " conv2d_9 (Conv2D)           (None, 83, 83, 64)        204864    \n",
      "                                                                 \n",
      " max_pooling2d_9 (MaxPooling  (None, 26, 26, 64)       0         \n",
      " 2D)                                                             \n",
      "                                                                 \n",
      " conv2d_10 (Conv2D)          (None, 26, 26, 32)        18464     \n",
      "                                                                 \n",
      " max_pooling2d_10 (MaxPoolin  (None, 11, 11, 32)       0         \n",
      " g2D)                                                            \n",
      "                                                                 \n",
      " conv2d_11 (Conv2D)          (None, 11, 11, 32)        9248      \n",
      "                                                                 \n",
      " max_pooling2d_11 (MaxPoolin  (None, 5, 5, 32)         0         \n",
      " g2D)                                                            \n",
      "                                                                 \n",
      " flatten_2 (Flatten)         (None, 800)               0         \n",
      "                                                                 \n",
      " dropout_4 (Dropout)         (None, 800)               0         \n",
      "                                                                 \n",
      " dense_4 (Dense)             (None, 64)                51264     \n",
      "                                                                 \n",
      " dropout_5 (Dropout)         (None, 64)                0         \n",
      "                                                                 \n",
      " dense_5 (Dense)             (None, 2)                 130       \n",
      "                                                                 \n",
      "=================================================================\n",
      "Total params: 287,298\n",
      "Trainable params: 287,298\n",
      "Non-trainable params: 0\n",
      "_________________________________________________________________\n",
      "Epoch 1/50\n",
      "  1/122 [..............................] - ETA: 38:00 - loss: 21.1200 - accuracy: 0.5000"
     ]
    }
   ],
   "source": [
    "reg = tf.keras.regularizers.l2(0.001)\n",
    "opt = tf.keras.optimizers.Adam(learning_rate=3.15e-5)\n",
    "\n",
    "model = Sequential([\n",
    "    Conv2D(128, (5,5), padding='same', strides=(1,1), activation='relu', kernel_initializer='glorot_uniform', kernel_regularizer=reg, input_shape=(256,256,1)),\n",
    "    MaxPool2D((9,9), strides=(3,3)),\n",
    "    Conv2D(64, (5,5), padding='same', strides=(1,1), activation='relu', kernel_initializer='glorot_uniform', kernel_regularizer=reg),\n",
    "    MaxPool2D((7,7), strides=(3,3)),\n",
    "    Conv2D(32, (3,3), padding='same', strides=(1,1), activation='relu',kernel_initializer ='glorot_uniform', kernel_regularizer=reg),\n",
    "    MaxPool2D((5,5), strides=(2,2)),\n",
    "    Conv2D(32, (3,3), padding='same', strides=(1,1), activation='relu', kernel_initializer='glorot_uniform', kernel_regularizer=reg),\n",
    "    MaxPool2D((3,3), strides=(2,2)),\n",
    "    Flatten(),\n",
    "    Dropout(0.5),\n",
    "    Dense(64, activation='relu', kernel_initializer='glorot_uniform'),\n",
    "    Dropout(0.5),\n",
    "    Dense(2,activation='softmax', kernel_initializer='glorot_uniform')\n",
    "])\n",
    "\n",
    "model.compile(optimizer=opt, loss='categorical_crossentropy', metrics=['accuracy'])\n",
    "model.summary()\n",
    "\n",
    "## Train the model\n",
    "trained_model = model.fit(np.array(trainAug), trainAugLabel, epochs=50, validation_data=(np.array(testAug), testAugLabel))"
   ]
  },
  {
   "cell_type": "code",
   "execution_count": null,
   "metadata": {},
   "outputs": [],
   "source": [
    "## -----------------------------------------------------------\n",
    "#                       Plot the Results\n",
    "## -----------------------------------------------------------\n",
    "# Accuracy and Validation Accuracy\n",
    "accuracy = trained_model.history['accuracy']\n",
    "val_acc = trained_model.history['val_accuracy']\n",
    "epochs = range(len(accuracy))\n",
    "\n",
    "plt.plot(epochs, accuracy, 'b', label='Training Accuracy')\n",
    "plt.plot(epochs, val_acc, 'r', label='Validation Accuracy')\n",
    "plt.title('Accuracy Graph')\n",
    "plt.legend()\n",
    "plt.grid()\n",
    "plt.figure()\n",
    "\n",
    "# Loss and Validation Loss\n",
    "loss = trained_model.history['loss']\n",
    "val_loss = trained_model.history['val_loss']\n",
    "\n",
    "plt.plot(epochs, loss, 'b', label='Training Loss')\n",
    "plt.plot(epochs, val_loss, 'r', label='Validation Loss')\n",
    "plt.title('Loss Graph')\n",
    "plt.legend()\n",
    "plt.grid()\n",
    "plt.show()"
   ]
  },
  {
   "cell_type": "markdown",
   "metadata": {},
   "source": [
    "## Model #2 "
   ]
  },
  {
   "cell_type": "code",
   "execution_count": null,
   "metadata": {},
   "outputs": [],
   "source": []
  }
 ],
 "metadata": {
  "interpreter": {
   "hash": "be06593c2f7c6c659d27d21530649fc496370ea6abbb7431f6c1d3f2c07b5e69"
  },
  "kernelspec": {
   "display_name": "Python 3.9.7 ('MLenv')",
   "language": "python",
   "name": "python3"
  },
  "language_info": {
   "codemirror_mode": {
    "name": "ipython",
    "version": 3
   },
   "file_extension": ".py",
   "mimetype": "text/x-python",
   "name": "python",
   "nbconvert_exporter": "python",
   "pygments_lexer": "ipython3",
   "version": "3.9.7"
  },
  "orig_nbformat": 4
 },
 "nbformat": 4,
 "nbformat_minor": 2
}
