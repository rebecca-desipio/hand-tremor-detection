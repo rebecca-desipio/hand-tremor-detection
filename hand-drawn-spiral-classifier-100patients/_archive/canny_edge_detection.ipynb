{
 "cells": [
  {
   "cell_type": "markdown",
   "metadata": {},
   "source": [
    "---------------------------------------------\n",
    "# <center>**Canny Edge Detection**<center>\n",
    "---------------------------------------------"
   ]
  },
  {
   "cell_type": "markdown",
   "metadata": {},
   "source": [
    "## Step 1: Grayscale Conversion\n",
    "\n",
    "Import the image and convert to grayscale"
   ]
  },
  {
   "cell_type": "code",
   "execution_count": 1,
   "metadata": {},
   "outputs": [],
   "source": [
    "import PIL\n",
    "from PIL import Image\n",
    "\n",
    "import numpy as np\n",
    "import cv2\n",
    "\n",
    "from scipy.ndimage.filters import convolve\n",
    "from scipy import ndimage\n",
    "\n",
    "import matplotlib.pyplot as plt"
   ]
  },
  {
   "cell_type": "code",
   "execution_count": 5,
   "metadata": {},
   "outputs": [],
   "source": [
    "# import the image\n",
    "imgPath = 'C:/Users/Rebecca/Documents/Virginia_Tech/SP22/Research/git-repos/hand-tremor-detection/hand-drawn-spiral-classifier-100patients/Spiral_DataSet1_relabelled/healthy/V01HE01.png'\n",
    "img = PIL.Image.open(imgPath) # image shape is 256x256x3\n",
    "\n",
    "# convert image to grayscale and resize to 128x128x1\n",
    "img = img.convert(\"L\") # convery to grayscale\n",
    "img = np.array(img) / 255  # covert to pixel intensities matrix\n",
    "img = cv2.resize(img, (128,128))  # resize to 128x128\n",
    "# img = np.expand_dims(img, axis=2) # keep as grayscale by adding axis so shape is 128x128x1"
   ]
  },
  {
   "cell_type": "markdown",
   "metadata": {},
   "source": [
    "## Step 2: Noise Reduction: Apply Gaussian Blur\n",
    "\n",
    "Noise reduction helps to smooth over the image. It uses image convolution with a Gaussian Kernal of some arbitrary size (2k+1)x(2k+1).\n",
    "\n",
    "As the kernal size increase, the more blur there is to the resulting image. Equation for a Guassian Filter Kernal is as follows:\n",
    "\n",
    "$$\n",
    "H_{ij} = \\frac{1}{2 \\pi \\sigma^2} \\exp(- \\frac{(i - (k+1))^2 + (j-(k+1))^2}{2 \\sigma^2}) ; 1 \\leq i,j \\leq (2k+1)\n",
    "$$"
   ]
  },
  {
   "cell_type": "code",
   "execution_count": 6,
   "metadata": {},
   "outputs": [],
   "source": [
    "# define a function to compute noise reduction\n",
    "# function takes two inputs: k and value for sigma\n",
    "# k is the value in the user-chosen (2k+1)x(2k+1) dimension\n",
    "def gaussKernel(k, sigma=1):\n",
    "    size = int(k) \n",
    "    x,y = np.mgrid[-size:size+1, -size:size+1]\n",
    "    normal = 1 / (2 * np.pi * sigma**2)\n",
    "    H = normal * np.exp(-((x**2 + y**2) / (2 * sigma**2)))\n",
    "    return H # return the gaussian kernal\n"
   ]
  },
  {
   "cell_type": "markdown",
   "metadata": {},
   "source": [
    "## Step 3: Gradient Calculation\n",
    "In this step, we detect the edge intensity and direction by calculating the gradient of the image. An edge is defined as any change between pixel intesities. We apply filters that highlight the intensity change in both the x (horizontal) and y (vertical) directions. \n",
    "\n",
    "Using the smoothed image (obtained from the the gaussian kernel convolution), the derivatives $\\bf{Ix}$ and $\\bf{Iy}$ can be calculated with respect to $\\bf{x}$ and $\\bf{y}$\n",
    "\n",
    "Convole $\\bf{I}$ with *Sorbel Kernals* $\\bf{Kx}$ and $\\bf{Ky}$:\n",
    "\n",
    "$$\n",
    "\\bf{Ix} = \\bf{Kx} * \\bf{I} = \n",
    "\\begin{bmatrix}\n",
    "-1 & 0 & 1 \\\\\n",
    "-2 & 0 & 2 \\\\\n",
    "-1 & 0 & 1\n",
    "\\end{bmatrix}\n",
    "* \\bf{I}\n",
    "\n",
    "\\; \\; , \\; \\;\n",
    "\n",
    "\\bf{Iy} = \\bf{Ky} * \\bf{I} =\n",
    "\\begin{bmatrix}\n",
    "1 & 2 & 1 \\\\\n",
    "0 & 0 & 0 \\\\\n",
    "-1 & -2 & -1\n",
    "\\end{bmatrix}\n",
    "* \\bf{I}\n",
    "$$\n",
    "\n",
    "Then calculate the gradient magnitude ($\\bf{G}$) and slope ($\\bf{\\theta}$):\n",
    "\n",
    "$$|\\bf{G}| = \\sqrt{\\bf{Ix}^2 + \\bf{Iy}^2}$$\n",
    "$$\\theta = \\arctan{\\bf{Iy} / \\bf{Ix}}$$"
   ]
  },
  {
   "cell_type": "code",
   "execution_count": 7,
   "metadata": {},
   "outputs": [],
   "source": [
    "# define a function to calculate the gradient \n",
    "# takes the smoothed image array as input\n",
    "\n",
    "def gradCalc(img):\n",
    "    # define sorbel kernels Kx and Ky\n",
    "    Kx = np.array([[-1, 0, 1],[-2, 0, 2],[-1, 0, 1]], np.float32)\n",
    "    Ky = np.array([[1, 2, 1],[0, 0, 0],[-1, -2, -1]], np.float32)\n",
    "\n",
    "    # compute Ix and Iy by convolving the original image with Kx and Ky \n",
    "    Ix = ndimage.filters.convolve(img, Kx)\n",
    "    Iy = ndimage.filters.convolve(img, Ky)\n",
    "\n",
    "    # compute the magnitude G, and slope theta\n",
    "    G = np.hypot(Ix, Iy)\n",
    "    G = G / G.max() * 255\n",
    "    theta = np.arctan2(Iy, Ix)\n",
    "\n",
    "    return G, theta\n"
   ]
  },
  {
   "cell_type": "markdown",
   "metadata": {},
   "source": [
    "## Step 4: Non-Maximum Suppression\n",
    "\n",
    "Use non-maximum suppression (NMS) to thin out the edges. This algorithm goes through all points in the intensity matrix and finds the pixels with the maximum value in the edge direction.\n",
    "\n",
    "NMS process: \n",
    " - Create a zeros matrix of the same size as the original gradient intensity matrix\n",
    " - Identify the edge direction based on the angle value from the angle matrix\n",
    " - Check if the pixel in the same direction has a higher intensity than the pixel currently being processed\n",
    " - Return the image processed with the NMS algorithm"
   ]
  },
  {
   "cell_type": "code",
   "execution_count": 8,
   "metadata": {},
   "outputs": [],
   "source": [
    "# define a function to perform NMS\n",
    "# takes inputs: gradient intensity matrix, and theta matrix (outputs of gradCalc)\n",
    "\n",
    "def NMS(gradIntensityMat, thetaMat):\n",
    "    M, N = gradIntensityMat.shape\n",
    "    Z = np.zeros((M,N), dtype=np.int32) # define zeros matrix\n",
    "    angle = thetaMat * 180. / np.pi     # convert to degrees\n",
    "    angle[angle < 0] += 180             # make all angles positive\n",
    "\n",
    "    for i in range(1, M-1):\n",
    "        for j in range(1, N-1):\n",
    "            try:\n",
    "                q = 255\n",
    "                r = 255\n",
    "\n",
    "                # angle 0\n",
    "                if (0 <= angle[i,j] < 22.5) | (157.5 <= angle[i,j] <= 180):\n",
    "                    q = gradIntensityMat[i, j+1]\n",
    "                    r = gradIntensityMat[i, j-1]\n",
    "\n",
    "                # angle 45\n",
    "                elif (22.5 <= angle[i,j] < 67.5):\n",
    "                    q = gradIntensityMat[i+1, j-1]\n",
    "                    r = gradIntensityMat[i-1, j+1]\n",
    "\n",
    "                # angle 90\n",
    "                elif (67.5 <= angle[i,j] < 112.5):\n",
    "                    q = gradIntensityMat[i+1, j]\n",
    "                    r = gradIntensityMat[i-1, j]\n",
    "\n",
    "                # angle 135\n",
    "                elif (112.5 <= angle[i,j] < 157.5):\n",
    "                    q = gradIntensityMat[i-1, j-1]\n",
    "                    r = gradIntensityMat[i+1, j+1]\n",
    "\n",
    "                if (gradIntensityMat[i,j] >= q) & (gradIntensityMat[i,j] >= r):\n",
    "                    Z[i,j] = gradIntensityMat[i,j]\n",
    "                else:\n",
    "                    Z[i,j] = 0\n",
    "\n",
    "            except IndexError as e:\n",
    "                pass\n",
    "\n",
    "    return Z"
   ]
  },
  {
   "cell_type": "markdown",
   "metadata": {},
   "source": [
    "## Step 5: Perform Double Thresholding\n",
    "\n",
    "Identify strong, weak, and non-relevant pixels. \n",
    "\n",
    "- High threshold: identify strong pixels (intensity higher than high threshold)\n",
    "- Low threshold: identify non-relevant pixels (intensity lower and low threshold)\n",
    "\n",
    "Anything inbetween is considered a weak pixel."
   ]
  },
  {
   "cell_type": "code",
   "execution_count": 9,
   "metadata": {},
   "outputs": [],
   "source": [
    "# define a function to perform double thresholding\n",
    "# takes as input the image returned from the NMS algorithm\n",
    "\n",
    "def doubleThresholding(NMSimg, lowThresholdRatio, highThresholdRatio, weakVal, strongVal):\n",
    "    highThresh = NMSimg.max() * highThresholdRatio\n",
    "    lowThresh  = highThresh * lowThresholdRatio\n",
    "\n",
    "    M,N = NMSimg.shape\n",
    "    res = np.zeros((M,N), dtype=np.int32)\n",
    "\n",
    "    weak = np.int32(weakVal)\n",
    "    strong = np.int32(strongVal)\n",
    "\n",
    "    strong_i, strong_j = np.where(NMSimg >= highThresh)\n",
    "    zeros_i, zeros_j = np.where(NMSimg < lowThresh)\n",
    "    weak_i, weak_j = np.where((NMSimg <= highThresh) & (NMSimg >= lowThresh))\n",
    "\n",
    "    res[strong_i, strong_j] = strong\n",
    "    res[weak_i, weak_j] = weak\n",
    "\n",
    "    return res"
   ]
  },
  {
   "cell_type": "markdown",
   "metadata": {},
   "source": [
    "## Step 6: Edge Tracking by Hysteresis\n",
    "\n",
    "Transform weak pixels into strong ones *iff* at least one of the pixels around the one being processed is a strong one"
   ]
  },
  {
   "cell_type": "code",
   "execution_count": 10,
   "metadata": {},
   "outputs": [],
   "source": [
    "# define a function to perform edge tracking\n",
    "\n",
    "def edgeTracking(threshImg, weakVal, strongVal):\n",
    "    M,N = threshImg.shape\n",
    "    weak = np.int32(weakVal)\n",
    "    strong = np.int32(strongVal)\n",
    "\n",
    "    for i in range(1,M-1):\n",
    "        for j in range(1,N-1):\n",
    "            if threshImg[i,j] == weak:\n",
    "                try:\n",
    "                    if ((threshImg[i+1, j-1] == strong) | (threshImg[i+1,j] == strong) | (threshImg[i+1, j+1] == strong) or \\\n",
    "                        (threshImg[i, j-1]   == strong) | (threshImg[i, j+1]   == strong) or \\\n",
    "                        (threshImg[i-1, j-1] == strong) | (threshImg[i-1,j] == strong) | (threshImg[i-1, j+1] == strong)):\n",
    "                        threshImg[i,j] = strong\n",
    "                    else:\n",
    "                        threshImg[i,j]=0\n",
    "                except IndexError as e:\n",
    "                    pass\n",
    "\n",
    "    return threshImg\n"
   ]
  },
  {
   "cell_type": "markdown",
   "metadata": {},
   "source": [
    "## <center>Combine all steps to perform Edge Detection<center> "
   ]
  },
  {
   "cell_type": "code",
   "execution_count": 22,
   "metadata": {},
   "outputs": [],
   "source": [
    "# smooth out the image by convoling the original image with a guassian kernel\n",
    "smoothedImg = convolve(img, gaussKernel(1, sigma=1)) # using a size 5x5 kernal with k=2\n",
    "\n",
    "# perform the gradient calculation\n",
    "gradMag, gradTheta = gradCalc(smoothedImg)\n",
    "\n",
    "# perform non-maximum suppression\n",
    "NMSimg = NMS(gradMag, gradTheta)\n",
    "\n",
    "# perform double thresholding on the NMS image\n",
    "thresthImg = doubleThresholding(NMSimg, lowThresholdRatio=0.1, highThresholdRatio=0.2, weakVal=100, strongVal=255)\n",
    "\n",
    "# finally, compute the edge detection by hysteresis\n",
    "finalImg = edgeTracking(thresthImg, weakVal=100, strongVal=255)"
   ]
  },
  {
   "cell_type": "code",
   "execution_count": 24,
   "metadata": {},
   "outputs": [
    {
     "data": {
      "text/plain": [
       "(-0.5, 127.5, 127.5, -0.5)"
      ]
     },
     "execution_count": 24,
     "metadata": {},
     "output_type": "execute_result"
    },
    {
     "data": {
      "image/png": "[encoded data removed]",
      "text/plain": [
       "<Figure size 720x720 with 1 Axes>"
      ]
     },
     "metadata": {
      "needs_background": "light"
     },
     "output_type": "display_data"
    }
   ],
   "source": [
    "fig, ax = plt.subplots(figsize=(10,10))\n",
    "ax.matshow(finalImg, cmap='gray')\n",
    "ax.axis('off')\n",
    "# plt.savefig('edgeSpiral', pad_inches=0, bbox_inches='tight')"
   ]
  },
  {
   "cell_type": "code",
   "execution_count": null,
   "metadata": {},
   "outputs": [],
   "source": []
  },
  {
   "cell_type": "code",
   "execution_count": null,
   "metadata": {},
   "outputs": [],
   "source": []
  }
 ],
 "metadata": {
  "kernelspec": {
   "display_name": "Python 3.9.7 ('MLEnv')",
   "language": "python",
   "name": "python3"
  },
  "language_info": {
   "codemirror_mode": {
    "name": "ipython",
    "version": 3
   },
   "file_extension": ".py",
   "mimetype": "text/x-python",
   "name": "python",
   "nbconvert_exporter": "python",
   "pygments_lexer": "ipython3",
   "version": "3.9.7"
  },
  "orig_nbformat": 4,
  "vscode": {
   "interpreter": {
    "hash": "e234cb3a6d44168381e6f6673d50d0e52fa65a6fba8cecddf6f45db9097571d7"
   }
  }
 },
 "nbformat": 4,
 "nbformat_minor": 2
}
