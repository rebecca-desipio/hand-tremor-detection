{
 "cells": [
  {
   "cell_type": "markdown",
   "metadata": {},
   "source": [
    "# Image Classification using Keras and sklearn"
   ]
  },
  {
   "cell_type": "code",
   "execution_count": 1,
   "metadata": {},
   "outputs": [],
   "source": [
    "# import libraries\n",
    "import pandas as pd\n",
    "import numpy as np\n",
    "import matplotlib.pyplot as plt\n",
    "import math\n",
    "import seaborn as sns # statistical data visualization, used to plot total count for each label\n",
    "import random # used to split trainig and testing data\n",
    "import warnings\n",
    "import os # used to iterate through all the images in the specified directory\n",
    "import cv2\n",
    "\n",
    "# libraries used for loading images and visualization\n",
    "from keras.preprocessing.image import load_img\n",
    "warnings.filterwarnings('ignore')\n",
    "\n",
    "# libraries to split the data into training and testing data\n",
    "from sklearn.model_selection import train_test_split\n",
    "from keras.preprocessing.image import ImageDataGenerator\n",
    "from sklearn import utils\n",
    "\n",
    "import PIL\n",
    "from PIL import Image\n",
    "\n",
    "# libraries to build the model\n",
    "from keras import Sequential\n",
    "from keras.layers import Conv2D, MaxPool2D, Flatten, Dense, Dropout, Input\n",
    "\n",
    "# import tensorflow\n",
    "import tensorflow as tf\n",
    "from tensorflow.keras.optimizers import Adam\n"
   ]
  },
  {
   "cell_type": "code",
   "execution_count": 2,
   "metadata": {},
   "outputs": [
    {
     "name": "stdout",
     "output_type": "stream",
     "text": [
      "Spiral_DataSet1_relabelled\\healthy\\V01HE02.png 0\n",
      "total number of labels:  102\n",
      "total number of images:  102\n",
      "                                               images  label\n",
      "47     Spiral_DataSet1_relabelled\\healthy\\V09HE03.png      0\n",
      "54  Spiral_DataSet1_relabelled\\parkinsons\\V09PE02.png      1\n",
      "94  Spiral_DataSet1_relabelled\\parkinsons\\V11PE01.png      1\n",
      "95      Spiral_DataSet1_relabelled\\healthy\\V03HE2.png      0\n",
      "14     Spiral_DataSet1_relabelled\\healthy\\V08HE02.png      0\n",
      "..                                                ...    ...\n",
      "24     Spiral_DataSet1_relabelled\\healthy\\V05HE01.png      0\n",
      "70  Spiral_DataSet1_relabelled\\parkinsons\\V11PE02.png      1\n",
      "38  Spiral_DataSet1_relabelled\\parkinsons\\V10PE03.png      1\n",
      "3   Spiral_DataSet1_relabelled\\parkinsons\\V07PE01.png      1\n",
      "20     Spiral_DataSet1_relabelled\\healthy\\V11HE02.png      0\n",
      "\n",
      "[102 rows x 2 columns]\n"
     ]
    },
    {
     "data": {
      "image/png": "[encoded data removed]",
      "text/plain": [
       "<Figure size 432x288 with 1 Axes>"
      ]
     },
     "metadata": {
      "needs_background": "light"
     },
     "output_type": "display_data"
    }
   ],
   "source": [
    "## --------------------------------------------------------\n",
    "#                  Create the Dataframe\n",
    "## --------------------------------------------------------\n",
    "img_path = [] # store image paths for all images (all images are size 256x256)\n",
    "label = [] # healthy (0) vs parkinsons (1)\n",
    "dataset_folder = 'Spiral_DataSet1_relabelled'\n",
    "\n",
    "# iterate through all of the images to create a binary array corresponding to the image labels\n",
    "for labeled_folder in os.listdir(dataset_folder):\n",
    "    for img in os.listdir(dataset_folder + \"/\" + labeled_folder):\n",
    "        if labeled_folder == 'healthy':\n",
    "            label.append(0)\n",
    "        else:\n",
    "            label.append(1)\n",
    "        img_path.append(os.path.join(dataset_folder, labeled_folder, img))\n",
    "\n",
    "# total number of images and labels should match\n",
    "print(img_path[1], label[1])\n",
    "print(\"total number of labels: \", len(label))\n",
    "print(\"total number of images: \", len(img_path))\n",
    "\n",
    "# now create the dataframe\n",
    "df = pd.DataFrame()\n",
    "df['images'] = img_path\n",
    "df['label']  = label\n",
    "\n",
    "\n",
    "df = df.sample(frac=1).reset_index(drop=True) # randomize the images, rather than having them be in order\n",
    "df = utils.shuffle(df)\n",
    "\n",
    "print(df)\n",
    "\n",
    "# show the total count for each of the labels\n",
    "sns.countplot(df['label'])\n",
    "plt.show()"
   ]
  },
  {
   "cell_type": "code",
   "execution_count": 32,
   "metadata": {},
   "outputs": [
    {
     "name": "stdout",
     "output_type": "stream",
     "text": [
      "# validation samples:  16\n",
      "# testing samples:  16\n",
      "# training samples:  70\n",
      "pause\n"
     ]
    }
   ],
   "source": [
    "## -----------------------------------------------------------\n",
    "#               Split into test and training data\n",
    "## -----------------------------------------------------------\n",
    "#randomly split data in train and test subsets\n",
    "x_feature, val_feature, x_label, val_label = train_test_split(df['images'], df['label'], test_size=0.31, stratify=df['label'])\n",
    "\n",
    "# shuffle data\n",
    "#x_feature, x_label = utils.shuffle(x_feature, x_label)\n",
    "val_feature, val_label = utils.shuffle(val_feature, val_label)\n",
    "\n",
    "## (OPTIONAL) split val and test data\n",
    "val_feature, test_feature, val_label, test_label = train_test_split(val_feature, val_label, test_size=0.5, shuffle=False)\n",
    "\n",
    "print(\"# validation samples: \", len(val_label))\n",
    "print(\"# testing samples: \", len(test_label))\n",
    "print('# training samples: ', len(x_label))\n",
    "\n",
    "print(\"pause\")\n",
    "# convert y-col to str for binary class_mode\n",
    "# train['label'] = train['label'].astype('str')\n",
    "# test['label']  = test['label'].astype('str')"
   ]
  },
  {
   "cell_type": "code",
   "execution_count": 33,
   "metadata": {},
   "outputs": [
    {
     "name": "stdout",
     "output_type": "stream",
     "text": [
      "76    0\n",
      "30    0\n",
      "97    1\n",
      "21    1\n",
      "15    1\n",
      "64    1\n",
      "22    0\n",
      "72    0\n",
      "9     0\n",
      "41    0\n",
      "14    0\n",
      "93    1\n",
      "69    1\n",
      "86    1\n",
      "60    1\n",
      "57    0\n",
      "Name: label, dtype: int64\n"
     ]
    }
   ],
   "source": [
    "print(val_label)"
   ]
  },
  {
   "cell_type": "code",
   "execution_count": 34,
   "metadata": {},
   "outputs": [
    {
     "name": "stdout",
     "output_type": "stream",
     "text": [
      "pause\n"
     ]
    }
   ],
   "source": [
    "## ------------------------------------------\n",
    "#       Convert images to raw pixels\n",
    "## ------------------------------------------\n",
    "train_array = []\n",
    "val_array = []\n",
    "\n",
    "for img_path in x_feature:\n",
    "    openImg = PIL.Image.open(img_path)\n",
    "    image = openImg.convert(\"P\") # covert to grayscale\n",
    "    imgArray = np.array(image)\n",
    "    imgArray = cv2.resize(imgArray, (128,128))\n",
    "    imgArray = np.expand_dims(imgArray, axis=2)\n",
    "\n",
    "    # store in array\n",
    "    train_array.append(imgArray)\n",
    "\n",
    "for img_path in val_feature:\n",
    "    openImg = PIL.Image.open(img_path)\n",
    "    image = openImg.convert(\"L\") # covert to grayscale\n",
    "    imgArray = np.array(image)\n",
    "    imgArray = cv2.resize(imgArray, (128,128))\n",
    "    imgArray = np.expand_dims(imgArray, axis=2)\n",
    "\n",
    "    # store in array\n",
    "    val_array.append(imgArray)\n",
    "\n",
    "\n",
    "print(\"pause\")\n"
   ]
  },
  {
   "cell_type": "code",
   "execution_count": 35,
   "metadata": {},
   "outputs": [
    {
     "name": "stdout",
     "output_type": "stream",
     "text": [
      "pause\n",
      "pause\n"
     ]
    }
   ],
   "source": [
    "## -------------------------------------------------------------------\n",
    "#       Artificially create more images for a bigger dataset\n",
    "## -------------------------------------------------------------------\n",
    "# normalize the data\n",
    "train_gen = ImageDataGenerator(\n",
    "    #rescale=1./255,\n",
    "    rotation_range=360,\n",
    "    fill_mode='nearest',\n",
    "    brightness_range=[.4,1.4],\n",
    "    vertical_flip = True,\n",
    "    horizontal_flip = True\n",
    ")\n",
    "\n",
    "test_gen = ImageDataGenerator(\n",
    "    #rescale=1./255,\n",
    "    rotation_range=360,\n",
    "    fill_mode='nearest',\n",
    "    brightness_range=[.4,1.4],\n",
    "    vertical_flip = True,\n",
    "    horizontal_flip = True\n",
    ")\n",
    "\n",
    "## add more training images\n",
    "trainAug = []\n",
    "trainAugLabel = []\n",
    "\n",
    "for (i,v) in enumerate(x_label):\n",
    "    #print(\"i: \", i)\n",
    "    #print(\"v: \", v)\n",
    "    tempImg = np.expand_dims(train_array[i], axis=0)\n",
    "    aug = train_gen.flow(tempImg, batch_size=1, shuffle=True)\n",
    "    for addImages in range(80):\n",
    "        augImg = next(aug)[0].astype('uint8')\n",
    "        if np.size(augImg) == 128**2:\n",
    "            trainAug.append(augImg)\n",
    "            trainAugLabel.append(v)\n",
    "\n",
    "## add more validation images\n",
    "valAug = []\n",
    "valAugLabel = []\n",
    "\n",
    "for (i,v) in enumerate(val_label):\n",
    "    #print(\"i: \", i)\n",
    "    #print(\"v: \", v)\n",
    "    tempImg = np.expand_dims(val_array[i], axis=0)\n",
    "    aug = test_gen.flow(tempImg, batch_size=1)\n",
    "    for addImages in range(40):\n",
    "        augImg = next(aug)[0].astype('uint8')\n",
    "        if np.size(augImg) == 128**2:\n",
    "            valAug.append(augImg)\n",
    "            valAugLabel.append(v)\n",
    "\n",
    "print(\"pause\")\n",
    "\n",
    "trainAugLabel = tf.keras.utils.to_categorical(np.array(trainAugLabel))\n",
    "valAugLabel = tf.keras.utils.to_categorical(np.array(valAugLabel))\n",
    "\n",
    "\n",
    "print(\"pause\")\n",
    "\n",
    "# shuffle data\n",
    "trainAug, trainAugLabel = utils.shuffle(trainAug, trainAugLabel)\n",
    "valAug, valAugLabel = utils.shuffle(valAug, valAugLabel)\n",
    "\n"
   ]
  },
  {
   "cell_type": "code",
   "execution_count": 37,
   "metadata": {},
   "outputs": [
    {
     "data": {
      "image/png": "[encoded data removed]",
      "text/plain": [
       "<Figure size 864x360 with 2 Axes>"
      ]
     },
     "metadata": {
      "needs_background": "light"
     },
     "output_type": "display_data"
    },
    {
     "name": "stdout",
     "output_type": "stream",
     "text": [
      "Total training data samples:  5600\n",
      "Total validation data samples:  640\n",
      "Training-to-validation ratio:  11.0 %\n"
     ]
    }
   ],
   "source": [
    "fig, ax = plt.subplots(1,2)\n",
    "fig.set_size_inches(12,5)\n",
    "ax0 = sns.countplot(trainAugLabel[:,1], ax=ax[0])\n",
    "ax0.title.set_text(\"training data\")\n",
    "ax1 = sns.countplot(valAugLabel[:,1], ax=ax[1])\n",
    "ax1.title.set_text(\"validation data\")\n",
    "plt.show()\n",
    "\n",
    "print(\"Total training data samples: \", len(trainAug))\n",
    "print(\"Total validation data samples: \", len(valAug))\n",
    "print(\"Training-to-validation ratio: \", np.round(len(valAug)/len(trainAug),2)*100 , \"%\")"
   ]
  },
  {
   "cell_type": "code",
   "execution_count": null,
   "metadata": {},
   "outputs": [],
   "source": [
    "# plot images\n",
    "imgNum = 0 # insert number to view image\n",
    "imfile = Image.fromarray(np.squeeze(val_array[4]))\n",
    "imfile.show(imfile)   "
   ]
  },
  {
   "cell_type": "code",
   "execution_count": null,
   "metadata": {},
   "outputs": [],
   "source": [
    "reg = tf.keras.regularizers.l2(0.001)\n",
    "opt = tf.keras.optimizers.Adam(learning_rate=1e-3)\n",
    "\n",
    "model = Sequential([\n",
    "    Conv2D(32, (5,5), padding='same', strides=(1,1), dilation_rate = 1, activation='relu', kernel_regularizer=reg, input_shape=(128,128,1)),\n",
    "    MaxPool2D((7,7), strides=(2,2)),\n",
    "    Conv2D(32, (5,5), padding='same', strides=(1,1), dilation_rate = 2, activation='relu', kernel_regularizer=reg),\n",
    "    MaxPool2D((5,5), strides=(2,2)),\n",
    "    Conv2D(64, (3,3), padding='same', strides=(1,1), dilation_rate = 1, activation='relu', kernel_regularizer=reg),\n",
    "    MaxPool2D((3,3), strides=(1,1)),\n",
    "    Conv2D(128, (3,3), padding='same', strides=(1,1), dilation_rate = 2, activation='relu', kernel_regularizer=reg),\n",
    "    MaxPool2D((3,3), strides=(1,1)),\n",
    "    Flatten(),\n",
    "    Dense(128, activation='relu'),\n",
    "    Dropout(0.2),\n",
    "    Dense(32, activation='relu'),\n",
    "    Dense(2,activation='softmax')\n",
    "])\n",
    "\n",
    "model.compile(optimizer=opt, loss='binary_crossentropy', metrics=['accuracy'])\n",
    "model.summary()\n",
    "\n",
    "## Train the model\n",
    "trained_model = model.fit(np.array(trainAug), np.array(trainAugLabel), batch_size=128, epochs=20, validation_data=(np.array(valAug), np.array(valAugLabel)))"
   ]
  },
  {
   "cell_type": "code",
   "execution_count": null,
   "metadata": {},
   "outputs": [],
   "source": [
    "## -----------------------------------------------------------\n",
    "#                       Plot the Results\n",
    "## -----------------------------------------------------------\n",
    "# Accuracy and Validation Accuracy\n",
    "accuracy = trained_model.history['accuracy']\n",
    "val_acc = trained_model.history['val_accuracy']\n",
    "epochs = range(len(accuracy))\n",
    "\n",
    "plt.plot(epochs, accuracy, 'b', label='Training Accuracy')\n",
    "plt.plot(epochs, val_acc, 'r', label='Validation Accuracy')\n",
    "plt.title('Accuracy Graph')\n",
    "plt.legend()\n",
    "plt.grid()\n",
    "plt.figure()\n",
    "\n",
    "# Loss and Validation Loss\n",
    "loss = trained_model.history['loss']\n",
    "val_loss = trained_model.history['val_loss']\n",
    "\n",
    "plt.plot(epochs, loss, 'b', label='Training Loss')\n",
    "plt.plot(epochs, val_loss, 'r', label='Validation Loss')\n",
    "plt.title('Loss Graph')\n",
    "plt.legend()\n",
    "plt.grid()\n",
    "plt.show()"
   ]
  },
  {
   "cell_type": "code",
   "execution_count": null,
   "metadata": {},
   "outputs": [],
   "source": [
    "\n",
    "model = Sequential()\n",
    "model.add(Conv2D(32, (5,5), padding='same', strides=(1,1), dilation_rate = 1, activation=tf.keras.activations.LeakyReLU(alpha=0.1), kernel_regularizer=reg, input_shape=(128,128,1)))\n",
    "model.add(MaxPool2D((7,7), strides=(2,2)))\n",
    "model.add(Conv2D(64, (5,5), padding='same', strides=(1,1), dilation_rate = 1, activation=tf.keras.activations.LeakyReLU(alpha=0.1), kernel_regularizer=reg))\n",
    "model.add(MaxPool2D((3,3), strides=(2,2)))\n",
    "model.add(Conv2D(128, (3,3), padding='same', strides=(1,1), dilation_rate = 1, activation='relu', kernel_regularizer=reg))\n",
    "model.add(MaxPool2D((3,3), strides=(1,1)))\n",
    "model.add(Conv2D(256, (3,3), padding='same', strides=(1,1), dilation_rate = 2, activation='relu', kernel_regularizer=reg))\n",
    "model.add(MaxPool2D((3,3), strides=(1,1)))\n",
    "model.add(Flatten())\n",
    "model.add(Dropout(0.5))\n",
    "model.add(Dense(64, activation='relu'))\n",
    "model.add(Dropout(0.2))\n",
    "model.add(Dense(32, activation='relu'))\n",
    "model.add(Dropout(0.2))\n",
    "model.add(Dense(2,activation='softmax'))\n"
   ]
  },
  {
   "cell_type": "markdown",
   "metadata": {},
   "source": [
    "### Archive Models"
   ]
  },
  {
   "cell_type": "code",
   "execution_count": null,
   "metadata": {},
   "outputs": [],
   "source": [
    "## -----------------------------------------------------------\n",
    "#                       Build the Model\n",
    "## -----------------------------------------------------------\n",
    "\n",
    "model = Sequential([\n",
    "    Conv2D(16, (3,3), activation='relu', input_shape=(256,256,1)),\n",
    "    MaxPool2D((2,2)),\n",
    "    Conv2D(32, (3,3), activation='relu'),\n",
    "    MaxPool2D((2,2)),\n",
    "    Conv2D(32, (3,3), activation='relu'),\n",
    "    MaxPool2D((2,2)),\n",
    "    Dropout(0.1),\n",
    "    Flatten(),\n",
    "    Dense(512, activation='relu'),\n",
    "    Dense(1,activation='sigmoid')\n",
    "])\n",
    "\n",
    "'''\n",
    "model = Sequential([\n",
    "    Conv2D(16, (3,3), activation='relu', input_shape=(128,128,3)),\n",
    "    MaxPool2D((2,2)),\n",
    "    Dropout(0.25),\n",
    "    Conv2D(32, (3,3), activation='relu'),\n",
    "    MaxPool2D((2,2)),\n",
    "    Dropout(0.4),\n",
    "    Conv2D(64, (3,3), activation='relu'),\n",
    "    MaxPool2D((2,2)),\n",
    "    Dropout(0.4),\n",
    "    Conv2D(64, (3,3), activation='relu'),\n",
    "    MaxPool2D((2,2)),\n",
    "    Dropout(0.4),\n",
    "    Conv2D(64, (3,3), activation='relu'),\n",
    "    MaxPool2D((2,2)),\n",
    "    Dropout(0.4),\n",
    "    Flatten(),\n",
    "    Dense(512, activation='relu'),\n",
    "    Dropout(0.3),\n",
    "    Dense(1,activation='sigmoid')\n",
    "])\n",
    "\n",
    "\n",
    "model = Sequential([\n",
    "    Conv2D(32, (3,3), activation='relu', input_shape=(128,128,1)),\n",
    "    MaxPool2D((2,2)),\n",
    "    Dropout(0.25),\n",
    "    Conv2D(64, (3,3), activation='relu'),\n",
    "    MaxPool2D((2,2)),\n",
    "    Dropout(0.4),\n",
    "    Flatten(),\n",
    "    Dense(512, activation='relu'),\n",
    "    Dropout(0.3),\n",
    "    Dense(1,activation='sigmoid')\n",
    "])\n",
    "'''\n",
    "\n",
    "\n",
    "model = Sequential([\n",
    "    Conv2D(32, (5,5), padding='same', strides=(1,1), dilation_rate = 1, activation='relu', kernel_regularizer=reg, input_shape=(128,128,1)),\n",
    "    MaxPool2D((7,7), strides=(2,2)),\n",
    "    Conv2D(64, (5,5), padding='same', strides=(1,1), dilation_rate = 1, activation='relu', kernel_regularizer=reg),\n",
    "    MaxPool2D((3,3), strides=(2,2)),\n",
    "    Conv2D(128, (3,3), padding='same', strides=(1,1), dilation_rate = 1, activation='relu', kernel_regularizer=reg),\n",
    "    MaxPool2D((3,3), strides=(1,1)),\n",
    "    Conv2D(256, (3,3), padding='same', strides=(1,1), dilation_rate = 2, activation='relu', kernel_regularizer=reg),\n",
    "    MaxPool2D((3,3), strides=(1,1)),\n",
    "    Flatten(),\n",
    "    Dropout(0.5),\n",
    "    Dense(64, activation='relu'),\n",
    "    Dropout(0.2),\n",
    "    Dense(32, activation='relu'),\n",
    "    Dropout(0.2),\n",
    "    Dense(2,activation='softmax')\n",
    "])\n",
    "\n",
    "model.compile(optimizer='adam', loss='categorical_crossentropy', metrics=['accuracy'])\n",
    "model.summary()\n",
    "\n",
    "## Train the model\n",
    "trained_model = model.fit(np.array(trainAug), trainAugLabel, epochs=50, validation_data=(np.array(testAug), testAugLabel))"
   ]
  },
  {
   "cell_type": "code",
   "execution_count": 7,
   "metadata": {},
   "outputs": [
    {
     "name": "stdout",
     "output_type": "stream",
     "text": [
      "Model: \"sequential\"\n",
      "_________________________________________________________________\n",
      " Layer (type)                Output Shape              Param #   \n",
      "=================================================================\n",
      " conv1 (Conv2D)              (None, 128, 128, 128)     3328      \n",
      "                                                                 \n",
      " max_pooling2d (MaxPooling2D  (None, 40, 40, 128)      0         \n",
      " )                                                               \n",
      "                                                                 \n",
      " conv2 (Conv2D)              (None, 40, 40, 64)        204864    \n",
      "                                                                 \n",
      " max_pooling2d_1 (MaxPooling  (None, 12, 12, 64)       0         \n",
      " 2D)                                                             \n",
      "                                                                 \n",
      " conv3 (Conv2D)              (None, 12, 12, 32)        18464     \n",
      "                                                                 \n",
      " max_pooling2d_2 (MaxPooling  (None, 4, 4, 32)         0         \n",
      " 2D)                                                             \n",
      "                                                                 \n",
      " conv4 (Conv2D)              (None, 4, 4, 32)          9248      \n",
      "                                                                 \n",
      " max_pooling2d_3 (MaxPooling  (None, 1, 1, 32)         0         \n",
      " 2D)                                                             \n",
      "                                                                 \n",
      " flatten (Flatten)           (None, 32)                0         \n",
      "                                                                 \n",
      " dropout (Dropout)           (None, 32)                0         \n",
      "                                                                 \n",
      " fc1 (Dense)                 (None, 64)                2112      \n",
      "                                                                 \n",
      " dropout_1 (Dropout)         (None, 64)                0         \n",
      "                                                                 \n",
      " fc3 (Dense)                 (None, 2)                 130       \n",
      "                                                                 \n",
      "=================================================================\n",
      "Total params: 238,146\n",
      "Trainable params: 238,146\n",
      "Non-trainable params: 0\n",
      "_________________________________________________________________\n"
     ]
    }
   ],
   "source": [
    "newModel = tf.keras.models.load_model(\"h5model.h5\")\n",
    "\n",
    "newModel.summary()"
   ]
  },
  {
   "cell_type": "code",
   "execution_count": 36,
   "metadata": {},
   "outputs": [
    {
     "name": "stdout",
     "output_type": "stream",
     "text": [
      "20/20 - 7s - loss: 96.9120 - accuracy: 0.7766 - 7s/epoch - 357ms/step\n",
      "0.776562511920929\n"
     ]
    }
   ],
   "source": [
    "loss, acc = newModel.evaluate(np.array(valAug), valAugLabel, verbose=2)\n",
    "print(acc)"
   ]
  },
  {
   "cell_type": "code",
   "execution_count": null,
   "metadata": {},
   "outputs": [],
   "source": [
    "np.shape(val_array)"
   ]
  },
  {
   "cell_type": "code",
   "execution_count": null,
   "metadata": {},
   "outputs": [],
   "source": []
  }
 ],
 "metadata": {
  "interpreter": {
   "hash": "be06593c2f7c6c659d27d21530649fc496370ea6abbb7431f6c1d3f2c07b5e69"
  },
  "kernelspec": {
   "display_name": "Python 3.9.7 ('MLenv')",
   "language": "python",
   "name": "python3"
  },
  "language_info": {
   "codemirror_mode": {
    "name": "ipython",
    "version": 3
   },
   "file_extension": ".py",
   "mimetype": "text/x-python",
   "name": "python",
   "nbconvert_exporter": "python",
   "pygments_lexer": "ipython3",
   "version": "3.9.7"
  },
  "orig_nbformat": 4
 },
 "nbformat": 4,
 "nbformat_minor": 2
}
