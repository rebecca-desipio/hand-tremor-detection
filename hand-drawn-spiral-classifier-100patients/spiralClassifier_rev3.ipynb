{
 "cells": [
  {
   "cell_type": "markdown",
   "metadata": {},
   "source": [
    "# <center>**Distance Measurement Process**<center>\n",
    "\n",
    "#### **Goal:** obtain a distance error between the misclassified hand drawn spirals and the ideal model of an archimedean spiral.\n",
    "\n",
    "Any functions / processes that require the use of tensorflow or keras need to be in this file. Other functions can be in a seperate python file. \n",
    "\n",
    "## **Process**\n",
    "1. Preprocess the data for preparation to run through CNN model (need training, validation, and testing)\n",
    "    - If model already trained, only the testing data is needed for evaluation\n",
    "2. Evaluate the test data on the trained model \n",
    "    - Save and plot the results\n",
    "3. Create an ideal archimedean spiral model \n",
    "    - This will be used for calculating distance, and eventually error, between the patient's hand drawn spiral and the mathematical model of the spiral\n",
    "    - Plot the ideal spiral overlayed with the test spirals, along with their classifications\n",
    "    - Need to get the spiral one-pixel-width thick\n",
    "\n",
    "**Note: The following steps will ONLY be performed on spirals misclassified by the CNN**\n",
    "\n",
    "4. Calculate the locations of the centers of the test spirals (using objectDetection.ipynb)\n",
    "5.  Process each test spiral so that it is one-pixel-width thick\n",
    "    - Consider erosion and skeletonization for this\n",
    "6. Use the calculated locations of the center to unravel the spiral\n",
    "    - Will also need to unravel the ideal spiral\n",
    "7. Can then calculate the distance between the two and get an error measurement\n",
    "\n",
    "*Instead of unravelling first, can also attempt to calculate the distance between the two spirals overlayed, but I think this is a more complicated approach if unravelling can be done*\n"
   ]
  },
  {
   "cell_type": "code",
   "execution_count": null,
   "metadata": {},
   "outputs": [],
   "source": []
  }
 ],
 "metadata": {
  "kernelspec": {
   "display_name": "Python 3.9.7 ('MLEnv')",
   "language": "python",
   "name": "python3"
  },
  "language_info": {
   "name": "python",
   "version": "3.9.7"
  },
  "orig_nbformat": 4,
  "vscode": {
   "interpreter": {
    "hash": "e234cb3a6d44168381e6f6673d50d0e52fa65a6fba8cecddf6f45db9097571d7"
   }
  }
 },
 "nbformat": 4,
 "nbformat_minor": 2
}
